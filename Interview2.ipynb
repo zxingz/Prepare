{
 "cells": [
  {
   "cell_type": "code",
   "execution_count": 1,
   "metadata": {},
   "outputs": [],
   "source": [
    "import collections\n",
    "import heapq"
   ]
  },
  {
   "cell_type": "code",
   "execution_count": 11,
   "metadata": {},
   "outputs": [
    {
     "data": {
      "text/plain": [
       "[32, 65, 34, 67, 98, 10, 43, 12, 45, 78, 76, 21, 54, 23, 56, 89, 87]"
      ]
     },
     "execution_count": 11,
     "metadata": {},
     "output_type": "execute_result"
    }
   ],
   "source": [
    "def test(N,K):\n",
    "    res = set()\n",
    "    def helper(nums, last):\n",
    "        if len(nums)==N:\n",
    "            res.add(sum([nums[i]*(10**i)for i in range(0,N)]))\n",
    "            return\n",
    "        if last+K<=9:\n",
    "            helper([last+K]+nums, last+K)\n",
    "        if last-K>=0:\n",
    "            helper([last-K]+nums, last-K)\n",
    "    \n",
    "    start = 1\n",
    "    if N==1:\n",
    "        start = 0\n",
    "    for i in range(start,10):\n",
    "        helper([i], i)\n",
    "    return list(res)\n",
    "test(2,1)"
   ]
  },
  {
   "cell_type": "code",
   "execution_count": 40,
   "metadata": {},
   "outputs": [
    {
     "name": "stdout",
     "output_type": "stream",
     "text": [
      "[[0, [0, 1]], [1, [2]], [5, [3]]]\n",
      "[0, [0, 1]]\n",
      "[5, [3]]\n"
     ]
    },
    {
     "data": {
      "text/plain": [
       "[None, 0, None, 5]"
      ]
     },
     "execution_count": 40,
     "metadata": {},
     "output_type": "execute_result"
    }
   ],
   "source": [
    "def test(times, directions):\n",
    "    ret = [None for _ in range(0,len(times))]\n",
    "    dm = collections.defaultdict(list)\n",
    "    for i,t in enumerate(times):\n",
    "        dm[t].append(i)\n",
    "    dm = [list(x) for x in dm.items()]\n",
    "    heapq.heapify(dm)\n",
    "    lastop = 1\n",
    "    print(dm)\n",
    "    while len(dm) !=0:\n",
    "        custs = heapq.heappop(dm)\n",
    "        print(custs)\n",
    "        if len(custs[1]) ==1:\n",
    "            ret[custs[1][0]] = custs[0]\n",
    "            lstop = directions[custs[1][0]]\n",
    "        else:\n",
    "            same_dirs = [x for x in custs[1] if directions[x] == lastop]\n",
    "            if len(same_dirs) !=0:\n",
    "                selected = min(same_dirs)\n",
    "            else:\n",
    "                selected = min(custs[1])\n",
    "            ret[selected] = custs[0]\n",
    "            if len(dm) ==0:\n",
    "                heapq.heappush(dm,[custs[0]+1, [x for x in custs[1] if x != selected]])\n",
    "            else:\n",
    "                nxt = heapq.heappop(dm)\n",
    "                if nxt[0]==custs[0]+1:\n",
    "                    nxt[1]=tuple(list(nxt[1])+[x for x in custs[1] if x != selected])\n",
    "                else:\n",
    "                    heapq.heappush(dm,nxt)\n",
    "                    heapq.heappush(dm,[custs[0]+1, [x for x in custs[1] if x != selected]])\n",
    "    return ret\n",
    "            \n",
    "        \n",
    "test([0,0,1,5],[0,1,1,0])"
   ]
  },
  {
   "cell_type": "code",
   "execution_count": null,
   "metadata": {},
   "outputs": [],
   "source": []
  }
 ],
 "metadata": {
  "kernelspec": {
   "display_name": "Python 3",
   "language": "python",
   "name": "python3"
  },
  "language_info": {
   "codemirror_mode": {
    "name": "ipython",
    "version": 3
   },
   "file_extension": ".py",
   "mimetype": "text/x-python",
   "name": "python",
   "nbconvert_exporter": "python",
   "pygments_lexer": "ipython3",
   "version": "3.8.3"
  }
 },
 "nbformat": 4,
 "nbformat_minor": 4
}
