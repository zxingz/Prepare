{
 "cells": [
  {
   "cell_type": "code",
   "execution_count": 2,
   "metadata": {
    "ExecuteTime": {
     "end_time": "2020-04-29T16:59:28.658000Z",
     "start_time": "2020-04-29T16:59:24.592000Z"
    }
   },
   "outputs": [
    {
     "ename": "OperationalError",
     "evalue": "could not connect to server: Connection refused (0x0000274D/10061)\n\tIs the server running on host \"localhost\" (::1) and accepting\n\tTCP/IP connections on port 5432?\ncould not connect to server: Connection refused (0x0000274D/10061)\n\tIs the server running on host \"localhost\" (127.0.0.1) and accepting\n\tTCP/IP connections on port 5432?\n",
     "output_type": "error",
     "traceback": [
      "\u001b[1;31m---------------------------------------------------------------------------\u001b[0m",
      "\u001b[1;31mOperationalError\u001b[0m                          Traceback (most recent call last)",
      "\u001b[1;32m<ipython-input-2-86d42f9298e8>\u001b[0m in \u001b[0;36m<module>\u001b[1;34m\u001b[0m\n\u001b[0;32m     42\u001b[0m     \u001b[1;32mexcept\u001b[0m\u001b[1;33m:\u001b[0m\u001b[1;33m\u001b[0m\u001b[1;33m\u001b[0m\u001b[0m\n\u001b[0;32m     43\u001b[0m         \u001b[1;32mpass\u001b[0m\u001b[1;33m\u001b[0m\u001b[1;33m\u001b[0m\u001b[0m\n\u001b[1;32m---> 44\u001b[1;33m \u001b[0mpg_conn\u001b[0m \u001b[1;33m=\u001b[0m \u001b[0mpsycopg2\u001b[0m\u001b[1;33m.\u001b[0m\u001b[0mconnect\u001b[0m\u001b[1;33m(\u001b[0m\u001b[0mhost\u001b[0m\u001b[1;33m=\u001b[0m\u001b[1;34m\"localhost\"\u001b[0m\u001b[1;33m,\u001b[0m \u001b[0mport\u001b[0m \u001b[1;33m=\u001b[0m \u001b[1;36m5432\u001b[0m\u001b[1;33m,\u001b[0m \u001b[0mdatabase\u001b[0m\u001b[1;33m=\u001b[0m\u001b[1;34m\"postgres\"\u001b[0m\u001b[1;33m,\u001b[0m \u001b[0muser\u001b[0m\u001b[1;33m=\u001b[0m\u001b[1;34m\"postgres\"\u001b[0m\u001b[1;33m,\u001b[0m \u001b[0mpassword\u001b[0m\u001b[1;33m=\u001b[0m\u001b[1;34m\"postgres\"\u001b[0m\u001b[1;33m)\u001b[0m\u001b[1;33m\u001b[0m\u001b[1;33m\u001b[0m\u001b[0m\n\u001b[0m\u001b[0;32m     45\u001b[0m \u001b[0mpg_cur\u001b[0m \u001b[1;33m=\u001b[0m \u001b[0mpg_conn\u001b[0m\u001b[1;33m.\u001b[0m\u001b[0mcursor\u001b[0m\u001b[1;33m(\u001b[0m\u001b[1;33m)\u001b[0m\u001b[1;33m\u001b[0m\u001b[1;33m\u001b[0m\u001b[0m\n",
      "\u001b[1;32mc:\\venv38\\lib\\site-packages\\psycopg2\\__init__.py\u001b[0m in \u001b[0;36mconnect\u001b[1;34m(dsn, connection_factory, cursor_factory, **kwargs)\u001b[0m\n\u001b[0;32m    125\u001b[0m \u001b[1;33m\u001b[0m\u001b[0m\n\u001b[0;32m    126\u001b[0m     \u001b[0mdsn\u001b[0m \u001b[1;33m=\u001b[0m \u001b[0m_ext\u001b[0m\u001b[1;33m.\u001b[0m\u001b[0mmake_dsn\u001b[0m\u001b[1;33m(\u001b[0m\u001b[0mdsn\u001b[0m\u001b[1;33m,\u001b[0m \u001b[1;33m**\u001b[0m\u001b[0mkwargs\u001b[0m\u001b[1;33m)\u001b[0m\u001b[1;33m\u001b[0m\u001b[1;33m\u001b[0m\u001b[0m\n\u001b[1;32m--> 127\u001b[1;33m     \u001b[0mconn\u001b[0m \u001b[1;33m=\u001b[0m \u001b[0m_connect\u001b[0m\u001b[1;33m(\u001b[0m\u001b[0mdsn\u001b[0m\u001b[1;33m,\u001b[0m \u001b[0mconnection_factory\u001b[0m\u001b[1;33m=\u001b[0m\u001b[0mconnection_factory\u001b[0m\u001b[1;33m,\u001b[0m \u001b[1;33m**\u001b[0m\u001b[0mkwasync\u001b[0m\u001b[1;33m)\u001b[0m\u001b[1;33m\u001b[0m\u001b[1;33m\u001b[0m\u001b[0m\n\u001b[0m\u001b[0;32m    128\u001b[0m     \u001b[1;32mif\u001b[0m \u001b[0mcursor_factory\u001b[0m \u001b[1;32mis\u001b[0m \u001b[1;32mnot\u001b[0m \u001b[1;32mNone\u001b[0m\u001b[1;33m:\u001b[0m\u001b[1;33m\u001b[0m\u001b[1;33m\u001b[0m\u001b[0m\n\u001b[0;32m    129\u001b[0m         \u001b[0mconn\u001b[0m\u001b[1;33m.\u001b[0m\u001b[0mcursor_factory\u001b[0m \u001b[1;33m=\u001b[0m \u001b[0mcursor_factory\u001b[0m\u001b[1;33m\u001b[0m\u001b[1;33m\u001b[0m\u001b[0m\n",
      "\u001b[1;31mOperationalError\u001b[0m: could not connect to server: Connection refused (0x0000274D/10061)\n\tIs the server running on host \"localhost\" (::1) and accepting\n\tTCP/IP connections on port 5432?\ncould not connect to server: Connection refused (0x0000274D/10061)\n\tIs the server running on host \"localhost\" (127.0.0.1) and accepting\n\tTCP/IP connections on port 5432?\n"
     ]
    }
   ],
   "source": [
    "import collections\n",
    "import json\n",
    "import itertools\n",
    "import operator\n",
    "import heapq\n",
    "import re\n",
    "import bisect\n",
    "import random\n",
    "from IPython.display import IFrame, HTML, Javascript\n",
    "from uuid import uuid4\n",
    "from datetime import datetime\n",
    "import ipywidgets as widgets\n",
    "import pandas as pd\n",
    "import json\n",
    "import psycopg2\n",
    "import redis\n",
    "\n",
    "\n",
    "def dh(s):\n",
    "    display(HTML(s))\n",
    "    \n",
    "def link(s):\n",
    "    return '<a href=\"'+s+'\" target=\"_blank\">'+s+'</a>'\n",
    "\n",
    "if 'redis_conn' not  in globals():\n",
    "    try:\n",
    "        redis_conn.close()\n",
    "    except:\n",
    "        pass\n",
    "redis_conn = redis.Redis(host='localhost', port=6379, db=0)\n",
    "\n",
    "\n",
    "if 'pg_cur' in globals():\n",
    "    try:\n",
    "        pg_cur.close()\n",
    "    except:\n",
    "        pass\n",
    "\n",
    "if 'pg_conn' not in globals():\n",
    "    try:\n",
    "        pg_conn.close()\n",
    "    except:\n",
    "        pass\n",
    "pg_conn = psycopg2.connect(host=\"localhost\", port = 5432, database=\"postgres\", user=\"postgres\", password=\"postgres\")\n",
    "pg_cur = pg_conn.cursor()\n"
   ]
  },
  {
   "cell_type": "markdown",
   "metadata": {},
   "source": [
    "#### "
   ]
  },
  {
   "cell_type": "markdown",
   "metadata": {
    "ExecuteTime": {
     "end_time": "2020-04-23T15:27:13.401000Z",
     "start_time": "2020-04-23T15:27:13.388000Z"
    }
   },
   "source": [
    "<h2> LP</h2>"
   ]
  },
  {
   "cell_type": "code",
   "execution_count": 3,
   "metadata": {
    "ExecuteTime": {
     "end_time": "2020-04-25T01:43:54.546000Z",
     "start_time": "2020-04-25T01:43:54.536000Z"
    }
   },
   "outputs": [
    {
     "data": {
      "text/html": [
       "\n",
       "<h3>Resume</h3><br>\n",
       "<a href=\"https://github.com/zxingz/Resume/blob/master/Vishnu-Resume.pdf\" target=\"_blank\">https://github.com/zxingz/Resume/blob/master/Vishnu-Resume.pdf</a>"
      ],
      "text/plain": [
       "<IPython.core.display.HTML object>"
      ]
     },
     "metadata": {},
     "output_type": "display_data"
    }
   ],
   "source": [
    "html = '''\n",
    "<h3>Resume</h3><br>\n",
    "'''+ \\\n",
    "link('https://github.com/zxingz/Resume/blob/master/Vishnu-Resume.pdf')\n",
    "dh(html)"
   ]
  },
  {
   "cell_type": "code",
   "execution_count": 4,
   "metadata": {
    "ExecuteTime": {
     "end_time": "2020-04-25T01:43:56.172000Z",
     "start_time": "2020-04-25T01:43:56.162000Z"
    },
    "cell_style": "center"
   },
   "outputs": [
    {
     "data": {
      "text/html": [
       "\n",
       "        <iframe\n",
       "            width=\"1000\"\n",
       "            height=\"600\"\n",
       "            src=\"https://medium.com/@scarletinked/are-you-the-leader-were-looking-for-interviewing-at-amazon-8301d787815d?style=-webkit-transform%3Ascale%280.5%29%3B-moz-transform-scale%280.5%29%3B\"\n",
       "            frameborder=\"0\"\n",
       "            allowfullscreen\n",
       "        ></iframe>\n",
       "        "
      ],
      "text/plain": [
       "<IPython.lib.display.IFrame at 0x1a1aa3cb160>"
      ]
     },
     "metadata": {},
     "output_type": "display_data"
    }
   ],
   "source": [
    "display(IFrame(src='https://medium.com/@scarletinked/are-you-the-leader-were-looking-for-interviewing-at-amazon-8301d787815d',\n",
    "              height=600,\n",
    "              width = 1000,\n",
    "              style=\"-webkit-transform:scale(0.5);-moz-transform-scale(0.5);\"))"
   ]
  },
  {
   "cell_type": "markdown",
   "metadata": {
    "ExecuteTime": {
     "end_time": "2020-04-23T16:39:54.889000Z",
     "start_time": "2020-04-23T16:39:54.885000Z"
    },
    "cell_style": "center"
   },
   "source": [
    "### Custome Obsession\n",
    "1. When I was working for EY i was deployed at a medium sized chemical company where I was working on developing Sales Order from in the SAP CRM software. The form included company letter head with Tel no. and address, the products purchased, quantity, price, taxes, discount total and company stamp. It did not included the sales person's contact details. I added a check box in the UI to enable the sales persons name and phone in the form so that their customers know who to contact and do not call their head office.\n",
    "<br><BR>\n",
    "2. "
   ]
  },
  {
   "cell_type": "markdown",
   "metadata": {
    "ExecuteTime": {
     "end_time": "2020-04-20T18:25:04.324000Z",
     "start_time": "2020-04-20T18:25:04.315000Z"
    }
   },
   "source": [
    "<h2> System Design</h2>"
   ]
  },
  {
   "cell_type": "code",
   "execution_count": 244,
   "metadata": {
    "ExecuteTime": {
     "end_time": "2020-04-24T01:01:44.084000Z",
     "start_time": "2020-04-24T01:01:44.076000Z"
    }
   },
   "outputs": [
    {
     "data": {
      "text/plain": [
       "'\\ndesign Instagram\\ndesign a Vending machine\\nDesign Tiny URL\\nDesign Tic Tac Toe\\nDesign product page of amazon [ Scope limited to only the product information display. No search bar, recommendations, etc. ]\\nparking lot\\nbike share\\nrecently played songs.\\nDesing Question on ATM Design\\nDesign QUestion on Designing Search Engine for Facebook Pages or Posts or blogs \\nHigh level design for Dropbox( ~ 40 mins)\\nLow-level design on a parking lot( ~ 40 mins)\\nHigh-level System design for Fitbit and notification system on anomaly detection\\ndesign youtube\\n\\n559796\\n'"
      ]
     },
     "execution_count": 244,
     "metadata": {},
     "output_type": "execute_result"
    }
   ],
   "source": [
    "'''\n",
    "design Instagram\n",
    "design a Vending machine\n",
    "Design Tiny URL\n",
    "Design Tic Tac Toe\n",
    "Design product page of amazon [ Scope limited to only the product information display. No search bar, recommendations, etc. ]\n",
    "parking lot\n",
    "bike share\n",
    "recently played songs.\n",
    "Desing Question on ATM Design\n",
    "Design QUestion on Designing Search Engine for Facebook Pages or Posts or blogs \n",
    "High level design for Dropbox( ~ 40 mins)\n",
    "Low-level design on a parking lot( ~ 40 mins)\n",
    "High-level System design for Fitbit and notification system on anomaly detection\n",
    "design youtube\n",
    "Design a recommendation system for Amazon e-commerce website(availability or consistenc)\n",
    "Design the coupon code functionality on the Amazon checkout page \n",
    "'''"
   ]
  },
  {
   "cell_type": "code",
   "execution_count": 42,
   "metadata": {
    "ExecuteTime": {
     "end_time": "2020-04-20T13:53:20.464000Z",
     "start_time": "2020-04-20T13:53:20.392000Z"
    }
   },
   "outputs": [
    {
     "data": {
      "text/plain": [
       "[('postgres',\n",
       "  'pg_catalog',\n",
       "  'pg_statistic',\n",
       "  'BASE TABLE',\n",
       "  None,\n",
       "  None,\n",
       "  None,\n",
       "  None,\n",
       "  None,\n",
       "  'YES',\n",
       "  'NO',\n",
       "  None),\n",
       " ('postgres',\n",
       "  'pg_catalog',\n",
       "  'pg_type',\n",
       "  'BASE TABLE',\n",
       "  None,\n",
       "  None,\n",
       "  None,\n",
       "  None,\n",
       "  None,\n",
       "  'YES',\n",
       "  'NO',\n",
       "  None),\n",
       " ('postgres',\n",
       "  'pg_catalog',\n",
       "  'pg_foreign_server',\n",
       "  'BASE TABLE',\n",
       "  None,\n",
       "  None,\n",
       "  None,\n",
       "  None,\n",
       "  None,\n",
       "  'YES',\n",
       "  'NO',\n",
       "  None),\n",
       " ('postgres',\n",
       "  'pg_catalog',\n",
       "  'pg_authid',\n",
       "  'BASE TABLE',\n",
       "  None,\n",
       "  None,\n",
       "  None,\n",
       "  None,\n",
       "  None,\n",
       "  'YES',\n",
       "  'NO',\n",
       "  None),\n",
       " ('postgres',\n",
       "  'pg_catalog',\n",
       "  'pg_shadow',\n",
       "  'VIEW',\n",
       "  None,\n",
       "  None,\n",
       "  None,\n",
       "  None,\n",
       "  None,\n",
       "  'NO',\n",
       "  'NO',\n",
       "  None),\n",
       " ('postgres',\n",
       "  'pg_catalog',\n",
       "  'pg_statistic_ext_data',\n",
       "  'BASE TABLE',\n",
       "  None,\n",
       "  None,\n",
       "  None,\n",
       "  None,\n",
       "  None,\n",
       "  'YES',\n",
       "  'NO',\n",
       "  None),\n",
       " ('postgres',\n",
       "  'pg_catalog',\n",
       "  'pg_roles',\n",
       "  'VIEW',\n",
       "  None,\n",
       "  None,\n",
       "  None,\n",
       "  None,\n",
       "  None,\n",
       "  'NO',\n",
       "  'NO',\n",
       "  None),\n",
       " ('postgres',\n",
       "  'pg_catalog',\n",
       "  'pg_settings',\n",
       "  'VIEW',\n",
       "  None,\n",
       "  None,\n",
       "  None,\n",
       "  None,\n",
       "  None,\n",
       "  'NO',\n",
       "  'NO',\n",
       "  None),\n",
       " ('postgres',\n",
       "  'pg_catalog',\n",
       "  'pg_file_settings',\n",
       "  'VIEW',\n",
       "  None,\n",
       "  None,\n",
       "  None,\n",
       "  None,\n",
       "  None,\n",
       "  'NO',\n",
       "  'NO',\n",
       "  None),\n",
       " ('postgres',\n",
       "  'pg_catalog',\n",
       "  'pg_hba_file_rules',\n",
       "  'VIEW',\n",
       "  None,\n",
       "  None,\n",
       "  None,\n",
       "  None,\n",
       "  None,\n",
       "  'NO',\n",
       "  'NO',\n",
       "  None),\n",
       " ('postgres',\n",
       "  'pg_catalog',\n",
       "  'pg_config',\n",
       "  'VIEW',\n",
       "  None,\n",
       "  None,\n",
       "  None,\n",
       "  None,\n",
       "  None,\n",
       "  'NO',\n",
       "  'NO',\n",
       "  None),\n",
       " ('postgres',\n",
       "  'pg_catalog',\n",
       "  'pg_cursors',\n",
       "  'VIEW',\n",
       "  None,\n",
       "  None,\n",
       "  None,\n",
       "  None,\n",
       "  None,\n",
       "  'NO',\n",
       "  'NO',\n",
       "  None),\n",
       " ('postgres',\n",
       "  'pg_catalog',\n",
       "  'pg_user_mapping',\n",
       "  'BASE TABLE',\n",
       "  None,\n",
       "  None,\n",
       "  None,\n",
       "  None,\n",
       "  None,\n",
       "  'YES',\n",
       "  'NO',\n",
       "  None),\n",
       " ('postgres',\n",
       "  'pg_catalog',\n",
       "  'pg_stat_bgwriter',\n",
       "  'VIEW',\n",
       "  None,\n",
       "  None,\n",
       "  None,\n",
       "  None,\n",
       "  None,\n",
       "  'NO',\n",
       "  'NO',\n",
       "  None),\n",
       " ('postgres',\n",
       "  'pg_catalog',\n",
       "  'pg_replication_origin_status',\n",
       "  'VIEW',\n",
       "  None,\n",
       "  None,\n",
       "  None,\n",
       "  None,\n",
       "  None,\n",
       "  'NO',\n",
       "  'NO',\n",
       "  None),\n",
       " ('postgres',\n",
       "  'pg_catalog',\n",
       "  'pg_subscription',\n",
       "  'BASE TABLE',\n",
       "  None,\n",
       "  None,\n",
       "  None,\n",
       "  None,\n",
       "  None,\n",
       "  'YES',\n",
       "  'NO',\n",
       "  None),\n",
       " ('postgres',\n",
       "  'pg_catalog',\n",
       "  'pg_stat_progress_vacuum',\n",
       "  'VIEW',\n",
       "  None,\n",
       "  None,\n",
       "  None,\n",
       "  None,\n",
       "  None,\n",
       "  'NO',\n",
       "  'NO',\n",
       "  None),\n",
       " ('postgres',\n",
       "  'pg_catalog',\n",
       "  'pg_stat_progress_cluster',\n",
       "  'VIEW',\n",
       "  None,\n",
       "  None,\n",
       "  None,\n",
       "  None,\n",
       "  None,\n",
       "  'NO',\n",
       "  'NO',\n",
       "  None),\n",
       " ('postgres',\n",
       "  'pg_catalog',\n",
       "  'pg_attribute',\n",
       "  'BASE TABLE',\n",
       "  None,\n",
       "  None,\n",
       "  None,\n",
       "  None,\n",
       "  None,\n",
       "  'YES',\n",
       "  'NO',\n",
       "  None),\n",
       " ('postgres',\n",
       "  'pg_catalog',\n",
       "  'pg_proc',\n",
       "  'BASE TABLE',\n",
       "  None,\n",
       "  None,\n",
       "  None,\n",
       "  None,\n",
       "  None,\n",
       "  'YES',\n",
       "  'NO',\n",
       "  None),\n",
       " ('postgres',\n",
       "  'pg_catalog',\n",
       "  'pg_class',\n",
       "  'BASE TABLE',\n",
       "  None,\n",
       "  None,\n",
       "  None,\n",
       "  None,\n",
       "  None,\n",
       "  'YES',\n",
       "  'NO',\n",
       "  None),\n",
       " ('postgres',\n",
       "  'pg_catalog',\n",
       "  'pg_attrdef',\n",
       "  'BASE TABLE',\n",
       "  None,\n",
       "  None,\n",
       "  None,\n",
       "  None,\n",
       "  None,\n",
       "  'YES',\n",
       "  'NO',\n",
       "  None),\n",
       " ('postgres',\n",
       "  'pg_catalog',\n",
       "  'pg_constraint',\n",
       "  'BASE TABLE',\n",
       "  None,\n",
       "  None,\n",
       "  None,\n",
       "  None,\n",
       "  None,\n",
       "  'YES',\n",
       "  'NO',\n",
       "  None),\n",
       " ('postgres',\n",
       "  'pg_catalog',\n",
       "  'pg_inherits',\n",
       "  'BASE TABLE',\n",
       "  None,\n",
       "  None,\n",
       "  None,\n",
       "  None,\n",
       "  None,\n",
       "  'YES',\n",
       "  'NO',\n",
       "  None),\n",
       " ('postgres',\n",
       "  'pg_catalog',\n",
       "  'pg_index',\n",
       "  'BASE TABLE',\n",
       "  None,\n",
       "  None,\n",
       "  None,\n",
       "  None,\n",
       "  None,\n",
       "  'YES',\n",
       "  'NO',\n",
       "  None),\n",
       " ('postgres',\n",
       "  'pg_catalog',\n",
       "  'pg_operator',\n",
       "  'BASE TABLE',\n",
       "  None,\n",
       "  None,\n",
       "  None,\n",
       "  None,\n",
       "  None,\n",
       "  'YES',\n",
       "  'NO',\n",
       "  None),\n",
       " ('postgres',\n",
       "  'pg_catalog',\n",
       "  'pg_opfamily',\n",
       "  'BASE TABLE',\n",
       "  None,\n",
       "  None,\n",
       "  None,\n",
       "  None,\n",
       "  None,\n",
       "  'YES',\n",
       "  'NO',\n",
       "  None),\n",
       " ('postgres',\n",
       "  'pg_catalog',\n",
       "  'pg_opclass',\n",
       "  'BASE TABLE',\n",
       "  None,\n",
       "  None,\n",
       "  None,\n",
       "  None,\n",
       "  None,\n",
       "  'YES',\n",
       "  'NO',\n",
       "  None),\n",
       " ('postgres',\n",
       "  'pg_catalog',\n",
       "  'pg_am',\n",
       "  'BASE TABLE',\n",
       "  None,\n",
       "  None,\n",
       "  None,\n",
       "  None,\n",
       "  None,\n",
       "  'YES',\n",
       "  'NO',\n",
       "  None),\n",
       " ('postgres',\n",
       "  'pg_catalog',\n",
       "  'pg_amop',\n",
       "  'BASE TABLE',\n",
       "  None,\n",
       "  None,\n",
       "  None,\n",
       "  None,\n",
       "  None,\n",
       "  'YES',\n",
       "  'NO',\n",
       "  None),\n",
       " ('postgres',\n",
       "  'pg_catalog',\n",
       "  'pg_amproc',\n",
       "  'BASE TABLE',\n",
       "  None,\n",
       "  None,\n",
       "  None,\n",
       "  None,\n",
       "  None,\n",
       "  'YES',\n",
       "  'NO',\n",
       "  None),\n",
       " ('postgres',\n",
       "  'pg_catalog',\n",
       "  'pg_language',\n",
       "  'BASE TABLE',\n",
       "  None,\n",
       "  None,\n",
       "  None,\n",
       "  None,\n",
       "  None,\n",
       "  'YES',\n",
       "  'NO',\n",
       "  None),\n",
       " ('postgres',\n",
       "  'pg_catalog',\n",
       "  'pg_largeobject_metadata',\n",
       "  'BASE TABLE',\n",
       "  None,\n",
       "  None,\n",
       "  None,\n",
       "  None,\n",
       "  None,\n",
       "  'YES',\n",
       "  'NO',\n",
       "  None),\n",
       " ('postgres',\n",
       "  'pg_catalog',\n",
       "  'pg_aggregate',\n",
       "  'BASE TABLE',\n",
       "  None,\n",
       "  None,\n",
       "  None,\n",
       "  None,\n",
       "  None,\n",
       "  'YES',\n",
       "  'NO',\n",
       "  None),\n",
       " ('postgres',\n",
       "  'pg_catalog',\n",
       "  'pg_stat_progress_create_index',\n",
       "  'VIEW',\n",
       "  None,\n",
       "  None,\n",
       "  None,\n",
       "  None,\n",
       "  None,\n",
       "  'NO',\n",
       "  'NO',\n",
       "  None),\n",
       " ('postgres',\n",
       "  'pg_catalog',\n",
       "  'pg_user_mappings',\n",
       "  'VIEW',\n",
       "  None,\n",
       "  None,\n",
       "  None,\n",
       "  None,\n",
       "  None,\n",
       "  'NO',\n",
       "  'NO',\n",
       "  None),\n",
       " ('postgres',\n",
       "  'pg_catalog',\n",
       "  'pg_largeobject',\n",
       "  'BASE TABLE',\n",
       "  None,\n",
       "  None,\n",
       "  None,\n",
       "  None,\n",
       "  None,\n",
       "  'YES',\n",
       "  'NO',\n",
       "  None),\n",
       " ('postgres',\n",
       "  'pg_catalog',\n",
       "  'pg_statistic_ext',\n",
       "  'BASE TABLE',\n",
       "  None,\n",
       "  None,\n",
       "  None,\n",
       "  None,\n",
       "  None,\n",
       "  'YES',\n",
       "  'NO',\n",
       "  None),\n",
       " ('postgres',\n",
       "  'pg_catalog',\n",
       "  'pg_rewrite',\n",
       "  'BASE TABLE',\n",
       "  None,\n",
       "  None,\n",
       "  None,\n",
       "  None,\n",
       "  None,\n",
       "  'YES',\n",
       "  'NO',\n",
       "  None),\n",
       " ('postgres',\n",
       "  'pg_catalog',\n",
       "  'pg_trigger',\n",
       "  'BASE TABLE',\n",
       "  None,\n",
       "  None,\n",
       "  None,\n",
       "  None,\n",
       "  None,\n",
       "  'YES',\n",
       "  'NO',\n",
       "  None),\n",
       " ('postgres',\n",
       "  'pg_catalog',\n",
       "  'pg_event_trigger',\n",
       "  'BASE TABLE',\n",
       "  None,\n",
       "  None,\n",
       "  None,\n",
       "  None,\n",
       "  None,\n",
       "  'YES',\n",
       "  'NO',\n",
       "  None),\n",
       " ('postgres',\n",
       "  'pg_catalog',\n",
       "  'pg_description',\n",
       "  'BASE TABLE',\n",
       "  None,\n",
       "  None,\n",
       "  None,\n",
       "  None,\n",
       "  None,\n",
       "  'YES',\n",
       "  'NO',\n",
       "  None),\n",
       " ('postgres',\n",
       "  'pg_catalog',\n",
       "  'pg_cast',\n",
       "  'BASE TABLE',\n",
       "  None,\n",
       "  None,\n",
       "  None,\n",
       "  None,\n",
       "  None,\n",
       "  'YES',\n",
       "  'NO',\n",
       "  None),\n",
       " ('postgres',\n",
       "  'pg_catalog',\n",
       "  'pg_enum',\n",
       "  'BASE TABLE',\n",
       "  None,\n",
       "  None,\n",
       "  None,\n",
       "  None,\n",
       "  None,\n",
       "  'YES',\n",
       "  'NO',\n",
       "  None),\n",
       " ('postgres',\n",
       "  'pg_catalog',\n",
       "  'pg_namespace',\n",
       "  'BASE TABLE',\n",
       "  None,\n",
       "  None,\n",
       "  None,\n",
       "  None,\n",
       "  None,\n",
       "  'YES',\n",
       "  'NO',\n",
       "  None),\n",
       " ('postgres',\n",
       "  'pg_catalog',\n",
       "  'pg_conversion',\n",
       "  'BASE TABLE',\n",
       "  None,\n",
       "  None,\n",
       "  None,\n",
       "  None,\n",
       "  None,\n",
       "  'YES',\n",
       "  'NO',\n",
       "  None),\n",
       " ('postgres',\n",
       "  'pg_catalog',\n",
       "  'pg_depend',\n",
       "  'BASE TABLE',\n",
       "  None,\n",
       "  None,\n",
       "  None,\n",
       "  None,\n",
       "  None,\n",
       "  'YES',\n",
       "  'NO',\n",
       "  None),\n",
       " ('postgres',\n",
       "  'pg_catalog',\n",
       "  'pg_database',\n",
       "  'BASE TABLE',\n",
       "  None,\n",
       "  None,\n",
       "  None,\n",
       "  None,\n",
       "  None,\n",
       "  'YES',\n",
       "  'NO',\n",
       "  None),\n",
       " ('postgres',\n",
       "  'pg_catalog',\n",
       "  'pg_db_role_setting',\n",
       "  'BASE TABLE',\n",
       "  None,\n",
       "  None,\n",
       "  None,\n",
       "  None,\n",
       "  None,\n",
       "  'YES',\n",
       "  'NO',\n",
       "  None),\n",
       " ('postgres',\n",
       "  'pg_catalog',\n",
       "  'pg_tablespace',\n",
       "  'BASE TABLE',\n",
       "  None,\n",
       "  None,\n",
       "  None,\n",
       "  None,\n",
       "  None,\n",
       "  'YES',\n",
       "  'NO',\n",
       "  None),\n",
       " ('postgres',\n",
       "  'pg_catalog',\n",
       "  'pg_pltemplate',\n",
       "  'BASE TABLE',\n",
       "  None,\n",
       "  None,\n",
       "  None,\n",
       "  None,\n",
       "  None,\n",
       "  'YES',\n",
       "  'NO',\n",
       "  None),\n",
       " ('postgres',\n",
       "  'pg_catalog',\n",
       "  'pg_auth_members',\n",
       "  'BASE TABLE',\n",
       "  None,\n",
       "  None,\n",
       "  None,\n",
       "  None,\n",
       "  None,\n",
       "  'YES',\n",
       "  'NO',\n",
       "  None),\n",
       " ('postgres',\n",
       "  'pg_catalog',\n",
       "  'pg_shdepend',\n",
       "  'BASE TABLE',\n",
       "  None,\n",
       "  None,\n",
       "  None,\n",
       "  None,\n",
       "  None,\n",
       "  'YES',\n",
       "  'NO',\n",
       "  None),\n",
       " ('postgres',\n",
       "  'pg_catalog',\n",
       "  'pg_shdescription',\n",
       "  'BASE TABLE',\n",
       "  None,\n",
       "  None,\n",
       "  None,\n",
       "  None,\n",
       "  None,\n",
       "  'YES',\n",
       "  'NO',\n",
       "  None),\n",
       " ('postgres',\n",
       "  'pg_catalog',\n",
       "  'pg_ts_config',\n",
       "  'BASE TABLE',\n",
       "  None,\n",
       "  None,\n",
       "  None,\n",
       "  None,\n",
       "  None,\n",
       "  'YES',\n",
       "  'NO',\n",
       "  None),\n",
       " ('postgres',\n",
       "  'pg_catalog',\n",
       "  'pg_ts_config_map',\n",
       "  'BASE TABLE',\n",
       "  None,\n",
       "  None,\n",
       "  None,\n",
       "  None,\n",
       "  None,\n",
       "  'YES',\n",
       "  'NO',\n",
       "  None),\n",
       " ('postgres',\n",
       "  'pg_catalog',\n",
       "  'pg_ts_dict',\n",
       "  'BASE TABLE',\n",
       "  None,\n",
       "  None,\n",
       "  None,\n",
       "  None,\n",
       "  None,\n",
       "  'YES',\n",
       "  'NO',\n",
       "  None),\n",
       " ('postgres',\n",
       "  'pg_catalog',\n",
       "  'pg_ts_parser',\n",
       "  'BASE TABLE',\n",
       "  None,\n",
       "  None,\n",
       "  None,\n",
       "  None,\n",
       "  None,\n",
       "  'YES',\n",
       "  'NO',\n",
       "  None),\n",
       " ('postgres',\n",
       "  'pg_catalog',\n",
       "  'pg_ts_template',\n",
       "  'BASE TABLE',\n",
       "  None,\n",
       "  None,\n",
       "  None,\n",
       "  None,\n",
       "  None,\n",
       "  'YES',\n",
       "  'NO',\n",
       "  None),\n",
       " ('postgres',\n",
       "  'pg_catalog',\n",
       "  'pg_extension',\n",
       "  'BASE TABLE',\n",
       "  None,\n",
       "  None,\n",
       "  None,\n",
       "  None,\n",
       "  None,\n",
       "  'YES',\n",
       "  'NO',\n",
       "  None),\n",
       " ('postgres',\n",
       "  'pg_catalog',\n",
       "  'pg_foreign_data_wrapper',\n",
       "  'BASE TABLE',\n",
       "  None,\n",
       "  None,\n",
       "  None,\n",
       "  None,\n",
       "  None,\n",
       "  'YES',\n",
       "  'NO',\n",
       "  None),\n",
       " ('postgres',\n",
       "  'pg_catalog',\n",
       "  'pg_foreign_table',\n",
       "  'BASE TABLE',\n",
       "  None,\n",
       "  None,\n",
       "  None,\n",
       "  None,\n",
       "  None,\n",
       "  'YES',\n",
       "  'NO',\n",
       "  None),\n",
       " ('postgres',\n",
       "  'pg_catalog',\n",
       "  'pg_policy',\n",
       "  'BASE TABLE',\n",
       "  None,\n",
       "  None,\n",
       "  None,\n",
       "  None,\n",
       "  None,\n",
       "  'YES',\n",
       "  'NO',\n",
       "  None),\n",
       " ('postgres',\n",
       "  'pg_catalog',\n",
       "  'pg_replication_origin',\n",
       "  'BASE TABLE',\n",
       "  None,\n",
       "  None,\n",
       "  None,\n",
       "  None,\n",
       "  None,\n",
       "  'YES',\n",
       "  'NO',\n",
       "  None),\n",
       " ('postgres',\n",
       "  'pg_catalog',\n",
       "  'pg_default_acl',\n",
       "  'BASE TABLE',\n",
       "  None,\n",
       "  None,\n",
       "  None,\n",
       "  None,\n",
       "  None,\n",
       "  'YES',\n",
       "  'NO',\n",
       "  None),\n",
       " ('postgres',\n",
       "  'pg_catalog',\n",
       "  'pg_init_privs',\n",
       "  'BASE TABLE',\n",
       "  None,\n",
       "  None,\n",
       "  None,\n",
       "  None,\n",
       "  None,\n",
       "  'YES',\n",
       "  'NO',\n",
       "  None),\n",
       " ('postgres',\n",
       "  'pg_catalog',\n",
       "  'pg_seclabel',\n",
       "  'BASE TABLE',\n",
       "  None,\n",
       "  None,\n",
       "  None,\n",
       "  None,\n",
       "  None,\n",
       "  'YES',\n",
       "  'NO',\n",
       "  None),\n",
       " ('postgres',\n",
       "  'pg_catalog',\n",
       "  'pg_shseclabel',\n",
       "  'BASE TABLE',\n",
       "  None,\n",
       "  None,\n",
       "  None,\n",
       "  None,\n",
       "  None,\n",
       "  'YES',\n",
       "  'NO',\n",
       "  None),\n",
       " ('postgres',\n",
       "  'pg_catalog',\n",
       "  'pg_collation',\n",
       "  'BASE TABLE',\n",
       "  None,\n",
       "  None,\n",
       "  None,\n",
       "  None,\n",
       "  None,\n",
       "  'YES',\n",
       "  'NO',\n",
       "  None),\n",
       " ('postgres',\n",
       "  'pg_catalog',\n",
       "  'pg_partitioned_table',\n",
       "  'BASE TABLE',\n",
       "  None,\n",
       "  None,\n",
       "  None,\n",
       "  None,\n",
       "  None,\n",
       "  'YES',\n",
       "  'NO',\n",
       "  None),\n",
       " ('postgres',\n",
       "  'pg_catalog',\n",
       "  'pg_range',\n",
       "  'BASE TABLE',\n",
       "  None,\n",
       "  None,\n",
       "  None,\n",
       "  None,\n",
       "  None,\n",
       "  'YES',\n",
       "  'NO',\n",
       "  None),\n",
       " ('postgres',\n",
       "  'pg_catalog',\n",
       "  'pg_transform',\n",
       "  'BASE TABLE',\n",
       "  None,\n",
       "  None,\n",
       "  None,\n",
       "  None,\n",
       "  None,\n",
       "  'YES',\n",
       "  'NO',\n",
       "  None),\n",
       " ('postgres',\n",
       "  'pg_catalog',\n",
       "  'pg_sequence',\n",
       "  'BASE TABLE',\n",
       "  None,\n",
       "  None,\n",
       "  None,\n",
       "  None,\n",
       "  None,\n",
       "  'YES',\n",
       "  'NO',\n",
       "  None),\n",
       " ('postgres',\n",
       "  'pg_catalog',\n",
       "  'pg_publication',\n",
       "  'BASE TABLE',\n",
       "  None,\n",
       "  None,\n",
       "  None,\n",
       "  None,\n",
       "  None,\n",
       "  'YES',\n",
       "  'NO',\n",
       "  None),\n",
       " ('postgres',\n",
       "  'pg_catalog',\n",
       "  'pg_publication_rel',\n",
       "  'BASE TABLE',\n",
       "  None,\n",
       "  None,\n",
       "  None,\n",
       "  None,\n",
       "  None,\n",
       "  'YES',\n",
       "  'NO',\n",
       "  None),\n",
       " ('postgres',\n",
       "  'pg_catalog',\n",
       "  'pg_subscription_rel',\n",
       "  'BASE TABLE',\n",
       "  None,\n",
       "  None,\n",
       "  None,\n",
       "  None,\n",
       "  None,\n",
       "  'YES',\n",
       "  'NO',\n",
       "  None),\n",
       " ('postgres',\n",
       "  'pg_catalog',\n",
       "  'pg_group',\n",
       "  'VIEW',\n",
       "  None,\n",
       "  None,\n",
       "  None,\n",
       "  None,\n",
       "  None,\n",
       "  'YES',\n",
       "  'NO',\n",
       "  None),\n",
       " ('postgres',\n",
       "  'pg_catalog',\n",
       "  'pg_user',\n",
       "  'VIEW',\n",
       "  None,\n",
       "  None,\n",
       "  None,\n",
       "  None,\n",
       "  None,\n",
       "  'NO',\n",
       "  'NO',\n",
       "  None),\n",
       " ('postgres',\n",
       "  'pg_catalog',\n",
       "  'pg_policies',\n",
       "  'VIEW',\n",
       "  None,\n",
       "  None,\n",
       "  None,\n",
       "  None,\n",
       "  None,\n",
       "  'NO',\n",
       "  'NO',\n",
       "  None),\n",
       " ('postgres',\n",
       "  'pg_catalog',\n",
       "  'pg_rules',\n",
       "  'VIEW',\n",
       "  None,\n",
       "  None,\n",
       "  None,\n",
       "  None,\n",
       "  None,\n",
       "  'NO',\n",
       "  'NO',\n",
       "  None),\n",
       " ('postgres',\n",
       "  'pg_catalog',\n",
       "  'pg_views',\n",
       "  'VIEW',\n",
       "  None,\n",
       "  None,\n",
       "  None,\n",
       "  None,\n",
       "  None,\n",
       "  'NO',\n",
       "  'NO',\n",
       "  None),\n",
       " ('postgres',\n",
       "  'pg_catalog',\n",
       "  'pg_tables',\n",
       "  'VIEW',\n",
       "  None,\n",
       "  None,\n",
       "  None,\n",
       "  None,\n",
       "  None,\n",
       "  'NO',\n",
       "  'NO',\n",
       "  None),\n",
       " ('postgres',\n",
       "  'pg_catalog',\n",
       "  'pg_matviews',\n",
       "  'VIEW',\n",
       "  None,\n",
       "  None,\n",
       "  None,\n",
       "  None,\n",
       "  None,\n",
       "  'NO',\n",
       "  'NO',\n",
       "  None),\n",
       " ('postgres',\n",
       "  'pg_catalog',\n",
       "  'pg_indexes',\n",
       "  'VIEW',\n",
       "  None,\n",
       "  None,\n",
       "  None,\n",
       "  None,\n",
       "  None,\n",
       "  'NO',\n",
       "  'NO',\n",
       "  None),\n",
       " ('postgres',\n",
       "  'pg_catalog',\n",
       "  'pg_sequences',\n",
       "  'VIEW',\n",
       "  None,\n",
       "  None,\n",
       "  None,\n",
       "  None,\n",
       "  None,\n",
       "  'NO',\n",
       "  'NO',\n",
       "  None),\n",
       " ('postgres',\n",
       "  'pg_catalog',\n",
       "  'pg_stats',\n",
       "  'VIEW',\n",
       "  None,\n",
       "  None,\n",
       "  None,\n",
       "  None,\n",
       "  None,\n",
       "  'NO',\n",
       "  'NO',\n",
       "  None),\n",
       " ('postgres',\n",
       "  'pg_catalog',\n",
       "  'pg_stats_ext',\n",
       "  'VIEW',\n",
       "  None,\n",
       "  None,\n",
       "  None,\n",
       "  None,\n",
       "  None,\n",
       "  'NO',\n",
       "  'NO',\n",
       "  None),\n",
       " ('postgres',\n",
       "  'pg_catalog',\n",
       "  'pg_publication_tables',\n",
       "  'VIEW',\n",
       "  None,\n",
       "  None,\n",
       "  None,\n",
       "  None,\n",
       "  None,\n",
       "  'NO',\n",
       "  'NO',\n",
       "  None),\n",
       " ('postgres',\n",
       "  'pg_catalog',\n",
       "  'pg_locks',\n",
       "  'VIEW',\n",
       "  None,\n",
       "  None,\n",
       "  None,\n",
       "  None,\n",
       "  None,\n",
       "  'NO',\n",
       "  'NO',\n",
       "  None),\n",
       " ('postgres',\n",
       "  'pg_catalog',\n",
       "  'pg_available_extensions',\n",
       "  'VIEW',\n",
       "  None,\n",
       "  None,\n",
       "  None,\n",
       "  None,\n",
       "  None,\n",
       "  'NO',\n",
       "  'NO',\n",
       "  None),\n",
       " ('postgres',\n",
       "  'pg_catalog',\n",
       "  'pg_available_extension_versions',\n",
       "  'VIEW',\n",
       "  None,\n",
       "  None,\n",
       "  None,\n",
       "  None,\n",
       "  None,\n",
       "  'NO',\n",
       "  'NO',\n",
       "  None),\n",
       " ('postgres',\n",
       "  'pg_catalog',\n",
       "  'pg_prepared_xacts',\n",
       "  'VIEW',\n",
       "  None,\n",
       "  None,\n",
       "  None,\n",
       "  None,\n",
       "  None,\n",
       "  'NO',\n",
       "  'NO',\n",
       "  None),\n",
       " ('postgres',\n",
       "  'pg_catalog',\n",
       "  'pg_prepared_statements',\n",
       "  'VIEW',\n",
       "  None,\n",
       "  None,\n",
       "  None,\n",
       "  None,\n",
       "  None,\n",
       "  'NO',\n",
       "  'NO',\n",
       "  None),\n",
       " ('postgres',\n",
       "  'pg_catalog',\n",
       "  'pg_seclabels',\n",
       "  'VIEW',\n",
       "  None,\n",
       "  None,\n",
       "  None,\n",
       "  None,\n",
       "  None,\n",
       "  'NO',\n",
       "  'NO',\n",
       "  None),\n",
       " ('postgres',\n",
       "  'pg_catalog',\n",
       "  'pg_statio_sys_tables',\n",
       "  'VIEW',\n",
       "  None,\n",
       "  None,\n",
       "  None,\n",
       "  None,\n",
       "  None,\n",
       "  'NO',\n",
       "  'NO',\n",
       "  None),\n",
       " ('postgres',\n",
       "  'pg_catalog',\n",
       "  'pg_timezone_abbrevs',\n",
       "  'VIEW',\n",
       "  None,\n",
       "  None,\n",
       "  None,\n",
       "  None,\n",
       "  None,\n",
       "  'NO',\n",
       "  'NO',\n",
       "  None),\n",
       " ('postgres',\n",
       "  'pg_catalog',\n",
       "  'pg_timezone_names',\n",
       "  'VIEW',\n",
       "  None,\n",
       "  None,\n",
       "  None,\n",
       "  None,\n",
       "  None,\n",
       "  'NO',\n",
       "  'NO',\n",
       "  None),\n",
       " ('postgres',\n",
       "  'pg_catalog',\n",
       "  'pg_statio_user_tables',\n",
       "  'VIEW',\n",
       "  None,\n",
       "  None,\n",
       "  None,\n",
       "  None,\n",
       "  None,\n",
       "  'NO',\n",
       "  'NO',\n",
       "  None),\n",
       " ('postgres',\n",
       "  'pg_catalog',\n",
       "  'pg_stat_all_tables',\n",
       "  'VIEW',\n",
       "  None,\n",
       "  None,\n",
       "  None,\n",
       "  None,\n",
       "  None,\n",
       "  'NO',\n",
       "  'NO',\n",
       "  None),\n",
       " ('postgres',\n",
       "  'pg_catalog',\n",
       "  'pg_stat_xact_all_tables',\n",
       "  'VIEW',\n",
       "  None,\n",
       "  None,\n",
       "  None,\n",
       "  None,\n",
       "  None,\n",
       "  'NO',\n",
       "  'NO',\n",
       "  None),\n",
       " ('postgres',\n",
       "  'pg_catalog',\n",
       "  'pg_stat_sys_tables',\n",
       "  'VIEW',\n",
       "  None,\n",
       "  None,\n",
       "  None,\n",
       "  None,\n",
       "  None,\n",
       "  'NO',\n",
       "  'NO',\n",
       "  None),\n",
       " ('postgres',\n",
       "  'pg_catalog',\n",
       "  'pg_stat_xact_sys_tables',\n",
       "  'VIEW',\n",
       "  None,\n",
       "  None,\n",
       "  None,\n",
       "  None,\n",
       "  None,\n",
       "  'NO',\n",
       "  'NO',\n",
       "  None),\n",
       " ('postgres',\n",
       "  'pg_catalog',\n",
       "  'pg_stat_user_tables',\n",
       "  'VIEW',\n",
       "  None,\n",
       "  None,\n",
       "  None,\n",
       "  None,\n",
       "  None,\n",
       "  'NO',\n",
       "  'NO',\n",
       "  None),\n",
       " ('postgres',\n",
       "  'pg_catalog',\n",
       "  'pg_stat_xact_user_tables',\n",
       "  'VIEW',\n",
       "  None,\n",
       "  None,\n",
       "  None,\n",
       "  None,\n",
       "  None,\n",
       "  'NO',\n",
       "  'NO',\n",
       "  None),\n",
       " ('postgres',\n",
       "  'pg_catalog',\n",
       "  'pg_statio_all_tables',\n",
       "  'VIEW',\n",
       "  None,\n",
       "  None,\n",
       "  None,\n",
       "  None,\n",
       "  None,\n",
       "  'NO',\n",
       "  'NO',\n",
       "  None),\n",
       " ('postgres',\n",
       "  'pg_catalog',\n",
       "  'pg_stat_all_indexes',\n",
       "  'VIEW',\n",
       "  None,\n",
       "  None,\n",
       "  None,\n",
       "  None,\n",
       "  None,\n",
       "  'NO',\n",
       "  'NO',\n",
       "  None),\n",
       " ('postgres',\n",
       "  'pg_catalog',\n",
       "  'pg_stat_sys_indexes',\n",
       "  'VIEW',\n",
       "  None,\n",
       "  None,\n",
       "  None,\n",
       "  None,\n",
       "  None,\n",
       "  'NO',\n",
       "  'NO',\n",
       "  None),\n",
       " ('postgres',\n",
       "  'pg_catalog',\n",
       "  'pg_stat_user_indexes',\n",
       "  'VIEW',\n",
       "  None,\n",
       "  None,\n",
       "  None,\n",
       "  None,\n",
       "  None,\n",
       "  'NO',\n",
       "  'NO',\n",
       "  None),\n",
       " ('postgres',\n",
       "  'pg_catalog',\n",
       "  'pg_statio_all_indexes',\n",
       "  'VIEW',\n",
       "  None,\n",
       "  None,\n",
       "  None,\n",
       "  None,\n",
       "  None,\n",
       "  'NO',\n",
       "  'NO',\n",
       "  None),\n",
       " ('postgres',\n",
       "  'pg_catalog',\n",
       "  'pg_statio_sys_indexes',\n",
       "  'VIEW',\n",
       "  None,\n",
       "  None,\n",
       "  None,\n",
       "  None,\n",
       "  None,\n",
       "  'NO',\n",
       "  'NO',\n",
       "  None),\n",
       " ('postgres',\n",
       "  'pg_catalog',\n",
       "  'pg_statio_user_indexes',\n",
       "  'VIEW',\n",
       "  None,\n",
       "  None,\n",
       "  None,\n",
       "  None,\n",
       "  None,\n",
       "  'NO',\n",
       "  'NO',\n",
       "  None),\n",
       " ('postgres',\n",
       "  'pg_catalog',\n",
       "  'pg_statio_all_sequences',\n",
       "  'VIEW',\n",
       "  None,\n",
       "  None,\n",
       "  None,\n",
       "  None,\n",
       "  None,\n",
       "  'NO',\n",
       "  'NO',\n",
       "  None),\n",
       " ('postgres',\n",
       "  'pg_catalog',\n",
       "  'pg_statio_sys_sequences',\n",
       "  'VIEW',\n",
       "  None,\n",
       "  None,\n",
       "  None,\n",
       "  None,\n",
       "  None,\n",
       "  'NO',\n",
       "  'NO',\n",
       "  None),\n",
       " ('postgres',\n",
       "  'pg_catalog',\n",
       "  'pg_statio_user_sequences',\n",
       "  'VIEW',\n",
       "  None,\n",
       "  None,\n",
       "  None,\n",
       "  None,\n",
       "  None,\n",
       "  'NO',\n",
       "  'NO',\n",
       "  None),\n",
       " ('postgres',\n",
       "  'pg_catalog',\n",
       "  'pg_stat_activity',\n",
       "  'VIEW',\n",
       "  None,\n",
       "  None,\n",
       "  None,\n",
       "  None,\n",
       "  None,\n",
       "  'NO',\n",
       "  'NO',\n",
       "  None),\n",
       " ('postgres',\n",
       "  'pg_catalog',\n",
       "  'pg_stat_replication',\n",
       "  'VIEW',\n",
       "  None,\n",
       "  None,\n",
       "  None,\n",
       "  None,\n",
       "  None,\n",
       "  'NO',\n",
       "  'NO',\n",
       "  None),\n",
       " ('postgres',\n",
       "  'pg_catalog',\n",
       "  'pg_stat_wal_receiver',\n",
       "  'VIEW',\n",
       "  None,\n",
       "  None,\n",
       "  None,\n",
       "  None,\n",
       "  None,\n",
       "  'NO',\n",
       "  'NO',\n",
       "  None),\n",
       " ('postgres',\n",
       "  'pg_catalog',\n",
       "  'pg_stat_subscription',\n",
       "  'VIEW',\n",
       "  None,\n",
       "  None,\n",
       "  None,\n",
       "  None,\n",
       "  None,\n",
       "  'NO',\n",
       "  'NO',\n",
       "  None),\n",
       " ('postgres',\n",
       "  'pg_catalog',\n",
       "  'pg_stat_ssl',\n",
       "  'VIEW',\n",
       "  None,\n",
       "  None,\n",
       "  None,\n",
       "  None,\n",
       "  None,\n",
       "  'NO',\n",
       "  'NO',\n",
       "  None),\n",
       " ('postgres',\n",
       "  'pg_catalog',\n",
       "  'pg_stat_gssapi',\n",
       "  'VIEW',\n",
       "  None,\n",
       "  None,\n",
       "  None,\n",
       "  None,\n",
       "  None,\n",
       "  'NO',\n",
       "  'NO',\n",
       "  None),\n",
       " ('postgres',\n",
       "  'pg_catalog',\n",
       "  'pg_replication_slots',\n",
       "  'VIEW',\n",
       "  None,\n",
       "  None,\n",
       "  None,\n",
       "  None,\n",
       "  None,\n",
       "  'NO',\n",
       "  'NO',\n",
       "  None),\n",
       " ('postgres',\n",
       "  'pg_catalog',\n",
       "  'pg_stat_database',\n",
       "  'VIEW',\n",
       "  None,\n",
       "  None,\n",
       "  None,\n",
       "  None,\n",
       "  None,\n",
       "  'NO',\n",
       "  'NO',\n",
       "  None),\n",
       " ('postgres',\n",
       "  'pg_catalog',\n",
       "  'pg_stat_database_conflicts',\n",
       "  'VIEW',\n",
       "  None,\n",
       "  None,\n",
       "  None,\n",
       "  None,\n",
       "  None,\n",
       "  'YES',\n",
       "  'NO',\n",
       "  None),\n",
       " ('postgres',\n",
       "  'pg_catalog',\n",
       "  'pg_stat_user_functions',\n",
       "  'VIEW',\n",
       "  None,\n",
       "  None,\n",
       "  None,\n",
       "  None,\n",
       "  None,\n",
       "  'NO',\n",
       "  'NO',\n",
       "  None),\n",
       " ('postgres',\n",
       "  'pg_catalog',\n",
       "  'pg_stat_xact_user_functions',\n",
       "  'VIEW',\n",
       "  None,\n",
       "  None,\n",
       "  None,\n",
       "  None,\n",
       "  None,\n",
       "  'NO',\n",
       "  'NO',\n",
       "  None),\n",
       " ('postgres',\n",
       "  'pg_catalog',\n",
       "  'pg_stat_archiver',\n",
       "  'VIEW',\n",
       "  None,\n",
       "  None,\n",
       "  None,\n",
       "  None,\n",
       "  None,\n",
       "  'NO',\n",
       "  'NO',\n",
       "  None),\n",
       " ('postgres',\n",
       "  'information_schema',\n",
       "  'information_schema_catalog_name',\n",
       "  'VIEW',\n",
       "  None,\n",
       "  None,\n",
       "  None,\n",
       "  None,\n",
       "  None,\n",
       "  'NO',\n",
       "  'NO',\n",
       "  None),\n",
       " ('postgres',\n",
       "  'information_schema',\n",
       "  'check_constraint_routine_usage',\n",
       "  'VIEW',\n",
       "  None,\n",
       "  None,\n",
       "  None,\n",
       "  None,\n",
       "  None,\n",
       "  'NO',\n",
       "  'NO',\n",
       "  None),\n",
       " ('postgres',\n",
       "  'information_schema',\n",
       "  'applicable_roles',\n",
       "  'VIEW',\n",
       "  None,\n",
       "  None,\n",
       "  None,\n",
       "  None,\n",
       "  None,\n",
       "  'NO',\n",
       "  'NO',\n",
       "  None),\n",
       " ('postgres',\n",
       "  'information_schema',\n",
       "  'administrable_role_authorizations',\n",
       "  'VIEW',\n",
       "  None,\n",
       "  None,\n",
       "  None,\n",
       "  None,\n",
       "  None,\n",
       "  'NO',\n",
       "  'NO',\n",
       "  None),\n",
       " ('postgres',\n",
       "  'information_schema',\n",
       "  'collation_character_set_applicability',\n",
       "  'VIEW',\n",
       "  None,\n",
       "  None,\n",
       "  None,\n",
       "  None,\n",
       "  None,\n",
       "  'NO',\n",
       "  'NO',\n",
       "  None),\n",
       " ('postgres',\n",
       "  'information_schema',\n",
       "  'attributes',\n",
       "  'VIEW',\n",
       "  None,\n",
       "  None,\n",
       "  None,\n",
       "  None,\n",
       "  None,\n",
       "  'NO',\n",
       "  'NO',\n",
       "  None),\n",
       " ('postgres',\n",
       "  'information_schema',\n",
       "  'check_constraints',\n",
       "  'VIEW',\n",
       "  None,\n",
       "  None,\n",
       "  None,\n",
       "  None,\n",
       "  None,\n",
       "  'NO',\n",
       "  'NO',\n",
       "  None),\n",
       " ('postgres',\n",
       "  'information_schema',\n",
       "  'character_sets',\n",
       "  'VIEW',\n",
       "  None,\n",
       "  None,\n",
       "  None,\n",
       "  None,\n",
       "  None,\n",
       "  'NO',\n",
       "  'NO',\n",
       "  None),\n",
       " ('postgres',\n",
       "  'information_schema',\n",
       "  'collations',\n",
       "  'VIEW',\n",
       "  None,\n",
       "  None,\n",
       "  None,\n",
       "  None,\n",
       "  None,\n",
       "  'NO',\n",
       "  'NO',\n",
       "  None),\n",
       " ('postgres',\n",
       "  'information_schema',\n",
       "  'column_domain_usage',\n",
       "  'VIEW',\n",
       "  None,\n",
       "  None,\n",
       "  None,\n",
       "  None,\n",
       "  None,\n",
       "  'NO',\n",
       "  'NO',\n",
       "  None),\n",
       " ('postgres',\n",
       "  'information_schema',\n",
       "  'column_column_usage',\n",
       "  'VIEW',\n",
       "  None,\n",
       "  None,\n",
       "  None,\n",
       "  None,\n",
       "  None,\n",
       "  'NO',\n",
       "  'NO',\n",
       "  None),\n",
       " ('postgres',\n",
       "  'information_schema',\n",
       "  'column_privileges',\n",
       "  'VIEW',\n",
       "  None,\n",
       "  None,\n",
       "  None,\n",
       "  None,\n",
       "  None,\n",
       "  'NO',\n",
       "  'NO',\n",
       "  None),\n",
       " ('postgres',\n",
       "  'information_schema',\n",
       "  'column_udt_usage',\n",
       "  'VIEW',\n",
       "  None,\n",
       "  None,\n",
       "  None,\n",
       "  None,\n",
       "  None,\n",
       "  'NO',\n",
       "  'NO',\n",
       "  None),\n",
       " ('postgres',\n",
       "  'information_schema',\n",
       "  'columns',\n",
       "  'VIEW',\n",
       "  None,\n",
       "  None,\n",
       "  None,\n",
       "  None,\n",
       "  None,\n",
       "  'NO',\n",
       "  'NO',\n",
       "  None),\n",
       " ('postgres',\n",
       "  'information_schema',\n",
       "  'constraint_column_usage',\n",
       "  'VIEW',\n",
       "  None,\n",
       "  None,\n",
       "  None,\n",
       "  None,\n",
       "  None,\n",
       "  'NO',\n",
       "  'NO',\n",
       "  None),\n",
       " ('postgres',\n",
       "  'information_schema',\n",
       "  'schemata',\n",
       "  'VIEW',\n",
       "  None,\n",
       "  None,\n",
       "  None,\n",
       "  None,\n",
       "  None,\n",
       "  'NO',\n",
       "  'NO',\n",
       "  None),\n",
       " ('postgres',\n",
       "  'information_schema',\n",
       "  'constraint_table_usage',\n",
       "  'VIEW',\n",
       "  None,\n",
       "  None,\n",
       "  None,\n",
       "  None,\n",
       "  None,\n",
       "  'NO',\n",
       "  'NO',\n",
       "  None),\n",
       " ('postgres',\n",
       "  'information_schema',\n",
       "  'domain_constraints',\n",
       "  'VIEW',\n",
       "  None,\n",
       "  None,\n",
       "  None,\n",
       "  None,\n",
       "  None,\n",
       "  'NO',\n",
       "  'NO',\n",
       "  None),\n",
       " ('postgres',\n",
       "  'information_schema',\n",
       "  'sql_packages',\n",
       "  'BASE TABLE',\n",
       "  None,\n",
       "  None,\n",
       "  None,\n",
       "  None,\n",
       "  None,\n",
       "  'YES',\n",
       "  'NO',\n",
       "  None),\n",
       " ('postgres',\n",
       "  'information_schema',\n",
       "  'domain_udt_usage',\n",
       "  'VIEW',\n",
       "  None,\n",
       "  None,\n",
       "  None,\n",
       "  None,\n",
       "  None,\n",
       "  'NO',\n",
       "  'NO',\n",
       "  None),\n",
       " ('postgres',\n",
       "  'information_schema',\n",
       "  'sequences',\n",
       "  'VIEW',\n",
       "  None,\n",
       "  None,\n",
       "  None,\n",
       "  None,\n",
       "  None,\n",
       "  'NO',\n",
       "  'NO',\n",
       "  None),\n",
       " ('postgres',\n",
       "  'information_schema',\n",
       "  'domains',\n",
       "  'VIEW',\n",
       "  None,\n",
       "  None,\n",
       "  None,\n",
       "  None,\n",
       "  None,\n",
       "  'NO',\n",
       "  'NO',\n",
       "  None),\n",
       " ('postgres',\n",
       "  'information_schema',\n",
       "  'enabled_roles',\n",
       "  'VIEW',\n",
       "  None,\n",
       "  None,\n",
       "  None,\n",
       "  None,\n",
       "  None,\n",
       "  'NO',\n",
       "  'NO',\n",
       "  None),\n",
       " ('postgres',\n",
       "  'information_schema',\n",
       "  'key_column_usage',\n",
       "  'VIEW',\n",
       "  None,\n",
       "  None,\n",
       "  None,\n",
       "  None,\n",
       "  None,\n",
       "  'NO',\n",
       "  'NO',\n",
       "  None),\n",
       " ('postgres',\n",
       "  'information_schema',\n",
       "  'parameters',\n",
       "  'VIEW',\n",
       "  None,\n",
       "  None,\n",
       "  None,\n",
       "  None,\n",
       "  None,\n",
       "  'NO',\n",
       "  'NO',\n",
       "  None),\n",
       " ('postgres',\n",
       "  'information_schema',\n",
       "  'referential_constraints',\n",
       "  'VIEW',\n",
       "  None,\n",
       "  None,\n",
       "  None,\n",
       "  None,\n",
       "  None,\n",
       "  'NO',\n",
       "  'NO',\n",
       "  None),\n",
       " ('postgres',\n",
       "  'information_schema',\n",
       "  'sql_features',\n",
       "  'BASE TABLE',\n",
       "  None,\n",
       "  None,\n",
       "  None,\n",
       "  None,\n",
       "  None,\n",
       "  'YES',\n",
       "  'NO',\n",
       "  None),\n",
       " ('postgres',\n",
       "  'information_schema',\n",
       "  'role_column_grants',\n",
       "  'VIEW',\n",
       "  None,\n",
       "  None,\n",
       "  None,\n",
       "  None,\n",
       "  None,\n",
       "  'NO',\n",
       "  'NO',\n",
       "  None),\n",
       " ('postgres',\n",
       "  'information_schema',\n",
       "  'routine_privileges',\n",
       "  'VIEW',\n",
       "  None,\n",
       "  None,\n",
       "  None,\n",
       "  None,\n",
       "  None,\n",
       "  'NO',\n",
       "  'NO',\n",
       "  None),\n",
       " ('postgres',\n",
       "  'information_schema',\n",
       "  'role_routine_grants',\n",
       "  'VIEW',\n",
       "  None,\n",
       "  None,\n",
       "  None,\n",
       "  None,\n",
       "  None,\n",
       "  'NO',\n",
       "  'NO',\n",
       "  None),\n",
       " ('postgres',\n",
       "  'information_schema',\n",
       "  'routines',\n",
       "  'VIEW',\n",
       "  None,\n",
       "  None,\n",
       "  None,\n",
       "  None,\n",
       "  None,\n",
       "  'NO',\n",
       "  'NO',\n",
       "  None),\n",
       " ('postgres',\n",
       "  'information_schema',\n",
       "  'sql_implementation_info',\n",
       "  'BASE TABLE',\n",
       "  None,\n",
       "  None,\n",
       "  None,\n",
       "  None,\n",
       "  None,\n",
       "  'YES',\n",
       "  'NO',\n",
       "  None),\n",
       " ('postgres',\n",
       "  'information_schema',\n",
       "  'sql_parts',\n",
       "  'BASE TABLE',\n",
       "  None,\n",
       "  None,\n",
       "  None,\n",
       "  None,\n",
       "  None,\n",
       "  'YES',\n",
       "  'NO',\n",
       "  None),\n",
       " ('postgres',\n",
       "  'information_schema',\n",
       "  'sql_languages',\n",
       "  'BASE TABLE',\n",
       "  None,\n",
       "  None,\n",
       "  None,\n",
       "  None,\n",
       "  None,\n",
       "  'YES',\n",
       "  'NO',\n",
       "  None),\n",
       " ('postgres',\n",
       "  'information_schema',\n",
       "  'sql_sizing',\n",
       "  'BASE TABLE',\n",
       "  None,\n",
       "  None,\n",
       "  None,\n",
       "  None,\n",
       "  None,\n",
       "  'YES',\n",
       "  'NO',\n",
       "  None),\n",
       " ('postgres',\n",
       "  'information_schema',\n",
       "  'sql_sizing_profiles',\n",
       "  'BASE TABLE',\n",
       "  None,\n",
       "  None,\n",
       "  None,\n",
       "  None,\n",
       "  None,\n",
       "  'YES',\n",
       "  'NO',\n",
       "  None),\n",
       " ('postgres',\n",
       "  'information_schema',\n",
       "  'table_constraints',\n",
       "  'VIEW',\n",
       "  None,\n",
       "  None,\n",
       "  None,\n",
       "  None,\n",
       "  None,\n",
       "  'NO',\n",
       "  'NO',\n",
       "  None),\n",
       " ('postgres',\n",
       "  'information_schema',\n",
       "  'table_privileges',\n",
       "  'VIEW',\n",
       "  None,\n",
       "  None,\n",
       "  None,\n",
       "  None,\n",
       "  None,\n",
       "  'NO',\n",
       "  'NO',\n",
       "  None),\n",
       " ('postgres',\n",
       "  'information_schema',\n",
       "  'role_table_grants',\n",
       "  'VIEW',\n",
       "  None,\n",
       "  None,\n",
       "  None,\n",
       "  None,\n",
       "  None,\n",
       "  'NO',\n",
       "  'NO',\n",
       "  None),\n",
       " ('postgres',\n",
       "  'information_schema',\n",
       "  'views',\n",
       "  'VIEW',\n",
       "  None,\n",
       "  None,\n",
       "  None,\n",
       "  None,\n",
       "  None,\n",
       "  'NO',\n",
       "  'NO',\n",
       "  None),\n",
       " ('postgres',\n",
       "  'information_schema',\n",
       "  'tables',\n",
       "  'VIEW',\n",
       "  None,\n",
       "  None,\n",
       "  None,\n",
       "  None,\n",
       "  None,\n",
       "  'NO',\n",
       "  'NO',\n",
       "  None),\n",
       " ('postgres',\n",
       "  'information_schema',\n",
       "  'transforms',\n",
       "  'VIEW',\n",
       "  None,\n",
       "  None,\n",
       "  None,\n",
       "  None,\n",
       "  None,\n",
       "  'NO',\n",
       "  'NO',\n",
       "  None),\n",
       " ('postgres',\n",
       "  'information_schema',\n",
       "  'triggered_update_columns',\n",
       "  'VIEW',\n",
       "  None,\n",
       "  None,\n",
       "  None,\n",
       "  None,\n",
       "  None,\n",
       "  'NO',\n",
       "  'NO',\n",
       "  None),\n",
       " ('postgres',\n",
       "  'information_schema',\n",
       "  '_pg_foreign_servers',\n",
       "  'VIEW',\n",
       "  None,\n",
       "  None,\n",
       "  None,\n",
       "  None,\n",
       "  None,\n",
       "  'NO',\n",
       "  'NO',\n",
       "  None),\n",
       " ('postgres',\n",
       "  'information_schema',\n",
       "  'triggers',\n",
       "  'VIEW',\n",
       "  None,\n",
       "  None,\n",
       "  None,\n",
       "  None,\n",
       "  None,\n",
       "  'NO',\n",
       "  'NO',\n",
       "  None),\n",
       " ('postgres',\n",
       "  'information_schema',\n",
       "  'data_type_privileges',\n",
       "  'VIEW',\n",
       "  None,\n",
       "  None,\n",
       "  None,\n",
       "  None,\n",
       "  None,\n",
       "  'NO',\n",
       "  'NO',\n",
       "  None),\n",
       " ('postgres',\n",
       "  'information_schema',\n",
       "  'udt_privileges',\n",
       "  'VIEW',\n",
       "  None,\n",
       "  None,\n",
       "  None,\n",
       "  None,\n",
       "  None,\n",
       "  'NO',\n",
       "  'NO',\n",
       "  None),\n",
       " ('postgres',\n",
       "  'information_schema',\n",
       "  'role_udt_grants',\n",
       "  'VIEW',\n",
       "  None,\n",
       "  None,\n",
       "  None,\n",
       "  None,\n",
       "  None,\n",
       "  'NO',\n",
       "  'NO',\n",
       "  None),\n",
       " ('postgres',\n",
       "  'information_schema',\n",
       "  'usage_privileges',\n",
       "  'VIEW',\n",
       "  None,\n",
       "  None,\n",
       "  None,\n",
       "  None,\n",
       "  None,\n",
       "  'NO',\n",
       "  'NO',\n",
       "  None),\n",
       " ('postgres',\n",
       "  'information_schema',\n",
       "  'element_types',\n",
       "  'VIEW',\n",
       "  None,\n",
       "  None,\n",
       "  None,\n",
       "  None,\n",
       "  None,\n",
       "  'NO',\n",
       "  'NO',\n",
       "  None),\n",
       " ('postgres',\n",
       "  'information_schema',\n",
       "  'role_usage_grants',\n",
       "  'VIEW',\n",
       "  None,\n",
       "  None,\n",
       "  None,\n",
       "  None,\n",
       "  None,\n",
       "  'NO',\n",
       "  'NO',\n",
       "  None),\n",
       " ('postgres',\n",
       "  'information_schema',\n",
       "  'user_defined_types',\n",
       "  'VIEW',\n",
       "  None,\n",
       "  None,\n",
       "  None,\n",
       "  None,\n",
       "  None,\n",
       "  'NO',\n",
       "  'NO',\n",
       "  None),\n",
       " ('postgres',\n",
       "  'information_schema',\n",
       "  '_pg_foreign_table_columns',\n",
       "  'VIEW',\n",
       "  None,\n",
       "  None,\n",
       "  None,\n",
       "  None,\n",
       "  None,\n",
       "  'NO',\n",
       "  'NO',\n",
       "  None),\n",
       " ('postgres',\n",
       "  'information_schema',\n",
       "  'view_column_usage',\n",
       "  'VIEW',\n",
       "  None,\n",
       "  None,\n",
       "  None,\n",
       "  None,\n",
       "  None,\n",
       "  'NO',\n",
       "  'NO',\n",
       "  None),\n",
       " ('postgres',\n",
       "  'information_schema',\n",
       "  'view_routine_usage',\n",
       "  'VIEW',\n",
       "  None,\n",
       "  None,\n",
       "  None,\n",
       "  None,\n",
       "  None,\n",
       "  'NO',\n",
       "  'NO',\n",
       "  None),\n",
       " ('postgres',\n",
       "  'information_schema',\n",
       "  'view_table_usage',\n",
       "  'VIEW',\n",
       "  None,\n",
       "  None,\n",
       "  None,\n",
       "  None,\n",
       "  None,\n",
       "  'NO',\n",
       "  'NO',\n",
       "  None),\n",
       " ('postgres',\n",
       "  'information_schema',\n",
       "  'foreign_server_options',\n",
       "  'VIEW',\n",
       "  None,\n",
       "  None,\n",
       "  None,\n",
       "  None,\n",
       "  None,\n",
       "  'NO',\n",
       "  'NO',\n",
       "  None),\n",
       " ('postgres',\n",
       "  'information_schema',\n",
       "  'column_options',\n",
       "  'VIEW',\n",
       "  None,\n",
       "  None,\n",
       "  None,\n",
       "  None,\n",
       "  None,\n",
       "  'NO',\n",
       "  'NO',\n",
       "  None),\n",
       " ('postgres',\n",
       "  'information_schema',\n",
       "  '_pg_foreign_data_wrappers',\n",
       "  'VIEW',\n",
       "  None,\n",
       "  None,\n",
       "  None,\n",
       "  None,\n",
       "  None,\n",
       "  'NO',\n",
       "  'NO',\n",
       "  None),\n",
       " ('postgres',\n",
       "  'information_schema',\n",
       "  'foreign_data_wrapper_options',\n",
       "  'VIEW',\n",
       "  None,\n",
       "  None,\n",
       "  None,\n",
       "  None,\n",
       "  None,\n",
       "  'NO',\n",
       "  'NO',\n",
       "  None),\n",
       " ('postgres',\n",
       "  'information_schema',\n",
       "  'foreign_tables',\n",
       "  'VIEW',\n",
       "  None,\n",
       "  None,\n",
       "  None,\n",
       "  None,\n",
       "  None,\n",
       "  'NO',\n",
       "  'NO',\n",
       "  None),\n",
       " ('postgres',\n",
       "  'information_schema',\n",
       "  'foreign_data_wrappers',\n",
       "  'VIEW',\n",
       "  None,\n",
       "  None,\n",
       "  None,\n",
       "  None,\n",
       "  None,\n",
       "  'NO',\n",
       "  'NO',\n",
       "  None),\n",
       " ('postgres',\n",
       "  'information_schema',\n",
       "  'foreign_servers',\n",
       "  'VIEW',\n",
       "  None,\n",
       "  None,\n",
       "  None,\n",
       "  None,\n",
       "  None,\n",
       "  'NO',\n",
       "  'NO',\n",
       "  None),\n",
       " ('postgres',\n",
       "  'information_schema',\n",
       "  '_pg_foreign_tables',\n",
       "  'VIEW',\n",
       "  None,\n",
       "  None,\n",
       "  None,\n",
       "  None,\n",
       "  None,\n",
       "  'NO',\n",
       "  'NO',\n",
       "  None),\n",
       " ('postgres',\n",
       "  'information_schema',\n",
       "  'foreign_table_options',\n",
       "  'VIEW',\n",
       "  None,\n",
       "  None,\n",
       "  None,\n",
       "  None,\n",
       "  None,\n",
       "  'NO',\n",
       "  'NO',\n",
       "  None),\n",
       " ('postgres',\n",
       "  'information_schema',\n",
       "  '_pg_user_mappings',\n",
       "  'VIEW',\n",
       "  None,\n",
       "  None,\n",
       "  None,\n",
       "  None,\n",
       "  None,\n",
       "  'NO',\n",
       "  'NO',\n",
       "  None),\n",
       " ('postgres',\n",
       "  'information_schema',\n",
       "  'user_mappings',\n",
       "  'VIEW',\n",
       "  None,\n",
       "  None,\n",
       "  None,\n",
       "  None,\n",
       "  None,\n",
       "  'NO',\n",
       "  'NO',\n",
       "  None),\n",
       " ('postgres',\n",
       "  'information_schema',\n",
       "  'user_mapping_options',\n",
       "  'VIEW',\n",
       "  None,\n",
       "  None,\n",
       "  None,\n",
       "  None,\n",
       "  None,\n",
       "  'NO',\n",
       "  'NO',\n",
       "  None)]"
      ]
     },
     "execution_count": 42,
     "metadata": {},
     "output_type": "execute_result"
    }
   ],
   "source": [
    "pg_cur.execute('select * from information_schema.tables;')\n",
    "pg_cur.fetchall()"
   ]
  },
  {
   "cell_type": "code",
   "execution_count": 21,
   "metadata": {
    "ExecuteTime": {
     "end_time": "2020-04-20T00:40:19.676000Z",
     "start_time": "2020-04-20T00:40:19.665000Z"
    }
   },
   "outputs": [
    {
     "ename": "SyntaxError",
     "evalue": "invalid syntax (<ipython-input-21-c8c626fd558d>, line 10)",
     "output_type": "error",
     "traceback": [
      "\u001b[1;36m  File \u001b[1;32m\"<ipython-input-21-c8c626fd558d>\"\u001b[1;36m, line \u001b[1;32m10\u001b[0m\n\u001b[1;33m    self.g_id =\u001b[0m\n\u001b[1;37m                ^\u001b[0m\n\u001b[1;31mSyntaxError\u001b[0m\u001b[1;31m:\u001b[0m invalid syntax\n"
     ]
    }
   ],
   "source": [
    "class user(object):\n",
    "    def __init__(self, phone, name):\n",
    "        self.phone = phone\n",
    "        self.name = name\n",
    "        self.groups = {}\n",
    "\n",
    "class group(object):\n",
    "    def __init__(self, name):\n",
    "        self.name = name\n",
    "        self.g_id = uuid4()\n",
    "        self.users = {}\n",
    "\n",
    "class WhatsApp(object):\n",
    "    \n",
    "    def __init__(self):\n",
    "        pass"
   ]
  },
  {
   "cell_type": "code",
   "execution_count": 13,
   "metadata": {
    "ExecuteTime": {
     "end_time": "2020-04-19T23:48:54.429000Z",
     "start_time": "2020-04-19T23:48:54.417000Z"
    }
   },
   "outputs": [
    {
     "data": {
      "text/plain": [
       "True"
      ]
     },
     "execution_count": 13,
     "metadata": {},
     "output_type": "execute_result"
    }
   ],
   "source": [
    "redis_conn.set('test', 'true')\n",
    "redis_conn.expire('test', 10)"
   ]
  },
  {
   "cell_type": "code",
   "execution_count": 17,
   "metadata": {
    "ExecuteTime": {
     "end_time": "2020-04-19T23:49:05.039000Z",
     "start_time": "2020-04-19T23:49:05.033000Z"
    }
   },
   "outputs": [],
   "source": [
    "redis_conn.get('test')"
   ]
  },
  {
   "cell_type": "code",
   "execution_count": 169,
   "metadata": {
    "ExecuteTime": {
     "end_time": "2020-04-21T22:06:42.034000Z",
     "start_time": "2020-04-21T22:06:42.020000Z"
    },
    "hide_input": false
   },
   "outputs": [
    {
     "data": {
      "text/html": [
       "\n",
       "<h3>design a library for UNIX file search</h3><br>\n",
       "<a href=\"https://leetcode.com/discuss/interview-question/369272/Amazon-or-Onsite-or-Linux-Find-Command\" target=\"_blank\">https://leetcode.com/discuss/interview-question/369272/Amazon-or-Onsite-or-Linux-Find-Command</a>\n",
       "<br>\n",
       "<a href=\"https://leetcode.com/articles/design-in-memory-file-system/\" target=\"_blank\">https://leetcode.com/articles/design-in-memory-file-system/</a>"
      ],
      "text/plain": [
       "<IPython.core.display.HTML object>"
      ]
     },
     "metadata": {},
     "output_type": "display_data"
    }
   ],
   "source": [
    "html = '''\n",
    "<h3>design a library for UNIX file search</h3><br>\n",
    "'''+ \\\n",
    "link('https://leetcode.com/discuss/interview-question/369272/Amazon-or-Onsite-or-Linux-Find-Command')+ \\\n",
    "'''\n",
    "<br>\n",
    "'''+ \\\n",
    "link('https://leetcode.com/articles/design-in-memory-file-system/')\n",
    "dh(html)"
   ]
  },
  {
   "cell_type": "code",
   "execution_count": 153,
   "metadata": {
    "ExecuteTime": {
     "end_time": "2020-04-20T22:06:18.220000Z",
     "start_time": "2020-04-20T22:06:18.091000Z"
    }
   },
   "outputs": [
    {
     "name": "stdout",
     "output_type": "stream",
     "text": [
      "['test', 'ok']\n",
      "['a.txt', 'b.txt', 'cool']\n",
      "/home/user/ok/cool/c.txt\n",
      "/home/user/ok/cool/c.txt\n",
      "/d.txt\n"
     ]
    }
   ],
   "source": [
    "# # mkdir\n",
    " \n",
    "#     Overwrite existing directory leaf and delete all of its contents ?\n",
    "#     continue with existing directory leaf ?\n",
    "    \n",
    "# # touch\n",
    "    \n",
    "#     Overwrite ?\n",
    "\n",
    "\n",
    "\n",
    "\n",
    "class File:\n",
    "    def __init__(self, name, parent):\n",
    "        self.name = name\n",
    "        self.created = datetime.now()\n",
    "        self.modified =self.created\n",
    "        self.parent = parent\n",
    "        self.s_ptr = None\n",
    "        self.e_ptr = None\n",
    "\n",
    "class Directory:\n",
    "    def __init__(self,name, parent):\n",
    "        self.name = name\n",
    "        self.created = datetime.now()\n",
    "        self.children = dict()\n",
    "        self.parent = parent\n",
    "\n",
    "class FileSystem:\n",
    "    def __init__(self):\n",
    "        self.root = Directory(None,None)\n",
    "        self.sep = '/'\n",
    "        \n",
    "    def mkdir(self, path, pwd='/home/user'):\n",
    "        \n",
    "        if path in ['', None]:\n",
    "            raise Exception('Not a valid path !')\n",
    "        \n",
    "        if self.sep != path[0]:\n",
    "            path = pwd+self.sep+path\n",
    "        \n",
    "        path = [x for x in path.split(self.sep) if x != '']\n",
    "        \n",
    "        head = self.root\n",
    "        for i,d in enumerate(path):\n",
    "            if d not in head.children:\n",
    "                head.children[d] = Directory(d, head)\n",
    "            head = head.children[d]\n",
    "        return head\n",
    "            \n",
    "                \n",
    "    def ls(self, path, pwd='/home/user'):\n",
    "        \n",
    "        if path in [None, '']:\n",
    "            raise Exception('Path does not exists !')\n",
    "        \n",
    "        if path[0] != self.sep:\n",
    "            path = pwd+self.sep+path\n",
    "        \n",
    "        path = [x for x in path.split(self.sep) if x!='']\n",
    "        \n",
    "        head = self.root\n",
    "        \n",
    "        for i,p in enumerate(path):\n",
    "            if p not in head.children:\n",
    "                raise Exception('Path or file does not exists !')\n",
    "            elif head.children[p].__class__.__name__ == 'File' and i<len(p)-1:\n",
    "                raise Exception('Encountered a file '+ sel.sep.join(path[:i+1])+' !')\n",
    "            else:\n",
    "                head = head.children[p]\n",
    "        \n",
    "        if head.__class__.__name__ == 'File':\n",
    "            return [head.name]\n",
    "        else:\n",
    "            return head.children.keys()\n",
    "        \n",
    "    def touch(self, path, pwd='/home/user'):\n",
    "        if path in ['', None]:\n",
    "            raise Exception('Not a valid path !')\n",
    "        \n",
    "        if self.sep != path[0]:\n",
    "            path = pwd+self.sep+path\n",
    "        \n",
    "        path = [x for x in path.split(self.sep) if x != '']\n",
    "        \n",
    "        head = self.mkdir(self.sep+self.sep.join(path[:-1]))\n",
    "        \n",
    "        if path[-1] in head.children:\n",
    "            raise Exception('File already exists !')\n",
    "        else:\n",
    "            head.children[path[-1]] = File(path[-1], head)\n",
    "            head = head.children[path[-1]]\n",
    "    \n",
    "    def find(self,name,path='/home/user', pwd='/home/user'):\n",
    "        if path[0] !=self.sep:\n",
    "            path = pwd+self.sep+path\n",
    "        \n",
    "        path = [x for x in path.split(self.sep) if x != '']\n",
    "        head = self.root\n",
    "        \n",
    "        for i, p in enumerate(path):\n",
    "            if p not in head.children:\n",
    "                raise Exception('Path does not exists')\n",
    "            head = head.children[p]\n",
    "        \n",
    "        q = collections.deque()\n",
    "        q.append(head)\n",
    "        while q:\n",
    "            node = q.popleft()\n",
    "            if node.name == name:\n",
    "                parent = []\n",
    "                _ = node.parent\n",
    "                while _.parent is not None:\n",
    "                    parent.append(_.name)\n",
    "                    _ = _.parent\n",
    "                parent = list(reversed(parent))+[name]\n",
    "                return self.sep+self.sep.join(parent)\n",
    "            if node.__class__.__name__ == 'Directory':\n",
    "                for child in node.children:\n",
    "                    q.append(node.children[child])\n",
    "        return -1\n",
    "        \n",
    "        \n",
    "        \n",
    "    \n",
    "fs = FileSystem()\n",
    "fs.mkdir('test')\n",
    "fs.mkdir('ok')\n",
    "fs.touch('ok/a.txt')\n",
    "fs.touch('ok/b.txt')\n",
    "fs.mkdir('ok/cool')\n",
    "fs.touch('ok/cool/c.txt')\n",
    "fs.touch('/d.txt')\n",
    "print(fs.ls('/home/user'))\n",
    "print(fs.ls('ok')) \n",
    "print(fs.find('c.txt', 'ok'))\n",
    "print(fs.find('c.txt', '/'))\n",
    "print(fs.find('d.txt', '/'))"
   ]
  },
  {
   "cell_type": "code",
   "execution_count": 168,
   "metadata": {
    "ExecuteTime": {
     "end_time": "2020-04-21T15:48:37.738000Z",
     "start_time": "2020-04-21T15:48:37.726000Z"
    }
   },
   "outputs": [
    {
     "data": {
      "text/html": [
       "\n",
       "<h3>design a vending machine</h3><br>\n",
       "<a href=\"https://leetcode.com/discuss/interview-experience/586182/Aamzon-or-SDE-or-Seattle-or-Virtual-On-site-or-Reject\" target=\"_blank\">https://leetcode.com/discuss/interview-experience/586182/Aamzon-or-SDE-or-Seattle-or-Virtual-On-site-or-Reject</a>\n",
       "<br>\n",
       "<a href=\"https://leetcode.com/discuss/interview-question/125218/Design-a-vending-machine\" target=\"_blank\">https://leetcode.com/discuss/interview-question/125218/Design-a-vending-machine</a>"
      ],
      "text/plain": [
       "<IPython.core.display.HTML object>"
      ]
     },
     "metadata": {},
     "output_type": "display_data"
    }
   ],
   "source": [
    "html = '''\n",
    "<h3>design a vending machine</h3><br>\n",
    "'''+ \\\n",
    "link('https://leetcode.com/discuss/interview-experience/586182/Aamzon-or-SDE-or-Seattle-or-Virtual-On-site-or-Reject')+ \\\n",
    "'''\n",
    "<br>\n",
    "'''+ \\\n",
    "link('https://leetcode.com/discuss/interview-question/125218/Design-a-vending-machine')\n",
    "dh(html)"
   ]
  },
  {
   "cell_type": "code",
   "execution_count": 243,
   "metadata": {
    "ExecuteTime": {
     "end_time": "2020-04-24T00:50:49.320000Z",
     "start_time": "2020-04-24T00:50:49.287000Z"
    },
    "scrolled": true
   },
   "outputs": [],
   "source": [
    "# # Cash\n",
    "# - denomination\n",
    "# - limited capacity per denomination\n",
    "\n",
    "# # Item\n",
    "# -name\n",
    "# - limited capacity per item\n",
    "\n",
    "# # vending machine\n",
    "# - limited number of denominations\n",
    "# - limited number of items\n",
    "\n",
    "\n",
    "class Cash:\n",
    "    def __init__(self, denom, cap):\n",
    "        self.denom = denom\n",
    "        self.cap = cap\n",
    "        self.size = 0\n",
    "    def get(self,num=1):\n",
    "        if self.size< num:\n",
    "            num = self.size\n",
    "            self.size=0\n",
    "        else:\n",
    "            self.size-=num\n",
    "        return num\n",
    "    def put(self,num):\n",
    "        if self.size+num>self.cap:\n",
    "            self.size = self.cap\n",
    "        else:\n",
    "            self.size+=num\n",
    "        return self.size\n",
    "\n",
    "class Item:\n",
    "    def __init__(self, name, cap):\n",
    "        self.name =name\n",
    "        self.cap = cap\n",
    "        self.size = 0\n",
    "    def get(self,num=1):\n",
    "        if self.size<num:\n",
    "            num = self.size\n",
    "            self.size=0\n",
    "        else:\n",
    "            self.size-=num\n",
    "        return num\n",
    "    def put(self, num=1):\n",
    "        if self.size+num>self.cap:\n",
    "            self.size=self.cap\n",
    "        else:\n",
    "            self.size+=num\n",
    "        return self.size\n",
    "    \n",
    "        \n",
    "class VM:\n",
    "    def __init__(self, rows, columns, c_denoms, c_items):\n",
    "        self.items = dict()\n",
    "        self.denoms = dict()\n",
    "        self.c_denoms = c_denoms\n",
    "        self.c_items = c_items\n",
    "        \n",
    "        for i in range(rows):\n",
    "            for j in range(columns):\n",
    "                self.items[chr(ord('A')+i)+str(j+1)] = None\n",
    "                \n",
    "    def add_denom(self, denom, num=1):\n",
    "        pass\n",
    "    \n",
    "    def add_item(self, pos, name, num=1):\n",
    "        pass\n",
    "\n",
    "class Purchase:\n",
    "    def __init__(self, vm):\n",
    "        self.vm = vm\n",
    "    \n",
    "    def buy(self, pos):\n",
    "        pass\n",
    "        \n",
    "        \n",
    "vm = VM(5,\n",
    "       5,\n",
    "       4,\n",
    "       6)"
   ]
  },
  {
   "cell_type": "markdown",
   "metadata": {},
   "source": [
    "<h2> Practice Questions</h2>"
   ]
  },
  {
   "cell_type": "code",
   "execution_count": 8,
   "metadata": {},
   "outputs": [
    {
     "name": "stdout",
     "output_type": "stream",
     "text": [
      "ok\n"
     ]
    }
   ],
   "source": [
    "print('ok')"
   ]
  },
  {
   "cell_type": "code",
   "execution_count": 5,
   "metadata": {
    "ExecuteTime": {
     "end_time": "2020-04-30T21:03:34.451000Z",
     "start_time": "2020-04-30T21:03:34.436000Z"
    }
   },
   "outputs": [
    {
     "data": {
      "text/plain": [
       "True"
      ]
     },
     "execution_count": 5,
     "metadata": {},
     "output_type": "execute_result"
    }
   ],
   "source": [
    "a={u'date_range': {u'11': u'2019-04-30', u'10': u'2019-05-31', u'13': u'2019-02-28', u'12': u'2019-03-31', u'1': u'2020-02-29',u'0': u'2020-03-31', u'3': u'2019-12-31', u'2': u'2020-01-31', u'5': u'2019-10-31', u'4': u'2019-11-30', u'7': u'2019-08-31',u'6': u'2019-09-30', u'9': u'2019-06-30', u'8': u'2019-07-31'}, u'country_key': 12, u'countries': [{u'value': 3, u'label': u'British Virgin Islands'}, {u'value': 5, u'label': u'Trinidad and Tobago'}, {u'value': 6, u'label': u'Turks and Caicos'}, {u'value': 10, u'label': u'Cayman Islands'}, {u'value': 12, u'label': u'Jamaica'}, {u'value': 16, u'label': u'Rep\\xfablica Dominicana'}, {u'value': 18, u'label': u'Belize'}, {u'value': 19, u'label': u'Bahamas'}, {u'value': 20, u'label': u'Barbados'}]}\n",
    "b={u'date_range': {u'11': u'2019-04-30', u'10': u'2019-05-31', u'13': u'2019-02-28', u'12': u'2019-03-31', u'1': u'2020-02-29',u'0': u'2020-03-31', u'3': u'2019-12-31', u'2': u'2020-01-31', u'5': u'2019-10-31', u'4': u'2019-11-30', u'7': u'2019-08-31',u'6': u'2019-09-30', u'9': u'2019-06-30', u'8': u'2019-07-31'}, u'country_key': 12, u'countries': [{u'value': 3, u'label': u'British Virgin Islands'}, {u'value': 5, u'label': u'Trinidad and Tobago'}, {u'value': 6, u'label': u'Turks and Caicos'}, {u'value': 10, u'label': u'Cayman Islands'}, {u'value': 12, u'label': u'Jamaica'}, {u'value': 16, u'label': u'Rep\\xfablica Dominicana'}, {u'value': 18, u'label': u'Belize'}, {u'value': 19, u'label': u'Bahamas'}, {u'value': 20, u'label': u'Barbados'}]}\n",
    "\n",
    "a==b"
   ]
  },
  {
   "cell_type": "code",
   "execution_count": 61,
   "metadata": {
    "ExecuteTime": {
     "end_time": "2020-04-28T15:49:07.094000Z",
     "start_time": "2020-04-28T15:49:07.090000Z"
    }
   },
   "outputs": [
    {
     "name": "stdout",
     "output_type": "stream",
     "text": [
      "d\n",
      "\n"
     ]
    }
   ],
   "source": [
    "a = ''''''+ \\\n",
    "'''d\n",
    "'''\n",
    "print(a)"
   ]
  },
  {
   "cell_type": "code",
   "execution_count": 68,
   "metadata": {
    "ExecuteTime": {
     "end_time": "2020-04-29T22:24:54.005000Z",
     "start_time": "2020-04-29T22:24:53.994000Z"
    }
   },
   "outputs": [
    {
     "data": {
      "text/plain": [
       "{u'1': u'1'}"
      ]
     },
     "execution_count": 68,
     "metadata": {},
     "output_type": "execute_result"
    }
   ],
   "source": [
    "a = json.loads(json.dumps({1:'1'}))\n",
    "b= json.loads(json.dumps({'1':'1'}))\n",
    "a"
   ]
  },
  {
   "cell_type": "code",
   "execution_count": 63,
   "metadata": {
    "ExecuteTime": {
     "end_time": "2020-04-28T20:03:05.976000Z",
     "start_time": "2020-04-28T20:03:05.961000Z"
    }
   },
   "outputs": [
    {
     "name": "stdout",
     "output_type": "stream",
     "text": [
      "->B\n",
      "->A\n",
      "<-A\n",
      "<-B\n"
     ]
    }
   ],
   "source": [
    "class A(object):\n",
    "    def __init__(self):\n",
    "        print('->A')\n",
    "        super(A,self).__init__()\n",
    "        print('<-A')\n",
    "        \n",
    "class B(A):\n",
    "    def __init__(self):\n",
    "        print('->B')\n",
    "        super(B,self).__init__()\n",
    "        print('<-B')\n",
    "        \n",
    "class C(B,A):\n",
    "    def __init__(self):\n",
    "        print('->C')\n",
    "        super(C, self).__init__()\n",
    "        print('<-C')\n",
    "\n",
    "b=B()"
   ]
  },
  {
   "cell_type": "code",
   "execution_count": 56,
   "metadata": {
    "ExecuteTime": {
     "end_time": "2020-04-28T00:35:12.101000Z",
     "start_time": "2020-04-28T00:35:12.092000Z"
    }
   },
   "outputs": [
    {
     "data": {
      "text/plain": [
       "[__main__.C]"
      ]
     },
     "execution_count": 56,
     "metadata": {},
     "output_type": "execute_result"
    }
   ],
   "source": [
    "b.__class__.__subclasses__()"
   ]
  },
  {
   "cell_type": "code",
   "execution_count": 9,
   "metadata": {
    "ExecuteTime": {
     "end_time": "2020-04-26T14:49:33.884000Z",
     "start_time": "2020-04-26T14:49:33.878000Z"
    }
   },
   "outputs": [
    {
     "name": "stdout",
     "output_type": "stream",
     "text": [
      "1\n",
      "2\n",
      "3\n"
     ]
    }
   ],
   "source": [
    "a = {1,2,3}\n",
    "b = set()\n",
    "for _ in a-b:\n",
    "    if _ not in v:\n",
    "        \n",
    "        print(a)"
   ]
  },
  {
   "cell_type": "code",
   "execution_count": 156,
   "metadata": {
    "ExecuteTime": {
     "end_time": "2020-04-21T01:42:55.860000Z",
     "start_time": "2020-04-21T01:42:55.855000Z"
    }
   },
   "outputs": [
    {
     "name": "stdout",
     "output_type": "stream",
     "text": [
      "<type 'list'>\n"
     ]
    }
   ],
   "source": [
    "a ={1:1}\n",
    "print(type(a.keys()))"
   ]
  },
  {
   "cell_type": "code",
   "execution_count": 167,
   "metadata": {
    "ExecuteTime": {
     "end_time": "2020-04-21T15:19:15.708000Z",
     "start_time": "2020-04-21T15:19:15.698000Z"
    }
   },
   "outputs": [
    {
     "data": {
      "text/plain": [
       "1"
      ]
     },
     "execution_count": 167,
     "metadata": {},
     "output_type": "execute_result"
    }
   ],
   "source": [
    "random.randint(0,1)"
   ]
  },
  {
   "cell_type": "code",
   "execution_count": 56,
   "metadata": {
    "ExecuteTime": {
     "end_time": "2020-04-19T18:01:12.663000Z",
     "start_time": "2020-04-19T18:01:12.652000Z"
    }
   },
   "outputs": [
    {
     "name": "stdout",
     "output_type": "stream",
     "text": [
      "(23, 'Subtree with Maximum Average')\n"
     ]
    }
   ],
   "source": [
    "amcat = '''\n",
    "Optimal Utilization [Experienced]\n",
    "Min Cost to Connect Ropes / Min Time to Merge Files [Experienced]\n",
    "Treasure Island / Min Distance to Remove the Obstacle (BFS) [Experienced]\n",
    "Treasure Island II\n",
    "Find Pair With Given Sum ⭐⭐ [Experienced, Intern]\n",
    "Copy List with Random Pointer ⭐⭐ [New Grad]\n",
    "Merge Two Sorted Lists ⭐⭐ [New Grad | Intern]\n",
    "Subtree of Another Tree ⭐⭐ [New Grad]\n",
    "Search a 2D Matrix II ⭐⭐ [New Grad]\n",
    "Critical Connections ⭐ [New Grad]\n",
    "Favorite Genres ⭐⭐ [New Grad]\n",
    "Two Sum - Unique Pairs ⭐⭐ [New Grad]\n",
    "Spiral Matrix ⭐ [New Grad]\n",
    "Count substrings with exactly K distinct chars ⭐ [Intern]\n",
    "Max Of Min Altitudes ⭐⭐ [Intern]\n",
    "Longest Palindromic Substring ⭐⭐ [Intern]\n",
    "Substrings of size K with K distinct chars ⭐⭐ [Intern]\n",
    "Most Common Word ⭐⭐ [Intern]\n",
    "K Closest Points to Origin ⭐ [Intern]\n",
    "Generate Parentheses ⭐ [Intern]\n",
    "Min Cost to Connect All Nodes (a.k.a. Min Cost to Add New Roads)\n",
    "Min Cost to Repair Edges (MST)\n",
    "Prison Cells After N Days\n",
    "Subtree with Maximum Average\n",
    "'''\n",
    "done = {-1,\n",
    "       11,\n",
    "       17,\n",
    "       16,\n",
    "       15,\n",
    "        4,\n",
    "       19,\n",
    "       5,\n",
    "       3,\n",
    "       20,\n",
    "        7,\n",
    "       14,\n",
    "       18,\n",
    "       21,\n",
    "       6,\n",
    "       0,\n",
    "       10,\n",
    "       22}\n",
    "amcat = [_ for _ in amcat.split('\\n') if _ != '']\n",
    "no = -1\n",
    "while no in done:  \n",
    "    no=random.randint(0,len(amcat)-1)\n",
    "print(no, amcat[no])\n"
   ]
  },
  {
   "cell_type": "code",
   "execution_count": 74,
   "metadata": {
    "ExecuteTime": {
     "end_time": "2020-04-20T18:55:12.562000Z",
     "start_time": "2020-04-20T18:55:12.553000Z"
    }
   },
   "outputs": [
    {
     "data": {
      "text/plain": [
       "'test'"
      ]
     },
     "execution_count": 74,
     "metadata": {},
     "output_type": "execute_result"
    }
   ],
   "source": [
    "class test:\n",
    "    def __init__(self):\n",
    "        pass\n",
    "t=test()\n",
    "t.__class__.__name__"
   ]
  },
  {
   "cell_type": "code",
   "execution_count": 94,
   "metadata": {
    "ExecuteTime": {
     "end_time": "2020-04-20T19:20:41.223000Z",
     "start_time": "2020-04-20T19:20:41.217000Z"
    }
   },
   "outputs": [
    {
     "name": "stdout",
     "output_type": "stream",
     "text": [
      "-0b10001010111\n"
     ]
    }
   ],
   "source": [
    "print(bin(-1111))"
   ]
  },
  {
   "cell_type": "code",
   "execution_count": 93,
   "metadata": {
    "ExecuteTime": {
     "end_time": "2020-04-20T19:20:27.399000Z",
     "start_time": "2020-04-20T19:20:27.391000Z"
    }
   },
   "outputs": [
    {
     "data": {
      "text/plain": [
       "'0b1010'"
      ]
     },
     "execution_count": 93,
     "metadata": {},
     "output_type": "execute_result"
    }
   ],
   "source": [
    "bin(ord('\\n'))"
   ]
  },
  {
   "cell_type": "code",
   "execution_count": 79,
   "metadata": {
    "ExecuteTime": {
     "end_time": "2020-04-20T19:12:53.347000Z",
     "start_time": "2020-04-20T19:12:53.342000Z"
    }
   },
   "outputs": [
    {
     "name": "stdout",
     "output_type": "stream",
     "text": [
      "False\n",
      "False\n"
     ]
    }
   ],
   "source": [
    "print([] is None)\n",
    "if []:\n",
    "    print(True)\n",
    "else:\n",
    "    print(False)"
   ]
  },
  {
   "cell_type": "code",
   "execution_count": 57,
   "metadata": {
    "ExecuteTime": {
     "end_time": "2020-04-19T18:01:12.846000Z",
     "start_time": "2020-04-19T18:01:12.838000Z"
    }
   },
   "outputs": [
    {
     "data": {
      "text/plain": [
       "'Questions =24; Done=17; Remaining=7'"
      ]
     },
     "execution_count": 57,
     "metadata": {},
     "output_type": "execute_result"
    }
   ],
   "source": [
    "'Questions ={}; Done={}; Remaining={}'.format(len(amcat),len(done)-1, len(amcat)-len(done)+1)"
   ]
  },
  {
   "cell_type": "code",
   "execution_count": 48,
   "metadata": {
    "ExecuteTime": {
     "end_time": "2020-04-20T13:54:21.823000Z",
     "start_time": "2020-04-20T13:54:21.816000Z"
    }
   },
   "outputs": [
    {
     "name": "stdout",
     "output_type": "stream",
     "text": [
      "set([2])\n"
     ]
    }
   ],
   "source": [
    "a={1,2,3}\n",
    "b={2,5}\n",
    "print(a&b)"
   ]
  },
  {
   "cell_type": "code",
   "execution_count": 59,
   "metadata": {
    "ExecuteTime": {
     "end_time": "2020-04-19T19:15:17.207000Z",
     "start_time": "2020-04-19T19:15:17.200000Z"
    }
   },
   "outputs": [
    {
     "data": {
      "text/plain": [
       "['Min Cost to Connect Ropes / Min Time to Merge Files [Experienced]',\n",
       " 'Treasure Island / Min Distance to Remove the Obstacle (BFS) [Experienced]',\n",
       " 'Search a 2D Matrix II \\xe2\\xad\\x90\\xe2\\xad\\x90 [New Grad]',\n",
       " 'Critical Connections \\xe2\\xad\\x90 [New Grad]',\n",
       " 'Spiral Matrix \\xe2\\xad\\x90 [New Grad]',\n",
       " 'Count substrings with exactly K distinct chars \\xe2\\xad\\x90 [Intern]',\n",
       " 'Subtree with Maximum Average']"
      ]
     },
     "execution_count": 59,
     "metadata": {},
     "output_type": "execute_result"
    }
   ],
   "source": [
    "[amcat[x] for x in range(0,len(amcat)) if x not in done]"
   ]
  },
  {
   "cell_type": "code",
   "execution_count": 77,
   "metadata": {
    "ExecuteTime": {
     "end_time": "2020-04-19T19:50:24.543000Z",
     "start_time": "2020-04-19T19:50:24.517000Z"
    }
   },
   "outputs": [
    {
     "name": "stdout",
     "output_type": "stream",
     "text": [
      "6\n",
      "Counter({'hover': 2, 'waterproof': 2, 'alexa': 1, 'battery': 1, 'storage': 1, 'solar': 1})\n"
     ]
    },
    {
     "ename": "TypeError",
     "evalue": "bad operand type for unary ~: 'str'",
     "output_type": "error",
     "traceback": [
      "\u001b[1;31m---------------------------------------------------------------------------\u001b[0m",
      "\u001b[1;31mTypeError\u001b[0m                                 Traceback (most recent call last)",
      "\u001b[1;32m<ipython-input-77-981c1c970d59>\u001b[0m in \u001b[0;36m<module>\u001b[1;34m()\u001b[0m\n\u001b[0;32m     25\u001b[0m     \u001b[1;32mreturn\u001b[0m \u001b[1;33m[\u001b[0m\u001b[0mx\u001b[0m\u001b[1;33m[\u001b[0m\u001b[1;36m0\u001b[0m\u001b[1;33m]\u001b[0m \u001b[1;32mfor\u001b[0m \u001b[0mx\u001b[0m \u001b[1;32min\u001b[0m \u001b[0msorted\u001b[0m\u001b[1;33m(\u001b[0m\u001b[0mf\u001b[0m\u001b[1;33m.\u001b[0m\u001b[0mitems\u001b[0m\u001b[1;33m(\u001b[0m\u001b[1;33m)\u001b[0m\u001b[1;33m,\u001b[0m \u001b[0mkey\u001b[0m\u001b[1;33m=\u001b[0m\u001b[1;32mlambda\u001b[0m \u001b[0ml\u001b[0m\u001b[1;33m:\u001b[0m\u001b[1;33m[\u001b[0m\u001b[0ml\u001b[0m\u001b[1;33m[\u001b[0m\u001b[1;36m1\u001b[0m\u001b[1;33m]\u001b[0m\u001b[1;33m,\u001b[0m \u001b[1;33m~\u001b[0m\u001b[0ml\u001b[0m\u001b[1;33m[\u001b[0m\u001b[1;36m0\u001b[0m\u001b[1;33m]\u001b[0m\u001b[1;33m]\u001b[0m\u001b[1;33m,\u001b[0m \u001b[0mreverse\u001b[0m\u001b[1;33m=\u001b[0m\u001b[0mTrue\u001b[0m\u001b[1;33m)\u001b[0m\u001b[1;33m]\u001b[0m\u001b[1;33m\u001b[0m\u001b[0m\n\u001b[0;32m     26\u001b[0m \u001b[1;33m\u001b[0m\u001b[0m\n\u001b[1;32m---> 27\u001b[1;33m \u001b[1;32mprint\u001b[0m\u001b[1;33m(\u001b[0m\u001b[0msol\u001b[0m\u001b[1;33m(\u001b[0m\u001b[0mtopFeatures\u001b[0m\u001b[1;33m,\u001b[0m \u001b[0mpossibleFeatures\u001b[0m\u001b[1;33m,\u001b[0m \u001b[0mfeatureRequests\u001b[0m\u001b[1;33m)\u001b[0m\u001b[1;33m)\u001b[0m\u001b[1;33m\u001b[0m\u001b[0m\n\u001b[0m",
      "\u001b[1;32m<ipython-input-77-981c1c970d59>\u001b[0m in \u001b[0;36msol\u001b[1;34m(tf, f, fr)\u001b[0m\n\u001b[0;32m     23\u001b[0m                 \u001b[0mf\u001b[0m\u001b[1;33m[\u001b[0m\u001b[0mn\u001b[0m\u001b[1;33m]\u001b[0m\u001b[1;33m+=\u001b[0m\u001b[1;36m1\u001b[0m\u001b[1;33m\u001b[0m\u001b[0m\n\u001b[0;32m     24\u001b[0m     \u001b[1;32mprint\u001b[0m\u001b[1;33m(\u001b[0m\u001b[0mf\u001b[0m\u001b[1;33m)\u001b[0m\u001b[1;33m\u001b[0m\u001b[0m\n\u001b[1;32m---> 25\u001b[1;33m     \u001b[1;32mreturn\u001b[0m \u001b[1;33m[\u001b[0m\u001b[0mx\u001b[0m\u001b[1;33m[\u001b[0m\u001b[1;36m0\u001b[0m\u001b[1;33m]\u001b[0m \u001b[1;32mfor\u001b[0m \u001b[0mx\u001b[0m \u001b[1;32min\u001b[0m \u001b[0msorted\u001b[0m\u001b[1;33m(\u001b[0m\u001b[0mf\u001b[0m\u001b[1;33m.\u001b[0m\u001b[0mitems\u001b[0m\u001b[1;33m(\u001b[0m\u001b[1;33m)\u001b[0m\u001b[1;33m,\u001b[0m \u001b[0mkey\u001b[0m\u001b[1;33m=\u001b[0m\u001b[1;32mlambda\u001b[0m \u001b[0ml\u001b[0m\u001b[1;33m:\u001b[0m\u001b[1;33m[\u001b[0m\u001b[0ml\u001b[0m\u001b[1;33m[\u001b[0m\u001b[1;36m1\u001b[0m\u001b[1;33m]\u001b[0m\u001b[1;33m,\u001b[0m \u001b[1;33m~\u001b[0m\u001b[0ml\u001b[0m\u001b[1;33m[\u001b[0m\u001b[1;36m0\u001b[0m\u001b[1;33m]\u001b[0m\u001b[1;33m]\u001b[0m\u001b[1;33m,\u001b[0m \u001b[0mreverse\u001b[0m\u001b[1;33m=\u001b[0m\u001b[0mTrue\u001b[0m\u001b[1;33m)\u001b[0m\u001b[1;33m]\u001b[0m\u001b[1;33m\u001b[0m\u001b[0m\n\u001b[0m\u001b[0;32m     26\u001b[0m \u001b[1;33m\u001b[0m\u001b[0m\n\u001b[0;32m     27\u001b[0m \u001b[1;32mprint\u001b[0m\u001b[1;33m(\u001b[0m\u001b[0msol\u001b[0m\u001b[1;33m(\u001b[0m\u001b[0mtopFeatures\u001b[0m\u001b[1;33m,\u001b[0m \u001b[0mpossibleFeatures\u001b[0m\u001b[1;33m,\u001b[0m \u001b[0mfeatureRequests\u001b[0m\u001b[1;33m)\u001b[0m\u001b[1;33m)\u001b[0m\u001b[1;33m\u001b[0m\u001b[0m\n",
      "\u001b[1;32m<ipython-input-77-981c1c970d59>\u001b[0m in \u001b[0;36m<lambda>\u001b[1;34m(l)\u001b[0m\n\u001b[0;32m     23\u001b[0m                 \u001b[0mf\u001b[0m\u001b[1;33m[\u001b[0m\u001b[0mn\u001b[0m\u001b[1;33m]\u001b[0m\u001b[1;33m+=\u001b[0m\u001b[1;36m1\u001b[0m\u001b[1;33m\u001b[0m\u001b[0m\n\u001b[0;32m     24\u001b[0m     \u001b[1;32mprint\u001b[0m\u001b[1;33m(\u001b[0m\u001b[0mf\u001b[0m\u001b[1;33m)\u001b[0m\u001b[1;33m\u001b[0m\u001b[0m\n\u001b[1;32m---> 25\u001b[1;33m     \u001b[1;32mreturn\u001b[0m \u001b[1;33m[\u001b[0m\u001b[0mx\u001b[0m\u001b[1;33m[\u001b[0m\u001b[1;36m0\u001b[0m\u001b[1;33m]\u001b[0m \u001b[1;32mfor\u001b[0m \u001b[0mx\u001b[0m \u001b[1;32min\u001b[0m \u001b[0msorted\u001b[0m\u001b[1;33m(\u001b[0m\u001b[0mf\u001b[0m\u001b[1;33m.\u001b[0m\u001b[0mitems\u001b[0m\u001b[1;33m(\u001b[0m\u001b[1;33m)\u001b[0m\u001b[1;33m,\u001b[0m \u001b[0mkey\u001b[0m\u001b[1;33m=\u001b[0m\u001b[1;32mlambda\u001b[0m \u001b[0ml\u001b[0m\u001b[1;33m:\u001b[0m\u001b[1;33m[\u001b[0m\u001b[0ml\u001b[0m\u001b[1;33m[\u001b[0m\u001b[1;36m1\u001b[0m\u001b[1;33m]\u001b[0m\u001b[1;33m,\u001b[0m \u001b[1;33m~\u001b[0m\u001b[0ml\u001b[0m\u001b[1;33m[\u001b[0m\u001b[1;36m0\u001b[0m\u001b[1;33m]\u001b[0m\u001b[1;33m]\u001b[0m\u001b[1;33m,\u001b[0m \u001b[0mreverse\u001b[0m\u001b[1;33m=\u001b[0m\u001b[0mTrue\u001b[0m\u001b[1;33m)\u001b[0m\u001b[1;33m]\u001b[0m\u001b[1;33m\u001b[0m\u001b[0m\n\u001b[0m\u001b[0;32m     26\u001b[0m \u001b[1;33m\u001b[0m\u001b[0m\n\u001b[0;32m     27\u001b[0m \u001b[1;32mprint\u001b[0m\u001b[1;33m(\u001b[0m\u001b[0msol\u001b[0m\u001b[1;33m(\u001b[0m\u001b[0mtopFeatures\u001b[0m\u001b[1;33m,\u001b[0m \u001b[0mpossibleFeatures\u001b[0m\u001b[1;33m,\u001b[0m \u001b[0mfeatureRequests\u001b[0m\u001b[1;33m)\u001b[0m\u001b[1;33m)\u001b[0m\u001b[1;33m\u001b[0m\u001b[0m\n",
      "\u001b[1;31mTypeError\u001b[0m: bad operand type for unary ~: 'str'"
     ]
    }
   ],
   "source": [
    "numFeatures = 6\n",
    "topFeatures = 2\n",
    "possibleFeatures = [\"storage\", \"battery\", \"hover\", \"alexa\", \"waterproof\", \"solar\"]\n",
    "numFeatureRequests = 7\n",
    "featureRequests = [\"I wish my Kindle had even more storage\",\n",
    "\"I wish the battery life on my Kindle lasted 2 years\", \"I read in the bath and would enjoy a waterproof Kindle\",\n",
    "\"I want to take my Kindle into the hover. Waterproof please waterproof!\", \"It would be neat if my Kindle would hover on my desk when not in use\",\n",
    "\"How cool would it be if my Kindle charged in the sun via solar power?\"]\n",
    "print(len(featureRequests))\n",
    "\n",
    "def sol(tf,f,fr):\n",
    "    \n",
    "    def clp(s): # clear punctuations\n",
    "        for i,c in enumerate(s):\n",
    "            if not c.isalnum():\n",
    "                return s[:i]\n",
    "    \n",
    "    f = collections.Counter(f)\n",
    "    for fn in fr:\n",
    "        fn = set([clp(x) for x in fn.split(' ')])\n",
    "        for n in fn:\n",
    "            if n in f:\n",
    "                f[n]+=1\n",
    "    print(f)\n",
    "    return [x[0] for x in sorted(f.items(), key=lambda l:[l[1], ~l[0]], reverse=True)]\n",
    "\n",
    "print(sol(topFeatures, possibleFeatures, featureRequests))"
   ]
  },
  {
   "cell_type": "code",
   "execution_count": 37,
   "metadata": {
    "ExecuteTime": {
     "end_time": "2020-04-19T16:27:41.780000Z",
     "start_time": "2020-04-19T16:27:41.746000Z"
    }
   },
   "outputs": [
    {
     "data": {
      "text/plain": [
       "[[3, 2], [1, 3]]"
      ]
     },
     "execution_count": 37,
     "metadata": {},
     "output_type": "execute_result"
    }
   ],
   "source": [
    "def sdol(l1,l2,t):\n",
    "    l1=sorted(l1, key=lambda l:l[1])\n",
    "    l2=sorted(l2, key=lambda l:l[1])\n",
    "    res = set()\n",
    "    b,e = 0, len(l2)-1\n",
    "    md = t\n",
    "    while b<len(l1) and e>=0:\n",
    "        diff = t-l1[b][1]-l2[e][1]\n",
    "        if diff>0:\n",
    "            if diff<md:\n",
    "                md=diff\n",
    "                res = set([(l1[b][0],l2[e][0])])\n",
    "                while e-1>=0 and l2[e-1][1] == l2[e][1]:\n",
    "                    e-=1\n",
    "                    res.add((l1[b][0],l2[e][0]))     \n",
    "            elif diff==md:\n",
    "                res.add((l1[b][0],l2[e][0]))\n",
    "                while e-1>=0 and l2[e-1][1] == l2[e][1]:\n",
    "                    e-=1\n",
    "                    res.add((l1[b][0], l2[e][0]))\n",
    "            b+=1\n",
    "        elif diff<0:\n",
    "            e-=1\n",
    "        else:\n",
    "            if md !=0:\n",
    "                res = set([(l1[b][0], l2[e][0])])\n",
    "                md=0\n",
    "            else:\n",
    "                res.add((l1[b][0], l2[e][0]))\n",
    "            while e-1>=0 and l2[e-1][1] == l2[e][1]:\n",
    "                e-=1\n",
    "                res.add((l1[b][0],l2[e][0]))\n",
    "            while b+1<len(l1) and l1[b+1][1] == l1[b][1]:\n",
    "                b+=1\n",
    "                res.add((l1[b][0], l2[e][0]))\n",
    "            e-=1\n",
    "            b+=1\n",
    "    return [list(x) for x in res]\n",
    "a = [[1, 8], [2, 15], [3, 9]]\n",
    "b = [[1, 8], [2, 11], [3, 12]]\n",
    "target = 20\n",
    "sdol(a,b,target)"
   ]
  },
  {
   "cell_type": "code",
   "execution_count": 7,
   "metadata": {
    "ExecuteTime": {
     "end_time": "2020-04-19T02:56:14.074000Z",
     "start_time": "2020-04-19T02:56:14.066000Z"
    }
   },
   "outputs": [
    {
     "data": {
      "text/plain": [
       "{(-1, -1), (-1, 0), (-1, 1), (0, -1), (0, 1), (1, -1), (1, 0), (1, 1)}"
      ]
     },
     "execution_count": 7,
     "metadata": {},
     "output_type": "execute_result"
    }
   ],
   "source": [
    "set(itertools.permutations([],2))"
   ]
  },
  {
   "cell_type": "code",
   "execution_count": 89,
   "metadata": {
    "ExecuteTime": {
     "end_time": "2020-04-17T04:30:52.682000Z",
     "start_time": "2020-04-17T04:30:52.677000Z"
    }
   },
   "outputs": [
    {
     "name": "stdout",
     "output_type": "stream",
     "text": [
      "set([1, 2, 3])\n"
     ]
    }
   ],
   "source": [
    "g={2: {1, 2, 3}, 3: {1, 2, 3}, 1: {1, 2, 3}}\n",
    "print(reduce(lambda x,y: {-1} if x!=y else x, g.values()))"
   ]
  },
  {
   "cell_type": "code",
   "execution_count": 44,
   "metadata": {
    "ExecuteTime": {
     "end_time": "2020-04-16T00:46:36.207000Z",
     "start_time": "2020-04-16T00:46:36.153000Z"
    }
   },
   "outputs": [
    {
     "name": "stdout",
     "output_type": "stream",
     "text": [
      "babaddtattarrattatddetartrateedredividerb\n",
      "abaddtattarrattatddetartrateedredividerb\n",
      "baddtattarrattatddetartrateedredividerb\n",
      "addtattarrattatddetartrateedredividerb\n",
      "ddtattarrattatddetartrateedredividerb\n",
      "dtattarrattatddetartrateedredividerb\n",
      "tattarrattatddetartrateedredividerb\n",
      "attarrattatddetartrateedredividerb\n",
      "ttarrattatddetartrateedredividerb\n",
      "tarrattatddetartrateedredividerb\n",
      "arrattatddetartrateedredividerb\n",
      "rrattatddetartrateedredividerb\n",
      "rattatddetartrateedredividerb\n",
      "attatddetartrateedredividerb\n",
      "ttatddetartrateedredividerb\n",
      "tatddetartrateedredividerb\n",
      "atddetartrateedredividerb\n",
      "tddetartrateedredividerb\n",
      "ddetartrateedredividerb\n",
      "detartrateedredividerb\n",
      "etartrateedredividerb\n",
      "tartrateedredividerb\n",
      "artrateedredividerb\n",
      "rtrateedredividerb\n",
      "trateedredividerb\n",
      "rateedredividerb\n",
      "ateedredividerb\n",
      "teedredividerb\n",
      "eedredividerb\n",
      "edredividerb\n",
      "dredividerb\n",
      "redividerb\n",
      "edividerb\n",
      "dividerb\n",
      "ividerb\n",
      "viderb\n",
      "iderb\n",
      "derb\n",
      "erb\n",
      "rb\n",
      "b\n",
      "r\n",
      "er\n",
      "e\n",
      "der\n",
      "de\n",
      "d\n",
      "ider\n",
      "ide\n",
      "id\n",
      "i\n",
      "vider\n",
      "vide\n",
      "vid\n",
      "vi\n",
      "v\n",
      "ivider\n",
      "ivide\n",
      "ivid\n",
      "ivi\n",
      "divider\n",
      "divide\n",
      "divid\n",
      "edivider\n",
      "edivide\n",
      "redivider\n",
      "dredivider\n",
      "dredivide\n",
      "edredivider\n",
      "edredivide\n",
      "edredivid\n",
      "eedredivider\n",
      "eedredivide\n",
      "eedredivid\n",
      "eedredivi\n",
      "teedredivider\n",
      "teedredivide\n",
      "teedredivid\n",
      "teedredivi\n",
      "teedrediv\n",
      "ateedredivider\n",
      "ateedredivide\n",
      "ateedredivid\n",
      "ateedredivi\n",
      "ateedrediv\n",
      "ateedredi\n",
      "rateedredivider\n",
      "rateedredivide\n",
      "rateedredivid\n",
      "rateedredivi\n",
      "rateedrediv\n",
      "rateedredi\n",
      "rateedred\n",
      "trateedredivider\n",
      "trateedredivide\n",
      "trateedredivid\n",
      "trateedredivi\n",
      "trateedrediv\n",
      "trateedredi\n",
      "trateedred\n",
      "trateedre\n",
      "rtrateedredivider\n",
      "rtrateedredivide\n",
      "rtrateedredivid\n",
      "rtrateedredivi\n",
      "rtrateedrediv\n",
      "rtrateedredi\n",
      "rtrateedred\n",
      "rtrateedre\n",
      "rtrateedr\n",
      "artrateedredivider\n",
      "artrateedredivide\n",
      "artrateedredivid\n",
      "artrateedredivi\n",
      "artrateedrediv\n",
      "artrateedredi\n",
      "artrateedred\n",
      "artrateedre\n",
      "artrateedr\n",
      "artrateed\n",
      "tartrateedredivider\n",
      "tartrateedredivide\n",
      "tartrateedredivid\n",
      "tartrateedredivi\n",
      "tartrateedrediv\n",
      "tartrateedredi\n",
      "tartrateedred\n",
      "tartrateedre\n",
      "tartrateedr\n",
      "tartrateed\n",
      "tartratee\n",
      "etartrateedredivider\n",
      "etartrateedredivide\n",
      "etartrateedredivid\n",
      "etartrateedredivi\n",
      "etartrateedrediv\n",
      "etartrateedredi\n",
      "etartrateedred\n",
      "etartrateedre\n",
      "etartrateedr\n",
      "etartrateed\n",
      "etartratee\n",
      "etartrate\n",
      "detartrateedredivider\n",
      "detartrateedredivide\n",
      "detartrateedredivid\n",
      "detartrateedredivi\n",
      "detartrateedrediv\n",
      "detartrateedredi\n",
      "detartrateedred\n",
      "detartrateedre\n",
      "detartrateedr\n",
      "detartrateed\n",
      "detartratee\n",
      "detartrate\n",
      "detartrat\n",
      "ddetartrateedredivider\n",
      "ddetartrateedredivide\n",
      "ddetartrateedredivid\n",
      "ddetartrateedredivi\n",
      "ddetartrateedrediv\n",
      "ddetartrateedredi\n",
      "ddetartrateedred\n",
      "ddetartrateedre\n",
      "ddetartrateedr\n",
      "ddetartrateed\n",
      "ddetartratee\n",
      "ddetartrate\n",
      "ddetartrat\n",
      "ddetartra\n",
      "tddetartrateedredivider\n",
      "tddetartrateedredivide\n",
      "tddetartrateedredivid\n",
      "tddetartrateedredivi\n",
      "tddetartrateedrediv\n",
      "tddetartrateedredi\n",
      "tddetartrateedred\n",
      "tddetartrateedre\n",
      "tddetartrateedr\n",
      "tddetartrateed\n",
      "tddetartratee\n",
      "tddetartrate\n",
      "tddetartrat\n",
      "tddetartra\n",
      "tddetartr\n",
      "atddetartrateedredivider\n",
      "atddetartrateedredivide\n",
      "atddetartrateedredivid\n",
      "atddetartrateedredivi\n",
      "atddetartrateedrediv\n",
      "atddetartrateedredi\n",
      "atddetartrateedred\n",
      "atddetartrateedre\n",
      "atddetartrateedr\n",
      "atddetartrateed\n",
      "atddetartratee\n",
      "atddetartrate\n",
      "atddetartrat\n",
      "atddetartra\n",
      "atddetartr\n",
      "atddetart\n",
      "tatddetartrateedredivider\n",
      "tatddetartrateedredivide\n",
      "tatddetartrateedredivid\n",
      "tatddetartrateedredivi\n",
      "tatddetartrateedrediv\n",
      "tatddetartrateedredi\n",
      "tatddetartrateedred\n",
      "tatddetartrateedre\n",
      "tatddetartrateedr\n",
      "tatddetartrateed\n",
      "tatddetartratee\n",
      "tatddetartrate\n",
      "tatddetartrat\n",
      "tatddetartra\n",
      "tatddetartr\n",
      "tatddetart\n",
      "tatddetar\n",
      "ttatddetartrateedredivider\n",
      "ttatddetartrateedredivide\n",
      "ttatddetartrateedredivid\n",
      "ttatddetartrateedredivi\n",
      "ttatddetartrateedrediv\n",
      "ttatddetartrateedredi\n",
      "ttatddetartrateedred\n",
      "ttatddetartrateedre\n",
      "ttatddetartrateedr\n",
      "ttatddetartrateed\n",
      "ttatddetartratee\n",
      "ttatddetartrate\n",
      "ttatddetartrat\n",
      "ttatddetartra\n",
      "ttatddetartr\n",
      "ttatddetart\n",
      "ttatddetar\n",
      "ttatddeta\n",
      "attatddetartrateedredivider\n",
      "attatddetartrateedredivide\n",
      "attatddetartrateedredivid\n",
      "attatddetartrateedredivi\n",
      "attatddetartrateedrediv\n",
      "attatddetartrateedredi\n",
      "attatddetartrateedred\n",
      "attatddetartrateedre\n",
      "attatddetartrateedr\n",
      "attatddetartrateed\n",
      "attatddetartratee\n",
      "attatddetartrate\n",
      "attatddetartrat\n",
      "attatddetartra\n",
      "attatddetartr\n",
      "attatddetart\n",
      "attatddetar\n",
      "attatddeta\n",
      "attatddet\n",
      "rattatddetartrateedredivider\n",
      "rattatddetartrateedredivide\n",
      "rattatddetartrateedredivid\n",
      "rattatddetartrateedredivi\n",
      "rattatddetartrateedrediv\n",
      "rattatddetartrateedredi\n",
      "rattatddetartrateedred\n",
      "rattatddetartrateedre\n",
      "rattatddetartrateedr\n",
      "rattatddetartrateed\n",
      "rattatddetartratee\n",
      "rattatddetartrate\n",
      "rattatddetartrat\n",
      "rattatddetartra\n",
      "rattatddetartr\n",
      "rattatddetart\n",
      "rattatddetar\n",
      "rattatddeta\n",
      "rattatddet\n",
      "rattatdde\n",
      "rrattatddetartrateedredivider\n",
      "rrattatddetartrateedredivide\n",
      "rrattatddetartrateedredivid\n",
      "rrattatddetartrateedredivi\n",
      "rrattatddetartrateedrediv\n",
      "rrattatddetartrateedredi\n",
      "rrattatddetartrateedred\n",
      "rrattatddetartrateedre\n",
      "rrattatddetartrateedr\n",
      "rrattatddetartrateed\n",
      "rrattatddetartratee\n",
      "rrattatddetartrate\n",
      "rrattatddetartrat\n",
      "rrattatddetartra\n",
      "rrattatddetartr\n",
      "rrattatddetart\n",
      "rrattatddetar\n",
      "rrattatddeta\n",
      "rrattatddet\n",
      "rrattatdde\n",
      "rrattatdd\n",
      "arrattatddetartrateedredivider\n",
      "arrattatddetartrateedredivide\n",
      "arrattatddetartrateedredivid\n",
      "arrattatddetartrateedredivi\n",
      "arrattatddetartrateedrediv\n",
      "arrattatddetartrateedredi\n",
      "arrattatddetartrateedred\n",
      "arrattatddetartrateedre\n",
      "arrattatddetartrateedr\n",
      "arrattatddetartrateed\n",
      "arrattatddetartratee\n",
      "arrattatddetartrate\n",
      "arrattatddetartrat\n",
      "arrattatddetartra\n",
      "arrattatddetartr\n",
      "arrattatddetart\n",
      "arrattatddetar\n",
      "arrattatddeta\n",
      "arrattatddet\n",
      "arrattatdde\n",
      "arrattatdd\n",
      "arrattatd\n",
      "tarrattatddetartrateedredivider\n",
      "tarrattatddetartrateedredivide\n",
      "tarrattatddetartrateedredivid\n",
      "tarrattatddetartrateedredivi\n",
      "tarrattatddetartrateedrediv\n",
      "tarrattatddetartrateedredi\n",
      "tarrattatddetartrateedred\n",
      "tarrattatddetartrateedre\n",
      "tarrattatddetartrateedr\n",
      "tarrattatddetartrateed\n",
      "tarrattatddetartratee\n",
      "tarrattatddetartrate\n",
      "tarrattatddetartrat\n",
      "tarrattatddetartra\n",
      "tarrattatddetartr\n",
      "tarrattatddetart\n",
      "tarrattatddetar\n",
      "tarrattatddeta\n",
      "tarrattatddet\n",
      "tarrattatdde\n",
      "tarrattatdd\n",
      "tarrattatd\n",
      "tarrattat\n",
      "ttarrattatddetartrateedredivider\n",
      "ttarrattatddetartrateedredivide\n",
      "ttarrattatddetartrateedredivid\n",
      "ttarrattatddetartrateedredivi\n",
      "ttarrattatddetartrateedrediv\n",
      "ttarrattatddetartrateedredi\n",
      "ttarrattatddetartrateedred\n",
      "ttarrattatddetartrateedre\n",
      "ttarrattatddetartrateedr\n",
      "ttarrattatddetartrateed\n",
      "ttarrattatddetartratee\n",
      "ttarrattatddetartrate\n",
      "ttarrattatddetartrat\n",
      "ttarrattatddetartra\n",
      "ttarrattatddetartr\n",
      "ttarrattatddetart\n",
      "ttarrattatddetar\n",
      "ttarrattatddeta\n",
      "ttarrattatddet\n",
      "ttarrattatdde\n",
      "ttarrattatdd\n",
      "ttarrattatd\n",
      "ttarrattat\n",
      "ttarratta\n",
      "attarrattatddetartrateedredivider\n",
      "attarrattatddetartrateedredivide\n",
      "attarrattatddetartrateedredivid\n",
      "attarrattatddetartrateedredivi\n",
      "attarrattatddetartrateedrediv\n",
      "attarrattatddetartrateedredi\n",
      "attarrattatddetartrateedred\n",
      "attarrattatddetartrateedre\n",
      "attarrattatddetartrateedr\n",
      "attarrattatddetartrateed\n",
      "attarrattatddetartratee\n",
      "attarrattatddetartrate\n",
      "attarrattatddetartrat\n",
      "attarrattatddetartra\n",
      "attarrattatddetartr\n",
      "attarrattatddetart\n",
      "attarrattatddetar\n",
      "attarrattatddeta\n",
      "attarrattatddet\n",
      "attarrattatdde\n",
      "attarrattatdd\n",
      "attarrattatd\n",
      "attarrattat\n",
      "attarratta\n",
      "tattarrattatddetartrateedredivider\n",
      "tattarrattatddetartrateedredivide\n",
      "tattarrattatddetartrateedredivid\n",
      "tattarrattatddetartrateedredivi\n",
      "tattarrattatddetartrateedrediv\n",
      "tattarrattatddetartrateedredi\n",
      "tattarrattatddetartrateedred\n",
      "tattarrattatddetartrateedre\n",
      "tattarrattatddetartrateedr\n",
      "tattarrattatddetartrateed\n",
      "tattarrattatddetartratee\n",
      "tattarrattatddetartrate\n",
      "tattarrattatddetartrat\n",
      "tattarrattatddetartra\n",
      "tattarrattatddetartr\n",
      "tattarrattatddetart\n",
      "tattarrattatddetar\n",
      "tattarrattatddeta\n",
      "tattarrattatddet\n",
      "tattarrattatdde\n",
      "tattarrattatdd\n",
      "tattarrattatd\n",
      "tattarrattat\n",
      "dtattarrattatddetartrateedredivider\n",
      "dtattarrattatddetartrateedredivide\n",
      "dtattarrattatddetartrateedredivid\n",
      "dtattarrattatddetartrateedredivi\n",
      "dtattarrattatddetartrateedrediv\n",
      "dtattarrattatddetartrateedredi\n",
      "dtattarrattatddetartrateedred\n",
      "dtattarrattatddetartrateedre\n",
      "dtattarrattatddetartrateedr\n",
      "dtattarrattatddetartrateed\n",
      "dtattarrattatddetartratee\n",
      "dtattarrattatddetartrate\n",
      "dtattarrattatddetartrat\n",
      "dtattarrattatddetartra\n",
      "dtattarrattatddetartr\n",
      "dtattarrattatddetart\n",
      "dtattarrattatddetar\n",
      "dtattarrattatddeta\n",
      "dtattarrattatddet\n",
      "dtattarrattatdde\n",
      "dtattarrattatdd\n",
      "dtattarrattatd\n",
      "ddtattarrattatddetartrateedredivider\n",
      "ddtattarrattatddetartrateedredivide\n",
      "ddtattarrattatddetartrateedredivid\n",
      "ddtattarrattatddetartrateedredivi\n",
      "ddtattarrattatddetartrateedrediv\n",
      "ddtattarrattatddetartrateedredi\n",
      "ddtattarrattatddetartrateedred\n",
      "ddtattarrattatddetartrateedre\n",
      "ddtattarrattatddetartrateedr\n",
      "ddtattarrattatddetartrateed\n",
      "ddtattarrattatddetartratee\n",
      "ddtattarrattatddetartrate\n",
      "ddtattarrattatddetartrat\n",
      "ddtattarrattatddetartra\n",
      "ddtattarrattatddetartr\n",
      "ddtattarrattatddetart\n",
      "ddtattarrattatddetar\n",
      "ddtattarrattatddeta\n",
      "ddtattarrattatddet\n",
      "ddtattarrattatdde\n",
      "ddtattarrattatdd\n",
      "addtattarrattatddetartrateedredivider\n",
      "addtattarrattatddetartrateedredivide\n",
      "addtattarrattatddetartrateedredivid\n",
      "addtattarrattatddetartrateedredivi\n",
      "addtattarrattatddetartrateedrediv\n",
      "addtattarrattatddetartrateedredi\n",
      "addtattarrattatddetartrateedred\n",
      "addtattarrattatddetartrateedre\n",
      "addtattarrattatddetartrateedr\n",
      "addtattarrattatddetartrateed\n",
      "addtattarrattatddetartratee\n",
      "addtattarrattatddetartrate\n",
      "addtattarrattatddetartrat\n",
      "addtattarrattatddetartra\n",
      "addtattarrattatddetartr\n",
      "addtattarrattatddetart\n",
      "addtattarrattatddetar\n",
      "addtattarrattatddeta\n",
      "addtattarrattatddet\n",
      "addtattarrattatdde\n",
      "addtattarrattatdd\n",
      "addtattarrattatd\n",
      "baddtattarrattatddetartrateedredivider\n",
      "baddtattarrattatddetartrateedredivide\n",
      "baddtattarrattatddetartrateedredivid\n",
      "baddtattarrattatddetartrateedredivi\n",
      "baddtattarrattatddetartrateedrediv\n",
      "baddtattarrattatddetartrateedredi\n",
      "baddtattarrattatddetartrateedred\n",
      "baddtattarrattatddetartrateedre\n",
      "baddtattarrattatddetartrateedr\n",
      "baddtattarrattatddetartrateed\n",
      "baddtattarrattatddetartratee\n",
      "baddtattarrattatddetartrate\n",
      "baddtattarrattatddetartrat\n",
      "baddtattarrattatddetartra\n",
      "baddtattarrattatddetartr\n",
      "baddtattarrattatddetart\n",
      "baddtattarrattatddetar\n",
      "baddtattarrattatddeta\n",
      "baddtattarrattatddet\n",
      "baddtattarrattatdde\n",
      "baddtattarrattatdd\n",
      "baddtattarrattatd\n",
      "baddtattarrattat\n",
      "abaddtattarrattatddetartrateedredivider\n",
      "abaddtattarrattatddetartrateedredivide\n",
      "abaddtattarrattatddetartrateedredivid\n",
      "abaddtattarrattatddetartrateedredivi\n",
      "abaddtattarrattatddetartrateedrediv\n",
      "abaddtattarrattatddetartrateedredi\n",
      "abaddtattarrattatddetartrateedred\n",
      "abaddtattarrattatddetartrateedre\n",
      "abaddtattarrattatddetartrateedr\n",
      "abaddtattarrattatddetartrateed\n",
      "abaddtattarrattatddetartratee\n",
      "abaddtattarrattatddetartrate\n",
      "abaddtattarrattatddetartrat\n",
      "abaddtattarrattatddetartra\n",
      "abaddtattarrattatddetartr\n",
      "abaddtattarrattatddetart\n",
      "abaddtattarrattatddetar\n",
      "abaddtattarrattatddeta\n",
      "abaddtattarrattatddet\n",
      "abaddtattarrattatdde\n",
      "abaddtattarrattatdd\n",
      "abaddtattarrattatd\n",
      "abaddtattarrattat\n",
      "abaddtattarratta\n",
      "babaddtattarrattatddetartrateedredivider\n",
      "babaddtattarrattatddetartrateedredivide\n",
      "babaddtattarrattatddetartrateedredivid\n",
      "babaddtattarrattatddetartrateedredivi\n",
      "babaddtattarrattatddetartrateedrediv\n",
      "babaddtattarrattatddetartrateedredi\n",
      "babaddtattarrattatddetartrateedred\n",
      "babaddtattarrattatddetartrateedre\n",
      "babaddtattarrattatddetartrateedr\n",
      "babaddtattarrattatddetartrateed\n",
      "babaddtattarrattatddetartratee\n",
      "babaddtattarrattatddetartrate\n",
      "babaddtattarrattatddetartrat\n",
      "babaddtattarrattatddetartra\n",
      "babaddtattarrattatddetartr\n",
      "babaddtattarrattatddetart\n",
      "babaddtattarrattatddetar\n",
      "babaddtattarrattatddeta\n",
      "babaddtattarrattatddet\n",
      "babaddtattarrattatdde\n",
      "babaddtattarrattatdd\n",
      "babaddtattarrattatd\n",
      "babaddtattarrattat\n",
      "babaddtattarratta\n",
      "babaddtattarratt\n",
      "ddtattarrattatdd\n"
     ]
    }
   ],
   "source": [
    "s=\"babaddtattarrattatddetartrateedredividerb\"\n",
    "def is_palindrome(s):\n",
    "    b,e = 0, len(s)-1\n",
    "    while b<=e:\n",
    "        if s[b]!=s[e]:\n",
    "            return False\n",
    "        b+=1\n",
    "        e-=1\n",
    "    return True\n",
    "\n",
    "ml = ['']\n",
    "m=set()\n",
    "\n",
    "def helper(b,e):\n",
    "    if b>e or s[b:e+1] in m or e-b+1<len(ml[0]):\n",
    "        return\n",
    "    print(s[b:e+1])\n",
    "    m.add(s[b:e+1])\n",
    "    if is_palindrome(s[b:e+1]):\n",
    "        if e-b+1> len(ml[0]):\n",
    "            ml[0] = s[b:e+1]\n",
    "        return\n",
    "    else:\n",
    "        helper(b+1,e)\n",
    "        helper(b,e-1)\n",
    "\n",
    "helper(0, len(s)-1)\n",
    "\n",
    "print(ml[0])"
   ]
  },
  {
   "cell_type": "code",
   "execution_count": 36,
   "metadata": {
    "ExecuteTime": {
     "end_time": "2020-04-16T00:04:39.120000Z",
     "start_time": "2020-04-16T00:04:39.108000Z"
    }
   },
   "outputs": [
    {
     "name": "stdout",
     "output_type": "stream",
     "text": [
      "['nagw', 'knag', 'wagl', 'glkn', 'lkna', 'aglk', 'gawu', 'awun', 'unag', 'kwag', 'agwk', 'wuna']\n"
     ]
    }
   ],
   "source": [
    "# Amazon | OA 2019 | Substrings of size K with K distinct chars\n",
    "# https://leetcode.com/discuss/interview-question/370112\n",
    "\n",
    "# Given a string s and an int k, return all unique substrings of s of size k with k distinct characters.\n",
    "\n",
    "# Example 1:\n",
    "\n",
    "# Input: s = \"abcabc\", k = 3\n",
    "# Output: [\"abc\", \"bca\", \"cab\"]\n",
    "# Example 2:\n",
    "\n",
    "# Input: s = \"abacab\", k = 3\n",
    "# Output: [\"bac\", \"cab\"]\n",
    "# Example 3:\n",
    "\n",
    "# Input: s = \"awaglknagawunagwkwagl\", k = 4\n",
    "# Output: [\"wagl\", \"aglk\", \"glkn\", \"lkna\", \"knag\", \"gawu\", \"awun\", \"wuna\", \"unag\", \"nagw\", \"agwk\", \"kwag\"]\n",
    "# Explanation: \n",
    "# Substrings in order are: \"wagl\", \"aglk\", \"glkn\", \"lkna\", \"knag\", \"gawu\", \"awun\", \"wuna\", \"unag\", \"nagw\", \"agwk\", \"kwag\", \"wagl\" \n",
    "# \"wagl\" is repeated twice, but is included in the output once.\n",
    "# Constraints:\n",
    "\n",
    "# The input string consists of only lowercase English letters [a-z]\n",
    "# 0 ≤ k ≤ 26\n",
    "\n",
    "def u_s(s,k):\n",
    "    \n",
    "    p=set()\n",
    "    b,e = 0,0\n",
    "    ret = set()\n",
    "    while b<=e:\n",
    "        if e-b+1 == k and s[e] not in p:\n",
    "            ret.add(s[b:e+1])\n",
    "        if e-b+1>k:\n",
    "            if s[b] in p:\n",
    "                p.remove(s[b])\n",
    "            b+=1\n",
    "        elif e< len(s)-1 and s[e] not in p:\n",
    "            p.add(s[e])\n",
    "            e+=1\n",
    "        else:\n",
    "            if s[b] in p:\n",
    "                p.remove(s[b])\n",
    "            b+=1\n",
    "    return list(ret)\n",
    "print(u_s('awaglknagawunagwkwagl',4))\n",
    "    "
   ]
  },
  {
   "cell_type": "code",
   "execution_count": 5,
   "metadata": {
    "ExecuteTime": {
     "end_time": "2020-04-15T21:22:06.589000Z",
     "start_time": "2020-04-15T21:22:06.580000Z"
    }
   },
   "outputs": [
    {
     "data": {
      "text/plain": [
       "['1', '2 3']"
      ]
     },
     "execution_count": 5,
     "metadata": {},
     "output_type": "execute_result"
    }
   ],
   "source": [
    "a='1 2 3'\n",
    "a.split(' ',1)"
   ]
  },
  {
   "cell_type": "code",
   "execution_count": 6,
   "metadata": {
    "ExecuteTime": {
     "end_time": "2020-04-15T21:22:09.953000Z",
     "start_time": "2020-04-15T21:22:09.926000Z"
    }
   },
   "outputs": [
    {
     "name": "stdout",
     "output_type": "stream",
     "text": [
      "1\n",
      "[0, 0, 0, 0, 0, 0, 0, 0, 0, 0, 0, 0, 0, 0, 0]\n",
      "1'\n",
      "[0, False, 0, 0, 0, 0, 0, 0, 0, 0, 0, 0, 0, 0, 0]\n",
      "1''\n",
      "2\n",
      "[0, False, 0, 0, 0, 0, 0, 0, 0, 0, 0, 0, 0, 0, 0]\n",
      "2'\n",
      "[0, False, False, 0, 0, 0, 0, 0, 0, 0, 0, 0, 0, 0, 0]\n",
      "2''\n",
      "[0, False, False, 0, 0, 0, 0, 0, 0, 0, 0, 0, 0, 0, 0]\n",
      "3\n",
      "[0, False, 1, 0, 0, 0, 0, 0, 0, 0, 0, 0, 0, 0, 0]\n",
      "3'\n",
      "[0, False, 1, False, 0, 0, 0, 0, 0, 0, 0, 0, 0, 0, 0]\n",
      "3''\n",
      "4\n",
      "[0, False, 1, False, 0, 0, 0, 0, 0, 0, 0, 0, 0, 0, 0]\n",
      "4'\n",
      "[0, False, 1, False, False, 0, 0, 0, 0, 0, 0, 0, 0, 0, 0]\n",
      "4''\n",
      "[0, False, 1, False, False, 0, 0, 0, 0, 0, 0, 0, 0, 0, 0]\n",
      "5\n",
      "[0, False, 1, False, 1, 0, 0, 0, 0, 0, 0, 0, 0, 0, 0]\n",
      "5'\n",
      "[0, False, 1, False, 1, False, 0, 0, 0, 0, 0, 0, 0, 0, 0]\n",
      "5''\n",
      "6\n",
      "[0, False, 1, False, 1, False, 0, 0, 0, 0, 0, 0, 0, 0, 0]\n",
      "6'\n",
      "[0, False, 1, False, 1, False, False, 0, 0, 0, 0, 0, 0, 0, 0]\n",
      "6''\n",
      "[0, False, 1, False, 1, False, False, 0, 0, 0, 0, 0, 0, 0, 0]\n",
      "[0, False, 1, False, 1, False, 1, 0, 0, 0, 0, 0, 0, 0, 0]\n",
      "[0, False, 1, False, 1, False, 2, 0, 0, 0, 0, 0, 0, 0, 0]\n",
      "7\n",
      "[0, False, 1, False, 1, False, 3, 0, 0, 0, 0, 0, 0, 0, 0]\n",
      "7'\n",
      "[0, False, 1, False, 1, False, 3, False, 0, 0, 0, 0, 0, 0, 0]\n",
      "7''\n",
      "8\n",
      "[0, False, 1, False, 1, False, 3, False, 0, 0, 0, 0, 0, 0, 0]\n",
      "8'\n",
      "[0, False, 1, False, 1, False, 3, False, 1, 0, 0, 0, 0, 0, 0]\n",
      "8''\n",
      "9\n",
      "[0, False, 1, False, 1, False, 3, False, 1, 0, 0, 0, 0, 0, 0]\n",
      "9'\n",
      "[0, False, 1, False, 1, False, 3, False, 1, False, 0, 0, 0, 0, 0]\n",
      "9''\n",
      "10\n",
      "[0, False, 1, False, 1, False, 3, False, 1, False, 0, 0, 0, 0, 0]\n",
      "10'\n",
      "[0, False, 1, False, 1, False, 3, False, 1, False, False, 0, 0, 0, 0]\n",
      "10''\n",
      "[0, False, 1, False, 1, False, 3, False, 1, False, False, 0, 0, 0, 0]\n",
      "11\n",
      "[0, False, 1, False, 1, False, 3, False, 1, False, 1, 0, 0, 0, 0]\n",
      "11'\n",
      "[0, False, 1, False, 1, False, 3, False, 1, False, 1, False, 0, 0, 0]\n",
      "11''\n",
      "12\n",
      "[0, False, 1, False, 1, False, 3, False, 1, False, 1, False, 0, 0, 0]\n",
      "12'\n",
      "[0, False, 1, False, 1, False, 3, False, 1, False, 1, False, False, 0, 0]\n",
      "12''\n",
      "[0, False, 1, False, 1, False, 3, False, 1, False, 1, False, False, 0, 0]\n",
      "13\n",
      "[0, False, 1, False, 1, False, 3, False, 1, False, 1, False, 1, 0, 0]\n",
      "13'\n",
      "[0, False, 1, False, 1, False, 3, False, 1, False, 1, False, 1, False, 0]\n",
      "13''\n"
     ]
    },
    {
     "data": {
      "text/plain": [
       "'bdb'"
      ]
     },
     "execution_count": 6,
     "metadata": {},
     "output_type": "execute_result"
    }
   ],
   "source": [
    "def longestPalindrome(s):\n",
    "    # Transform S into T.\n",
    "    # For example, S = \"abba\", T = \"^#a#b#b#a#$\".\n",
    "    # ^ and $ signs are sentinels appended to each end to avoid bounds checking\n",
    "    T = '#'.join('^{}$'.format(s))\n",
    "    n = len(T)\n",
    "    P = [0] * n\n",
    "    C = R = 0\n",
    "    for i in range (1, n-1):\n",
    "        print(i)\n",
    "        print(P)\n",
    "        P[i] = (R > i) and min(R - i, P[2*C - i]) # equals to i' = C - (i-C)\n",
    "        print(str(i)+\"'\")\n",
    "        print(P)\n",
    "        print(str(i)+\"''\")\n",
    "        # Attempt to expand palindrome centered at i\n",
    "        while T[i + 1 + P[i]] == T[i - 1 - P[i]]:\n",
    "            print(P)\n",
    "            P[i] += 1\n",
    "\n",
    "        # If palindrome centered at i expand past R,\n",
    "        # adjust center based on expanded palindrome.\n",
    "        if i + P[i] > R:\n",
    "            C, R = i, i + P[i]\n",
    "\n",
    "    # Find the maximum element in P.\n",
    "    maxLen, centerIndex = max((n, i) for i, n in enumerate(P))\n",
    "    return s[(centerIndex  - maxLen)//2: (centerIndex  + maxLen)//2]\n",
    "longestPalindrome('abdbca')"
   ]
  },
  {
   "cell_type": "code",
   "execution_count": 6,
   "metadata": {
    "ExecuteTime": {
     "end_time": "2020-04-13T04:00:03.676000Z",
     "start_time": "2020-04-13T04:00:03.668000Z"
    }
   },
   "outputs": [],
   "source": [
    "def can_partition(num, sum):\n",
    "    num = sorted(num)\n",
    "    s,e=0,len(num)-1\n",
    "    sm = sum(num)\n",
    "    while s<e:\n",
    "        if sm > sum:\n",
    "            sm-= num[e]\n",
    "            e-=1\n",
    "        elif sm < sum:\n",
    "            sm-=num[s]\n",
    "            s+=1\n",
    "        else:\n",
    "            return True\n",
    "    return False\n"
   ]
  },
  {
   "cell_type": "code",
   "execution_count": null,
   "metadata": {},
   "outputs": [],
   "source": []
  },
  {
   "cell_type": "code",
   "execution_count": 183,
   "metadata": {
    "ExecuteTime": {
     "end_time": "2020-04-12T20:22:30.399000Z",
     "start_time": "2020-04-12T20:22:30.394000Z"
    }
   },
   "outputs": [
    {
     "name": "stdout",
     "output_type": "stream",
     "text": [
      "defaultdict(<type 'int'>, {})\n",
      "defaultdict(<type 'int'>, {1: 1})\n"
     ]
    }
   ],
   "source": [
    "a= collections.defaultdict(int)\n",
    "print(a)\n",
    "a[1]+=1\n",
    "print(a)"
   ]
  },
  {
   "cell_type": "code",
   "execution_count": 8,
   "metadata": {
    "ExecuteTime": {
     "end_time": "2020-04-14T16:58:38.299000Z",
     "start_time": "2020-04-14T16:58:38.292000Z"
    }
   },
   "outputs": [
    {
     "data": {
      "text/plain": [
       "{1}"
      ]
     },
     "execution_count": 8,
     "metadata": {},
     "output_type": "execute_result"
    }
   ],
   "source": [
    "s=set([1])\n",
    "s.copy()"
   ]
  },
  {
   "cell_type": "code",
   "execution_count": 187,
   "metadata": {
    "ExecuteTime": {
     "end_time": "2020-04-12T22:26:44.667000Z",
     "start_time": "2020-04-12T22:26:44.644000Z"
    }
   },
   "outputs": [
    {
     "name": "stdout",
     "output_type": "stream",
     "text": [
      "[[0, 1, 1, 1, 1, 1, 1, 1], [0, 1, 1, 1, 1, 1, 1, 1]]\n",
      "[[0, 1, 1, 1, 1, 1, 1, 1], [0, 1, 1, 1, 1, 1, 1, 1]]\n",
      "[[0, 1, 1, 1, 1, 1, 1, 1], [0, 1, 1, 1, 1, 1, 1, 1]]\n",
      "[[0, 1, 1, 1, 1, 1, 1, 1], [0, 1, 6, 1, 1, 1, 1, 1]]\n",
      "[[0, 1, 1, 1, 1, 1, 1, 1], [0, 1, 6, 7, 1, 1, 1, 1]]\n",
      "[[0, 1, 1, 1, 1, 1, 1, 1], [0, 1, 6, 7, 7, 1, 1, 1]]\n",
      "[[0, 1, 1, 1, 1, 1, 1, 1], [0, 1, 6, 7, 7, 7, 1, 1]]\n",
      "[[0, 1, 1, 1, 1, 1, 1, 1], [0, 1, 6, 7, 7, 7, 7, 1]]\n",
      "[[0, 1, 1, 1, 1, 1, 1, 1], [0, 1, 6, 7, 7, 7, 7, 7]]\n",
      "[[0, 1, 1, 1, 1, 1, 1, 1], [0, 1, 6, 7, 7, 7, 7, 7]]\n",
      "[[0, 1, 1, 1, 1, 1, 1, 1], [0, 1, 6, 7, 7, 7, 7, 7]]\n",
      "[[0, 1, 6, 1, 1, 1, 1, 1], [0, 1, 6, 7, 7, 7, 7, 7]]\n",
      "[[0, 1, 6, 10, 1, 1, 1, 1], [0, 1, 6, 7, 7, 7, 7, 7]]\n",
      "[[0, 1, 6, 10, 11, 1, 1, 1], [0, 1, 6, 7, 7, 7, 7, 7]]\n",
      "[[0, 1, 6, 10, 11, 16, 1, 1], [0, 1, 6, 7, 7, 7, 7, 7]]\n",
      "[[0, 1, 6, 10, 11, 16, 17, 1], [0, 1, 6, 7, 7, 7, 7, 7]]\n",
      "[[0, 1, 6, 10, 11, 16, 17, 17], [0, 1, 6, 7, 7, 7, 7, 7]]\n",
      "[[0, 1, 6, 10, 11, 16, 17, 17], [0, 1, 6, 7, 7, 7, 7, 7]]\n",
      "[[0, 1, 6, 10, 11, 16, 17, 17], [0, 1, 6, 7, 7, 7, 7, 7]]\n",
      "[[0, 1, 6, 10, 11, 16, 17, 17], [0, 1, 6, 7, 7, 7, 7, 7]]\n",
      "[[0, 1, 6, 10, 11, 16, 17, 17], [0, 1, 6, 10, 7, 7, 7, 7]]\n",
      "[[0, 1, 6, 10, 11, 16, 17, 17], [0, 1, 6, 10, 11, 7, 7, 7]]\n",
      "[[0, 1, 6, 10, 11, 16, 17, 17], [0, 1, 6, 10, 11, 16, 7, 7]]\n",
      "[[0, 1, 6, 10, 11, 16, 17, 17], [0, 1, 6, 10, 11, 16, 17, 7]]\n",
      "Total knapsack profit: 22\n",
      "[[0, 1, 1, 1, 1, 1, 1], [0, 1, 1, 1, 1, 1, 1]]\n",
      "[[0, 1, 1, 1, 1, 1, 1], [0, 1, 1, 1, 1, 1, 1]]\n",
      "[[0, 1, 1, 1, 1, 1, 1], [0, 1, 1, 1, 1, 1, 1]]\n",
      "[[0, 1, 1, 1, 1, 1, 1], [0, 1, 6, 1, 1, 1, 1]]\n",
      "[[0, 1, 1, 1, 1, 1, 1], [0, 1, 6, 7, 1, 1, 1]]\n",
      "[[0, 1, 1, 1, 1, 1, 1], [0, 1, 6, 7, 7, 1, 1]]\n",
      "[[0, 1, 1, 1, 1, 1, 1], [0, 1, 6, 7, 7, 7, 1]]\n",
      "[[0, 1, 1, 1, 1, 1, 1], [0, 1, 6, 7, 7, 7, 7]]\n",
      "[[0, 1, 1, 1, 1, 1, 1], [0, 1, 6, 7, 7, 7, 7]]\n",
      "[[0, 1, 1, 1, 1, 1, 1], [0, 1, 6, 7, 7, 7, 7]]\n",
      "[[0, 1, 6, 1, 1, 1, 1], [0, 1, 6, 7, 7, 7, 7]]\n",
      "[[0, 1, 6, 10, 1, 1, 1], [0, 1, 6, 7, 7, 7, 7]]\n",
      "[[0, 1, 6, 10, 11, 1, 1], [0, 1, 6, 7, 7, 7, 7]]\n",
      "[[0, 1, 6, 10, 11, 16, 1], [0, 1, 6, 7, 7, 7, 7]]\n",
      "[[0, 1, 6, 10, 11, 16, 17], [0, 1, 6, 7, 7, 7, 7]]\n",
      "[[0, 1, 6, 10, 11, 16, 17], [0, 1, 6, 7, 7, 7, 7]]\n",
      "[[0, 1, 6, 10, 11, 16, 17], [0, 1, 6, 7, 7, 7, 7]]\n",
      "[[0, 1, 6, 10, 11, 16, 17], [0, 1, 6, 7, 7, 7, 7]]\n",
      "[[0, 1, 6, 10, 11, 16, 17], [0, 1, 6, 10, 7, 7, 7]]\n",
      "[[0, 1, 6, 10, 11, 16, 17], [0, 1, 6, 10, 11, 7, 7]]\n",
      "[[0, 1, 6, 10, 11, 16, 17], [0, 1, 6, 10, 11, 16, 7]]\n",
      "Total knapsack profit: 17\n"
     ]
    }
   ],
   "source": [
    "def solve_knapsack(profits, weights, capacity):\n",
    "  # basic checks\n",
    "  n = len(profits)\n",
    "  if capacity <= 0 or n == 0 or len(weights) != n:\n",
    "    return 0\n",
    "\n",
    "  # we only need one previous row to find the optimal solution, overall we need '2' rows\n",
    "  # the above solution is similar to the previous solution, the only difference is that\n",
    "  # we use `i % 2` instead if `i` and `(i-1) % 2` instead if `i-1`\n",
    "  dp = [[0 for x in range(capacity+1)] for y in range(2)]\n",
    "\n",
    "  # if we have only one weight, we will take it if it is not more than the capacity\n",
    "  for c in range(0, capacity+1):\n",
    "    if weights[0] <= c:\n",
    "      dp[0][c] = dp[1][c] = profits[0]\n",
    "\n",
    "  # process all sub-arrays for all the capacities\n",
    "  for i in range(1, n):\n",
    "    for c in range(0, capacity+1):\n",
    "      print(dp)\n",
    "      profit1, profit2 = 0, 0\n",
    "      # include the item, if it is not more than the capacity\n",
    "      if weights[i] <= c:\n",
    "        profit1 = profits[i] + dp[(i - 1) % 2][c - weights[i]]\n",
    "      # exclude the item\n",
    "      profit2 = dp[(i - 1) % 2][c]\n",
    "      # take maximum\n",
    "      dp[i % 2][c] = max(profit1, profit2)\n",
    "\n",
    "  return dp[(n - 1) % 2][capacity]\n",
    "\n",
    "\n",
    "def main():\n",
    "  print(\"Total knapsack profit: \" +\n",
    "        str(solve_knapsack([1, 6, 10, 16], [1, 2, 3, 5], 7)))\n",
    "  print(\"Total knapsack profit: \" +\n",
    "        str(solve_knapsack([1, 6, 10, 16], [1, 2, 3, 5], 6)))\n",
    "\n",
    "\n",
    "main()\n"
   ]
  },
  {
   "cell_type": "code",
   "execution_count": 185,
   "metadata": {
    "ExecuteTime": {
     "end_time": "2020-04-12T20:27:01.310000Z",
     "start_time": "2020-04-12T20:27:01.296000Z"
    }
   },
   "outputs": [
    {
     "name": "stdout",
     "output_type": "stream",
     "text": [
      "12\n"
     ]
    }
   ],
   "source": [
    "def numOfWays(n):\n",
    "        \n",
    "        m=set()       \n",
    "        def helper(i,j,num, grid):\n",
    "            v=set()\n",
    "            nd = set()\n",
    "            for di,dj in [(0,1), (1,0), (-1,0), (0,-1)]:\n",
    "                if i+di>=0 and i+di<n and j+dj>=0 and j+dj<3:\n",
    "                    if grid[i+di][j+dj] != -1:\n",
    "                        v.add(grid[i+di][j+dj])\n",
    "                    else:\n",
    "                        nd.add((i+di, j+dj))\n",
    "            for c in set([0,1,2])-v:\n",
    "                tg = [_[:] for _ in grid]\n",
    "                tg[i][j] = c\n",
    "                if num == n*3-1:\n",
    "                    m.add(tuple([tuple(x) for x in tg]))\n",
    "                else:\n",
    "                    for d in nd:\n",
    "                        helper(d[0], d[1], num+1,tg)                    \n",
    "            return\n",
    "        helper(0,0,0, [[-1,-1,-1]]*n)\n",
    "        return len(m)%(10**9 +7)\n",
    "print(numOfWays(1))"
   ]
  },
  {
   "cell_type": "code",
   "execution_count": 174,
   "metadata": {
    "ExecuteTime": {
     "end_time": "2020-04-12T04:34:57.222000Z",
     "start_time": "2020-04-12T04:34:57.217000Z"
    }
   },
   "outputs": [
    {
     "name": "stdout",
     "output_type": "stream",
     "text": [
      "[0, 1, 2]\n",
      "[0, 1, 2]\n"
     ]
    }
   ],
   "source": [
    "print(list(range(3)))\n",
    "print(list(xrange(3)))"
   ]
  },
  {
   "cell_type": "code",
   "execution_count": 165,
   "metadata": {
    "ExecuteTime": {
     "end_time": "2020-04-12T04:24:58.434000Z",
     "start_time": "2020-04-12T04:24:58.426000Z"
    }
   },
   "outputs": [
    {
     "data": {
      "text/plain": [
       "[[1, -1, -1]]"
      ]
     },
     "execution_count": 165,
     "metadata": {},
     "output_type": "execute_result"
    }
   ],
   "source": [
    "a=[[-1,-1,-1]]\n",
    "[0][0]=1\n",
    "a"
   ]
  },
  {
   "cell_type": "code",
   "execution_count": 126,
   "metadata": {
    "ExecuteTime": {
     "end_time": "2020-04-10T22:48:27.867000Z",
     "start_time": "2020-04-10T22:48:27.863000Z"
    }
   },
   "outputs": [
    {
     "name": "stdout",
     "output_type": "stream",
     "text": [
      "(0, 1, 2)\n"
     ]
    }
   ],
   "source": [
    "a=[[1,2]]\n",
    "for i,(x,y) in enumerate(a):\n",
    "    print(i,x,y)"
   ]
  },
  {
   "cell_type": "code",
   "execution_count": null,
   "metadata": {},
   "outputs": [],
   "source": [
    "https://leetcode.com/problems/number-of-islands-ii/submissions/\n",
    "    https://leetcode.com/problems/design-log-storage-system/"
   ]
  },
  {
   "cell_type": "code",
   "execution_count": 99,
   "metadata": {
    "ExecuteTime": {
     "end_time": "2020-04-10T16:28:19.407000Z",
     "start_time": "2020-04-10T16:28:19.398000Z"
    }
   },
   "outputs": [
    {
     "data": {
      "text/plain": [
       "Counter({1: 2, 2: 1, 3: 1, 4: 2})"
      ]
     },
     "execution_count": 99,
     "metadata": {},
     "output_type": "execute_result"
    }
   ],
   "source": [
    "collections.Counter([1,1,2,3,4,4])"
   ]
  },
  {
   "cell_type": "code",
   "execution_count": 100,
   "metadata": {
    "ExecuteTime": {
     "end_time": "2020-04-10T17:19:06.157000Z",
     "start_time": "2020-04-10T17:19:06.150000Z"
    }
   },
   "outputs": [
    {
     "data": {
      "text/plain": [
       "[2]"
      ]
     },
     "execution_count": 100,
     "metadata": {},
     "output_type": "execute_result"
    }
   ],
   "source": [
    "[1,2][1:5]"
   ]
  },
  {
   "cell_type": "code",
   "execution_count": 41,
   "metadata": {
    "ExecuteTime": {
     "end_time": "2020-04-08T13:34:56.460000Z",
     "start_time": "2020-04-08T13:34:56.455000Z"
    }
   },
   "outputs": [],
   "source": [
    "def getManager(e):\n",
    "    pass\n",
    "def find_man(e1,e2):\n",
    "    st1,st2 = collections.deque(), collections.deque()\n",
    "    v1,v2 = set(), set()\n",
    "    st1.append(e1)\n",
    "    st2.append()\n",
    "    while len(st1) !=0 and len(st2) !=0:\n",
    "        p = st1.popleft()\n",
    "        if p in v2:\n",
    "            return p\n",
    "        v1.add(p)\n",
    "        st1.append(getManager(p))\n",
    "        p = st2.popleft()\n",
    "        if p in v1:\n",
    "            return p\n",
    "        v2.add(p)\n",
    "        st2.append(getManager(p))\n",
    "    \n",
    "        \n",
    "    "
   ]
  },
  {
   "cell_type": "code",
   "execution_count": 77,
   "metadata": {
    "ExecuteTime": {
     "end_time": "2020-04-09T15:17:32.189000Z",
     "start_time": "2020-04-09T15:17:32.183000Z"
    }
   },
   "outputs": [
    {
     "name": "stdout",
     "output_type": "stream",
     "text": [
      "deque([1])\n",
      "(deque([1, 0]), deque([1]))\n"
     ]
    }
   ],
   "source": [
    "stack = collections.deque()\n",
    "stack.append(1)\n",
    "print(stack)\n",
    "\n",
    "def f(s):\n",
    "    s=collections.deque(list(s))\n",
    "    s.append(0)\n",
    "    return s\n",
    "\n",
    "print(f(stack),stack)"
   ]
  },
  {
   "cell_type": "code",
   "execution_count": 82,
   "metadata": {
    "ExecuteTime": {
     "end_time": "2020-04-09T16:06:46.852000Z",
     "start_time": "2020-04-09T16:06:46.834000Z"
    }
   },
   "outputs": [
    {
     "name": "stdout",
     "output_type": "stream",
     "text": [
      "-----\n",
      "([1, 0, 0, 0, 0, 0, 0], 1)\n",
      "*\n",
      "(0, 1)\n",
      "-----\n",
      "([1, 3, 0, 0, 0, 0, 0], 2)\n",
      "*\n",
      "(0, 2)\n",
      "-----\n",
      "([1, 3, 6, 0, 0, 0, 0], 3)\n",
      "*\n",
      "(0, 3)\n",
      "(2, 3)\n",
      "-----\n",
      "([1, 3, 6, 7, 0, 0, 0], 4)\n",
      "*\n",
      "(0, 4)\n",
      "(3, 4)\n",
      "-----\n",
      "([1, 3, 6, 7, 9, 0, 0], 5)\n",
      "*\n",
      "(0, 5)\n",
      "(0, 2)\n",
      "-----\n",
      "([1, 3, 4, 7, 9, 0, 0], 5)\n",
      "*\n",
      "(0, 5)\n",
      "(3, 5)\n",
      "-----\n",
      "([1, 3, 4, 7, 9, 10, 0], 6)\n",
      "*\n"
     ]
    },
    {
     "data": {
      "text/plain": [
       "6"
      ]
     },
     "execution_count": 82,
     "metadata": {},
     "output_type": "execute_result"
    }
   ],
   "source": [
    "def lengthOfLIS(nums):\n",
    "    tails = [0] * len(nums)\n",
    "    size = 0\n",
    "    for x in nums:\n",
    "        i, j = 0, size\n",
    "        while i != j:\n",
    "            print(i,j)\n",
    "            m = (i + j) / 2\n",
    "            if tails[m] < x:\n",
    "                i = m + 1\n",
    "            else:\n",
    "                j = m\n",
    "        print('-----')\n",
    "        tails[i] = x\n",
    "        size = max(i + 1, size)\n",
    "        print(tails,size)\n",
    "        print('*')\n",
    "    return size\n",
    "lengthOfLIS([1,3,6,7,9,4,10])"
   ]
  },
  {
   "cell_type": "code",
   "execution_count": 71,
   "metadata": {
    "ExecuteTime": {
     "end_time": "2020-05-01T14:37:19.986000Z",
     "start_time": "2020-05-01T14:37:19.956000Z"
    }
   },
   "outputs": [
    {
     "name": "stdout",
     "output_type": "stream",
     "text": [
      "(1, 1, 0)\n",
      "(1, 0, 1)\n"
     ]
    }
   ],
   "source": [
    "# wrong\n",
    "def b1(nums, t):\n",
    "    s=0\n",
    "    e=len(nums)-1\n",
    "    while s<e:\n",
    "        m = (s+e)//2\n",
    "        if nums[m] == t:\n",
    "            return m\n",
    "        elif nums[m]<t:\n",
    "            s=m+1\n",
    "        else:\n",
    "            e=m-1\n",
    "    return s,m,e\n",
    "\n",
    "def b2(nums, t):\n",
    "    s=0\n",
    "    e=len(nums)-1\n",
    "    m=s\n",
    "    while s<e:\n",
    "        m = (s+e)//2\n",
    "        if nums[m] == t:\n",
    "            return m\n",
    "        elif nums[m]<t:\n",
    "            s=m\n",
    "        else:\n",
    "            e=m-1\n",
    "    return s,m,e\n",
    "\n",
    "def b3(nums, t):\n",
    "    s=0\n",
    "    e=len(nums)-1\n",
    "    while s<e:\n",
    "        m = (s+e)//2\n",
    "        if nums[m] == t:\n",
    "            return m\n",
    "        elif nums[m]<t:\n",
    "            s=m+1\n",
    "        else:\n",
    "            e=m\n",
    "    return s,m,e\n",
    "        \n",
    "def b4(nums, t):\n",
    "    s=0\n",
    "    e=len(nums)-1\n",
    "    while s<=e:\n",
    "        m = (s+e)//2\n",
    "        if nums[m] == t:\n",
    "            return s,m,e\n",
    "        elif nums[m]<t:\n",
    "            s=m+1\n",
    "        else:\n",
    "            e=m-1\n",
    "    return s,m,e\n",
    "\n",
    "nums = [0,2]\n",
    "t=1\n",
    "print(b4(nums,t))\n",
    "#print(b1(nums,t))\n",
    "#print(b2(nums,t))\n",
    "print(b3(nums,t))"
   ]
  },
  {
   "cell_type": "code",
   "execution_count": 22,
   "metadata": {
    "ExecuteTime": {
     "end_time": "2020-04-19T14:55:43.617000Z",
     "start_time": "2020-04-19T14:55:43.606000Z"
    }
   },
   "outputs": [
    {
     "name": "stdout",
     "output_type": "stream",
     "text": [
      "3\n",
      "3\n",
      "2\n",
      "2\n",
      "-------\n",
      "3\n",
      "3\n",
      "3\n",
      "3\n",
      "-------\n",
      "3\n",
      "3\n",
      "3\n",
      "3\n"
     ]
    }
   ],
   "source": [
    "a = [1,2,3,5,6]\n",
    "b = [1,2,3,6]\n",
    "print(bisect.bisect_left(a,4))\n",
    "print(bisect.bisect_left(b,4))\n",
    "print(bisect.bisect_left(a,3))\n",
    "print(bisect.bisect_left(b,3))\n",
    "print('-------')\n",
    "print(bisect.bisect_right(a,4))\n",
    "print(bisect.bisect_right(b,4))\n",
    "print(bisect.bisect_right(a,3))\n",
    "print(bisect.bisect_right(b,3))\n",
    "print('-------')\n",
    "print(bisect.bisect(a,4))\n",
    "print(bisect.bisect(b,4))\n",
    "print(bisect.bisect(a,3))\n",
    "print(bisect.bisect(b,3))"
   ]
  },
  {
   "cell_type": "code",
   "execution_count": 66,
   "metadata": {
    "ExecuteTime": {
     "end_time": "2020-04-09T12:56:54.113000Z",
     "start_time": "2020-04-09T12:56:54.094000Z"
    }
   },
   "outputs": [
    {
     "name": "stdout",
     "output_type": "stream",
     "text": [
      "deque([])\n"
     ]
    },
    {
     "data": {
      "text/plain": [
       "True"
      ]
     },
     "execution_count": 66,
     "metadata": {},
     "output_type": "execute_result"
    }
   ],
   "source": [
    "def back(S,T):\n",
    "    s,t=len(S)-1, len(T)-1\n",
    "    st,tt = collections.deque(),collections.deque()\n",
    "    while s>=0:\n",
    "        if S[s] == '#':\n",
    "            st.append('#')\n",
    "        else:\n",
    "            if len(st)==0 or st[-1] != '#':\n",
    "                st.append(S[s])\n",
    "            else:\n",
    "                st.pop()\n",
    "        s-=1\n",
    "    while t>=0:\n",
    "        if T[t] == '#':\n",
    "            tt.append('#')\n",
    "        else:\n",
    "            if len(tt)==0 or tt[-1] !='#':\n",
    "                if len(st)==0 or st[0] != T[t]:\n",
    "                    return False\n",
    "                else:\n",
    "                    st.popleft()\n",
    "            else:\n",
    "                tt.pop()\n",
    "        t-=1\n",
    "    if len(st)!=0:\n",
    "        return False\n",
    "    return True\n",
    "                    \n",
    "back('ab#c','ad#c')"
   ]
  },
  {
   "cell_type": "code",
   "execution_count": null,
   "metadata": {},
   "outputs": [],
   "source": [
    "#Amazon | OA 2019 | Critical Routers\n",
    "# https://leetcode.com/discuss/interview-question/344650/Amazon-Online-Assessment-Questions\n",
    "\n",
    "class Solution:\n",
    "    def criticalConnections(self, n: int, connections: List[List[int]]) -> List[List[int]]:\n",
    "        g = collections.defaultdict(list)\n",
    "        for i,c in enumerate(connections):\n",
    "            g[c[0]].append(c[1])\n",
    "            g[c[1]].append(c[0])\n",
    "        \n",
    "        nums = dict()\n",
    "        low=dict()\n",
    "        \n",
    "        v=set()\n",
    "        def helper(node, parent, num):\n",
    "            nums[node] = num\n",
    "            low[node] = num\n",
    "            v.add(node)\n",
    "            for ad in g[node]:\n",
    "                if ad != parent:\n",
    "                    num +=1\n",
    "                    if ad in v:\n",
    "                        low[node]= min(low[ad], low[node])\n",
    "                    else:\n",
    "                        low[node] = min(low[node], helper(ad, node, num))\n",
    "            return low[node]\n",
    "        helper(0, None, 0)\n",
    "        ans = []\n",
    "        for u, v in connections:\n",
    "            if low[u] > nums[v] or low[v] > nums[u]:\n",
    "                ans.append([u, v])\n",
    "        return ans\n",
    "        "
   ]
  },
  {
   "cell_type": "code",
   "execution_count": null,
   "metadata": {},
   "outputs": [],
   "source": [
    "# https://leetcode.com/discuss/interview-question/357310\n",
    "# Amazon | OA 2019 | Min Cost to Repair Edges\n",
    "\n"
   ]
  },
  {
   "cell_type": "code",
   "execution_count": null,
   "metadata": {},
   "outputs": [],
   "source": []
  },
  {
   "cell_type": "code",
   "execution_count": null,
   "metadata": {},
   "outputs": [],
   "source": [
    "# https://leetcode.com/problems/partition-labels/\n",
    "# Partition Labels\n",
    "\n",
    "def partition_labels(S):\n",
    "\n",
    "    rightmost = {c:i for i, c in enumerate(S)}\n",
    "    left, right = 0, 0\n",
    "\n",
    "    result = []\n",
    "    for i, letter in enumerate(S):\n",
    "\n",
    "        right = max(right,rightmost[letter])\n",
    "        \n",
    "        if i == right:\n",
    "            result += [right-left + 1]\n",
    "            left = i+1\n",
    "\n",
    "    return result"
   ]
  },
  {
   "cell_type": "code",
   "execution_count": 40,
   "metadata": {
    "ExecuteTime": {
     "end_time": "2020-04-07T16:26:56.828000Z",
     "start_time": "2020-04-07T16:26:56.824000Z"
    }
   },
   "outputs": [],
   "source": [
    "# Amazon | OA 2019 | Subtree with Maximum Average\n",
    "\n",
    "# https://leetcode.com/problems/maximum-average-subtree/\n",
    "class Solution:\n",
    "    def maximumAverageSubtree(self, root: TreeNode) -> float:\n",
    "        ma = [float('-inf')]\n",
    "        \n",
    "        def helper(root):\n",
    "            \n",
    "            if root is None:\n",
    "                return None\n",
    "            l,r = [],[]\n",
    "            \n",
    "            if root.left is not None:\n",
    "                l = helper(root.left)\n",
    "                ma[0] = max(ma[0],sum(l)/len(l))\n",
    "            if root.right is not None:\n",
    "                r = helper(root.right)\n",
    "                ma[0]=max(ma[0],sum(r)/len(r))\n",
    "            \n",
    "            return l+[root.val]+r\n",
    "        \n",
    "        h = helper(root)\n",
    "        if h is not None:\n",
    "            ma[0] = max(ma[0], sum(h)/len(h))\n",
    "        return ma[0]\n",
    "    \n",
    "# https://leetcode.com/discuss/interview-question/349617    \n",
    "    \n"
   ]
  },
  {
   "cell_type": "code",
   "execution_count": null,
   "metadata": {},
   "outputs": [],
   "source": []
  },
  {
   "cell_type": "code",
   "execution_count": 35,
   "metadata": {
    "ExecuteTime": {
     "end_time": "2020-04-07T15:50:46.700000Z",
     "start_time": "2020-04-07T15:50:46.693000Z"
    }
   },
   "outputs": [
    {
     "data": {
      "text/plain": [
       "[[0, 3], [1, 2], [2, 1], [3, 0]]"
      ]
     },
     "execution_count": 35,
     "metadata": {},
     "output_type": "execute_result"
    }
   ],
   "source": [
    "x=[[0,3],[1,2],[2,1],[3,0]]\n",
    "heapq.heapify(x)\n",
    "x"
   ]
  },
  {
   "cell_type": "code",
   "execution_count": null,
   "metadata": {},
   "outputs": [],
   "source": []
  },
  {
   "cell_type": "code",
   "execution_count": 31,
   "metadata": {
    "ExecuteTime": {
     "end_time": "2020-04-07T00:50:28.490000Z",
     "start_time": "2020-04-07T00:50:28.464000Z"
    }
   },
   "outputs": [
    {
     "data": {
      "text/plain": [
       "[[1, 2], [1, 1], [2, 1], [2, 2]]"
      ]
     },
     "execution_count": 31,
     "metadata": {},
     "output_type": "execute_result"
    }
   ],
   "source": [
    "a = [ [1, 5], [2, 5] ]\n",
    "b = [ [1, 5], [2, 5] ]\n",
    "target = 11\n",
    "a= sorted(a, key=lambda l:[l[1]])\n",
    "b = sorted(b, key=lambda l:[l[1]])\n",
    "\n",
    "l,r = 0,len(b)-1\n",
    "\n",
    "res = dict()\n",
    "mdiff = float('inf')\n",
    "while l< len(a) and r>=0:\n",
    "    diff = target-a[l][1]-b[r][1]\n",
    "    if diff < mdiff and diff >=0:\n",
    "        res[diff] = {'a': [a[l][0]], 'b':[b[r][0]]}\n",
    "        if mdiff != float('inf'):\n",
    "            del res[mdiff]\n",
    "        mdiff = diff\n",
    "    elif diff == mdiff:\n",
    "        res[mdiff]['a'].append(a[l][0])\n",
    "        res[mdiff]['b'].append(b[r][0])\n",
    "    if diff<0:\n",
    "        r-=1\n",
    "    elif diff >0:\n",
    "        if r>0 and b[r][1] == b[r-1][1]:\n",
    "            r-=1\n",
    "        elif l<len(a)-1 and a[l][1] == a[l+1][1]:\n",
    "            l+=1\n",
    "        else:\n",
    "            l+=1\n",
    "    else:\n",
    "        l+=1\n",
    "_ = set()\n",
    "for _a in res[mdiff]['a']:\n",
    "    for _b in res[mdiff]['b']:\n",
    "        _.add((_a, _b))\n",
    "              \n",
    "[list(x) for x in _]"
   ]
  },
  {
   "cell_type": "code",
   "execution_count": 32,
   "metadata": {
    "ExecuteTime": {
     "end_time": "2020-04-07T01:03:26.399000Z",
     "start_time": "2020-04-07T01:03:26.396000Z"
    }
   },
   "outputs": [],
   "source": [
    "[1,2,3].remove(3)"
   ]
  },
  {
   "cell_type": "code",
   "execution_count": 91,
   "metadata": {
    "ExecuteTime": {
     "end_time": "2020-04-06T21:22:56.824000Z",
     "start_time": "2020-04-06T21:22:56.811000Z"
    }
   },
   "outputs": [
    {
     "name": "stdout",
     "output_type": "stream",
     "text": [
      "(0, 2, 4)\n",
      "(3, 3, 4)\n"
     ]
    },
    {
     "data": {
      "text/plain": [
       "8"
      ]
     },
     "execution_count": 91,
     "metadata": {},
     "output_type": "execute_result"
    }
   ],
   "source": [
    "a=[1,3,5,8,9]\n",
    "tar = 6\n",
    "s,e = 0, len(a)-1\n",
    "while s<e:\n",
    "    mid = (s+e)//2\n",
    "    print(s,mid,e)\n",
    "    if a[mid]==tar:\n",
    "        break\n",
    "    elif a[mid]<tar:\n",
    "        s=mid+1\n",
    "    else:\n",
    "        e=mid-1\n",
    "a[mid]\n"
   ]
  },
  {
   "cell_type": "code",
   "execution_count": 76,
   "metadata": {
    "ExecuteTime": {
     "end_time": "2020-04-06T21:04:56.127000Z",
     "start_time": "2020-04-06T21:04:56.122000Z"
    }
   },
   "outputs": [
    {
     "name": "stdout",
     "output_type": "stream",
     "text": [
      "True\n"
     ]
    }
   ],
   "source": [
    "if 1 is not None:\n",
    "    print(True)"
   ]
  },
  {
   "cell_type": "code",
   "execution_count": 71,
   "metadata": {
    "ExecuteTime": {
     "end_time": "2020-04-06T16:26:43.545000Z",
     "start_time": "2020-04-06T16:26:43.538000Z"
    }
   },
   "outputs": [
    {
     "data": {
      "text/plain": [
       "''"
      ]
     },
     "execution_count": 71,
     "metadata": {},
     "output_type": "execute_result"
    }
   ],
   "source": [
    "f= lambda x: (''.join([_ if _.isalnum() else '$' for _ in x]).split('$')+[''])[0]\n",
    "f('')"
   ]
  },
  {
   "cell_type": "code",
   "execution_count": 56,
   "metadata": {
    "ExecuteTime": {
     "end_time": "2020-04-06T15:53:56.338000Z",
     "start_time": "2020-04-06T15:53:56.329000Z"
    }
   },
   "outputs": [
    {
     "data": {
      "text/plain": [
       "[2, 5]"
      ]
     },
     "execution_count": 56,
     "metadata": {},
     "output_type": "execute_result"
    }
   ],
   "source": [
    "d = {1:3, 2:0, 5:-1}\n",
    "f= lambda x: x**2\n",
    "heapq.nsmallest(2, d, key=lambda k:[f(d[k])])"
   ]
  },
  {
   "cell_type": "code",
   "execution_count": 58,
   "metadata": {
    "ExecuteTime": {
     "end_time": "2020-04-06T16:19:15.829000Z",
     "start_time": "2020-04-06T16:19:15.825000Z"
    }
   },
   "outputs": [],
   "source": [
    "s=''\n",
    "s.is"
   ]
  },
  {
   "cell_type": "code",
   "execution_count": 41,
   "metadata": {
    "ExecuteTime": {
     "end_time": "2020-04-05T23:03:13.935000Z",
     "start_time": "2020-04-05T23:03:13.927000Z"
    }
   },
   "outputs": [
    {
     "data": {
      "text/plain": [
       "[[5, 6], [3, 4]]"
      ]
     },
     "execution_count": 41,
     "metadata": {},
     "output_type": "execute_result"
    }
   ],
   "source": [
    "c = [[1,9], [3,4]]\n",
    "heapq.heappush(c,[5,6])\n",
    "heapq.heappop(c)\n",
    "heapq.nlargest(2,c)"
   ]
  },
  {
   "cell_type": "code",
   "execution_count": 42,
   "metadata": {
    "ExecuteTime": {
     "end_time": "2020-04-05T23:03:14.468000Z",
     "start_time": "2020-04-05T23:03:14.463000Z"
    }
   },
   "outputs": [
    {
     "name": "stdout",
     "output_type": "stream",
     "text": [
      "1\n"
     ]
    }
   ],
   "source": [
    "collections.deque\n",
    "print(3>>1)"
   ]
  },
  {
   "cell_type": "code",
   "execution_count": 43,
   "metadata": {
    "ExecuteTime": {
     "end_time": "2020-04-05T23:03:14.865000Z",
     "start_time": "2020-04-05T23:03:14.857000Z"
    }
   },
   "outputs": [
    {
     "name": "stdout",
     "output_type": "stream",
     "text": [
      "[1]\n",
      "[2]\n",
      "[3]\n"
     ]
    },
    {
     "data": {
      "text/plain": [
       "8"
      ]
     },
     "execution_count": 43,
     "metadata": {},
     "output_type": "execute_result"
    }
   ],
   "source": [
    "def f(i, called=[0]):\n",
    "    called.append(called.pop()+1)\n",
    "    print(called)\n",
    "    return i\n",
    "\n",
    "f(3)\n",
    "f(7)\n",
    "f(8)"
   ]
  },
  {
   "cell_type": "code",
   "execution_count": 44,
   "metadata": {
    "ExecuteTime": {
     "end_time": "2020-04-05T23:03:15.205000Z",
     "start_time": "2020-04-05T23:03:15.199000Z"
    }
   },
   "outputs": [
    {
     "name": "stdout",
     "output_type": "stream",
     "text": [
      "([1, 2], [3, 4])\n",
      "([1, 2], [5, 6])\n",
      "([3, 4], [5, 6])\n"
     ]
    }
   ],
   "source": [
    "a=[[1,2], [3,4], [5,6]]\n",
    "for i,j in itertools.combinations([0,1,2],2):\n",
    "    print(a[i],a[j])"
   ]
  },
  {
   "cell_type": "code",
   "execution_count": 45,
   "metadata": {
    "ExecuteTime": {
     "end_time": "2020-04-05T23:03:15.644000Z",
     "start_time": "2020-04-05T23:03:15.639000Z"
    }
   },
   "outputs": [
    {
     "name": "stdout",
     "output_type": "stream",
     "text": [
      "False\n"
     ]
    }
   ],
   "source": [
    "if None:\n",
    "    print(True)\n",
    "else:\n",
    "    print(False)"
   ]
  },
  {
   "cell_type": "code",
   "execution_count": 33,
   "metadata": {
    "ExecuteTime": {
     "end_time": "2020-04-04T19:12:22.339000Z",
     "start_time": "2020-04-04T19:12:22.329000Z"
    }
   },
   "outputs": [
    {
     "data": {
      "text/plain": [
       "['1']"
      ]
     },
     "execution_count": 33,
     "metadata": {},
     "output_type": "execute_result"
    }
   ],
   "source": [
    "if True:\n",
    "    number =1\n",
    "    result = []\n",
    "    queue = collections.deque()\n",
    "    queue.append(1)\n",
    "    for i in range(number):\n",
    "        result.append(str(queue.popleft()))\n",
    "        s1 = result[i] + \"0\"\n",
    "        s2 = result[i] + \"1\"\n",
    "        queue.append(s1)\n",
    "        queue.append(s2)\n",
    "result"
   ]
  },
  {
   "cell_type": "code",
   "execution_count": 11,
   "metadata": {
    "ExecuteTime": {
     "end_time": "2020-04-04T14:40:43.646000Z",
     "start_time": "2020-04-04T14:40:43.641000Z"
    }
   },
   "outputs": [
    {
     "name": "stdout",
     "output_type": "stream",
     "text": [
      "[2, 2]\n",
      "4\n"
     ]
    }
   ],
   "source": [
    "a=[2,2,2]\n",
    "a.remove(2)\n",
    "a.reverse()\n",
    "print(a)\n",
    "print(reduce(lambda x,y:x*y, a))"
   ]
  },
  {
   "cell_type": "code",
   "execution_count": 16,
   "metadata": {
    "ExecuteTime": {
     "end_time": "2020-04-04T15:13:52.795000Z",
     "start_time": "2020-04-04T15:13:52.787000Z"
    }
   },
   "outputs": [
    {
     "data": {
      "text/plain": [
       "[2, 2]"
      ]
     },
     "execution_count": 16,
     "metadata": {},
     "output_type": "execute_result"
    }
   ],
   "source": [
    "a=[2,2,2]\n",
    "m=a[1:]\n",
    "a[1] =4\n",
    "m"
   ]
  },
  {
   "cell_type": "code",
   "execution_count": 13,
   "metadata": {
    "ExecuteTime": {
     "end_time": "2020-04-04T15:01:23.599000Z",
     "start_time": "2020-04-04T15:01:23.590000Z"
    }
   },
   "outputs": [
    {
     "data": {
      "text/plain": [
       "[-6, -2, 3, 4, 7]"
      ]
     },
     "execution_count": 13,
     "metadata": {},
     "output_type": "execute_result"
    }
   ],
   "source": [
    "lst=[3,4,-2,7,-6]\n",
    "lst = [[x,i] for i,x in enumerate(lst)]\n",
    "[x[0] for x in sorted(lst, key=lambda l:[l[0],l[1]])]\n"
   ]
  },
  {
   "cell_type": "code",
   "execution_count": 4,
   "metadata": {
    "ExecuteTime": {
     "end_time": "2020-04-04T02:09:45.647000Z",
     "start_time": "2020-04-04T02:09:45.639000Z"
    }
   },
   "outputs": [
    {
     "data": {
      "text/plain": [
       "2"
      ]
     },
     "execution_count": 4,
     "metadata": {},
     "output_type": "execute_result"
    }
   ],
   "source": [
    "d={1:2}\n",
    "d.get(1)"
   ]
  },
  {
   "cell_type": "code",
   "execution_count": null,
   "metadata": {
    "ExecuteTime": {
     "end_time": "2020-04-04T01:49:49.480000Z",
     "start_time": "2020-04-04T01:49:49.473000Z"
    }
   },
   "outputs": [],
   "source": [
    "reduce(operator.and_, [True, True])"
   ]
  },
  {
   "cell_type": "code",
   "execution_count": null,
   "metadata": {
    "ExecuteTime": {
     "end_time": "2020-04-04T01:49:50.866000Z",
     "start_time": "2020-04-04T01:49:50.857000Z"
    }
   },
   "outputs": [],
   "source": [
    "float(0.1)"
   ]
  },
  {
   "cell_type": "code",
   "execution_count": null,
   "metadata": {
    "ExecuteTime": {
     "end_time": "2020-04-04T01:49:51.344000Z",
     "start_time": "2020-04-04T01:49:51.338000Z"
    }
   },
   "outputs": [],
   "source": [
    "set(itertools.permutations([1,0,-1,1,-1],2))"
   ]
  },
  {
   "cell_type": "code",
   "execution_count": null,
   "metadata": {
    "ExecuteTime": {
     "end_time": "2020-04-04T01:49:51.937000Z",
     "start_time": "2020-04-04T01:49:51.929000Z"
    }
   },
   "outputs": [],
   "source": [
    "set(list(itertools.permutations([1,0],2))+list(itertools.permutations([0,-1],2)))"
   ]
  },
  {
   "cell_type": "code",
   "execution_count": null,
   "metadata": {
    "ExecuteTime": {
     "end_time": "2020-04-02T12:25:03.060000Z",
     "start_time": "2020-04-02T12:25:03.050000Z"
    }
   },
   "outputs": [],
   "source": [
    "def test(n):\n",
    "    v = set()\n",
    "    while n not in v:\n",
    "        if n == 1:\n",
    "            return True\n",
    "        v.add(n)\n",
    "        res = 0\n",
    "        while n != 0:\n",
    "            res += (n%10) **2\n",
    "            n = n/10\n",
    "        n = res\n",
    "    return False\n",
    "test(2)"
   ]
  },
  {
   "cell_type": "code",
   "execution_count": null,
   "metadata": {
    "ExecuteTime": {
     "end_time": "2020-04-01T15:18:23.200000Z",
     "start_time": "2020-04-01T15:18:23.196000Z"
    }
   },
   "outputs": [],
   "source": [
    "s = '[{\"ok\":1}]'\n",
    "print(json.loads(s))"
   ]
  },
  {
   "cell_type": "code",
   "execution_count": null,
   "metadata": {
    "ExecuteTime": {
     "end_time": "2020-04-02T00:09:09.965000Z",
     "start_time": "2020-04-02T00:09:09.957000Z"
    }
   },
   "outputs": [],
   "source": [
    "l = [[1,4],\n",
    "    [3,2]]\n",
    "sorted(l, key=lambda l:[l[1], l[0]])"
   ]
  },
  {
   "cell_type": "code",
   "execution_count": null,
   "metadata": {
    "ExecuteTime": {
     "end_time": "2020-03-31T19:49:32.658000Z",
     "start_time": "2020-03-31T19:49:32.648000Z"
    }
   },
   "outputs": [],
   "source": [
    "a = [3,2,1,0]\n",
    "a[:3] = sorted(a[:3])\n",
    "print(a)"
   ]
  },
  {
   "cell_type": "code",
   "execution_count": null,
   "metadata": {
    "ExecuteTime": {
     "end_time": "2020-03-31T16:49:51.929000Z",
     "start_time": "2020-03-31T16:49:51.921000Z"
    }
   },
   "outputs": [],
   "source": [
    "a =[1,2,3]"
   ]
  },
  {
   "cell_type": "code",
   "execution_count": null,
   "metadata": {
    "ExecuteTime": {
     "end_time": "2020-03-31T15:46:10.174000Z",
     "start_time": "2020-03-31T15:46:10.155000Z"
    }
   },
   "outputs": [],
   "source": [
    "def criticalConnections(n,connections):\n",
    "        net = dict()\n",
    "        for c in connections:\n",
    "            if c[0] not in net:\n",
    "                net[c[0]] = set()\n",
    "            if c[1] not in net:\n",
    "                net[c[1]] = set()\n",
    "            net[c[0]].add(c[1])\n",
    "            net[c[1]].add(c[0])\n",
    "#         print(net)\n",
    "        \n",
    "        def is_critical(start, target):\n",
    "            v = set([start])\n",
    "            stack = list()\n",
    "            for node in net[start]:\n",
    "                if node != target:\n",
    "                    stack.append(node)\n",
    "#             print(stack)\n",
    "            while stack != []:\n",
    "                node = stack.pop()\n",
    "#                 print(stack,node)\n",
    "                if node == target:\n",
    "                    return False\n",
    "                v.add(node)\n",
    "                for cn in net[node]:\n",
    "                    if cn not in v:\n",
    "                        stack.append(cn)\n",
    "            return True\n",
    "        \n",
    "#         return is_critical(1,3)\n",
    "        \n",
    "        res = list()\n",
    "        for c in connections:\n",
    "            if is_critical(c[0], c[1]):\n",
    "                res.append(c)\n",
    "        return res\n",
    "        \n",
    "print(criticalConnections(4, [[0,1],[1,2],[1,3],[1,4],[4,5],[1,5]]))"
   ]
  },
  {
   "cell_type": "code",
   "execution_count": null,
   "metadata": {
    "ExecuteTime": {
     "end_time": "2020-03-31T13:56:25.072000Z",
     "start_time": "2020-03-31T13:56:25.067000Z"
    }
   },
   "outputs": [],
   "source": []
  },
  {
   "cell_type": "code",
   "execution_count": null,
   "metadata": {},
   "outputs": [],
   "source": []
  }
 ],
 "metadata": {
  "kernelspec": {
   "display_name": "Python 3",
   "language": "python",
   "name": "python3"
  },
  "language_info": {
   "codemirror_mode": {
    "name": "ipython",
    "version": 3
   },
   "file_extension": ".py",
   "mimetype": "text/x-python",
   "name": "python",
   "nbconvert_exporter": "python",
   "pygments_lexer": "ipython3",
   "version": "3.8.3"
  },
  "nbTranslate": {
   "displayLangs": [
    "*"
   ],
   "hotkey": "alt-t",
   "langInMainMenu": true,
   "sourceLang": "en",
   "targetLang": "fr",
   "useGoogleTranslate": true
  },
  "toc": {
   "base_numbering": 1,
   "nav_menu": {},
   "number_sections": true,
   "sideBar": true,
   "skip_h1_title": false,
   "title_cell": "Table of Contents",
   "title_sidebar": "Contents",
   "toc_cell": false,
   "toc_position": {},
   "toc_section_display": true,
   "toc_window_display": false
  }
 },
 "nbformat": 4,
 "nbformat_minor": 2
}
