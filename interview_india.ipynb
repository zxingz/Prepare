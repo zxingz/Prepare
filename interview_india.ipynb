{
 "cells": [
  {
   "cell_type": "code",
   "execution_count": 77,
   "metadata": {},
   "outputs": [],
   "source": [
    "import numpy as np\n",
    "import matplotlib.pylab as pl\n",
    "import matplotlib.pyplot as plt\n",
    "from IPython.display import display, HTML, clear_output\n",
    "import time\n",
    "import collections\n",
    "import heapq\n",
    "import pandas as pd\n",
    "import numpy as np\n",
    "import networkx as nx\n",
    "import matplotlib.pyplot as plt\n",
    "\n",
    "\n",
    "\n",
    "def display_matrix(matrix):\n",
    "    rows = len(matrix)\n",
    "    columns = len(matrix[0])\n",
    "    pl.figure()\n",
    "    tb = pl.table(cellText=matrix, loc=(0,0), cellLoc='center')\n",
    "    tc = tb.properties()['children']\n",
    "    for cell in tc: \n",
    "        cell.set_height(1/rows)\n",
    "        cell.set_width(1/columns)\n",
    "    ax = pl.gca()\n",
    "    ax.set_xticks([])\n",
    "    ax.set_yticks([])\n",
    "    \n",
    "def draw_graph(edges, edge_labels=None):\n",
    "    G = nx.Graph()\n",
    "    G.add_edges_from(edges)\n",
    "    pos = nx.spring_layout(G)\n",
    "    plt.figure()    \n",
    "    nx.draw(G,pos,edge_color='black',width=1,linewidths=1,\\\n",
    "    node_size=500,node_color='pink',alpha=0.9,\\\n",
    "    labels={node:node for node in G.nodes()})\n",
    "    if edge_labels is None:\n",
    "        edge_labels = {tuple(edge): str(edge[0]+'-'+str(edge[1])) for edge in edges}\n",
    "    else:\n",
    "        edge_labels = {tuple(edges[i]):edge_labels[i] for i in range(len(edges))}\n",
    "    nx.draw_networkx_edge_labels(G,pos,edge_labels=edge_labels,font_color='red')\n",
    "    plt.axis('off')\n",
    "    plt.show()\n",
    "\n",
    "    \n",
    "def draw_tree(tree, binary=True):\n",
    "\n",
    "    def hierarchy_pos(G, root=None, width=1., vert_gap = 0.2, vert_loc = 0, xcenter = 0.5):\n",
    "\n",
    "        '''\n",
    "        From Joel's answer at https://stackoverflow.com/a/29597209/2966723.  \n",
    "        Licensed under Creative Commons Attribution-Share Alike \n",
    "\n",
    "        If the graph is a tree this will return the positions to plot this in a \n",
    "        hierarchical layout.\n",
    "\n",
    "        G: the graph (must be a tree)\n",
    "\n",
    "        root: the root node of current branch \n",
    "        - if the tree is directed and this is not given, \n",
    "          the root will be found and used\n",
    "        - if the tree is directed and this is given, then \n",
    "          the positions will be just for the descendants of this node.\n",
    "        - if the tree is undirected and not given, \n",
    "          then a random choice will be used.\n",
    "\n",
    "        width: horizontal space allocated for this branch - avoids overlap with other branches\n",
    "\n",
    "        vert_gap: gap between levels of hierarchy\n",
    "\n",
    "        vert_loc: vertical location of root\n",
    "\n",
    "        xcenter: horizontal location of root\n",
    "        '''\n",
    "        if not nx.is_tree(G):\n",
    "            raise TypeError('cannot use hierarchy_pos on a graph that is not a tree')\n",
    "\n",
    "        if root is None:\n",
    "            if isinstance(G, nx.DiGraph):\n",
    "                root = next(iter(nx.topological_sort(G)))  #allows back compatibility with nx version 1.11\n",
    "            else:\n",
    "                root = random.choice(list(G.nodes))\n",
    "\n",
    "        def _hierarchy_pos(G, root, width=1., vert_gap = 0.2, vert_loc = 0, xcenter = 0.5, pos = None, parent = None):\n",
    "            '''\n",
    "            see hierarchy_pos docstring for most arguments\n",
    "\n",
    "            pos: a dict saying where all nodes go if they have been assigned\n",
    "            parent: parent of this branch. - only affects it if non-directed\n",
    "\n",
    "            '''\n",
    "\n",
    "            if pos is None:\n",
    "                pos = {root:(xcenter,vert_loc)}\n",
    "            else:\n",
    "                pos[root] = (xcenter, vert_loc)\n",
    "            children = list(G.neighbors(root))\n",
    "            if not isinstance(G, nx.DiGraph) and parent is not None:\n",
    "                children.remove(parent)  \n",
    "            if len(children)!=0:\n",
    "                dx = width/len(children) \n",
    "                nextx = xcenter - width/2 - dx/2\n",
    "                for child in children:\n",
    "                    nextx += dx\n",
    "                    pos = _hierarchy_pos(G,child, width = dx, vert_gap = vert_gap, \n",
    "                                        vert_loc = vert_loc-vert_gap, xcenter=nextx,\n",
    "                                        pos=pos, parent = root)\n",
    "            return pos\n",
    "\n",
    "\n",
    "        return _hierarchy_pos(G, root, width, vert_gap, vert_loc, xcenter)\n",
    "    \n",
    "    \n",
    "    if binary:\n",
    "        edges = []\n",
    "        node_map = {}\n",
    "        for i in range(1,len(tree)):\n",
    "            if tree[i] not in node_map:\n",
    "                node_map[tree[i]] = ord('a')\n",
    "            else:\n",
    "                node_map[tree[i]] +=1\n",
    "            tree[i] = str(tree[i])+chr(node_map[tree[i]])\n",
    "        curr = 1\n",
    "        for i in range(len(tree)):\n",
    "            for j in range(0, 2):\n",
    "                if curr>=len(tree):\n",
    "                    pass\n",
    "                else:\n",
    "                    edges.append([tree[i], tree[curr]])\n",
    "                    curr+=1\n",
    "        tree = edges\n",
    "    G=nx.Graph()\n",
    "    G.add_edges_from(tree)\n",
    "    pos = hierarchy_pos(G,1)    \n",
    "    nx.draw(G, pos=pos, with_labels=True)\n",
    "    plt.axis('off')\n",
    "    plt.show()"
   ]
  },
  {
   "cell_type": "code",
   "execution_count": 78,
   "metadata": {},
   "outputs": [
    {
     "data": {
      "image/png": "[encoded data removed]",
      "text/plain": [
       "<Figure size 432x288 with 1 Axes>"
      ]
     },
     "metadata": {},
     "output_type": "display_data"
    }
   ],
   "source": [
    "display_matrix([[1,2,3],[4,5,6]])"
   ]
  },
  {
   "cell_type": "code",
   "execution_count": 79,
   "metadata": {},
   "outputs": [
    {
     "data": {
      "image/png": "[encoded data removed]",
      "text/plain": [
       "<Figure size 432x288 with 1 Axes>"
      ]
     },
     "metadata": {},
     "output_type": "display_data"
    }
   ],
   "source": [
    "draw_graph([['A','B'],['B','C'],['B',9]], [1, 2, 3])"
   ]
  },
  {
   "cell_type": "code",
   "execution_count": 80,
   "metadata": {},
   "outputs": [
    {
     "data": {
      "image/png": "[encoded data removed]",
      "text/plain": [
       "<Figure size 432x288 with 1 Axes>"
      ]
     },
     "metadata": {},
     "output_type": "display_data"
    },
    {
     "data": {
      "image/png": "[encoded data removed]",
      "text/plain": [
       "<Figure size 432x288 with 1 Axes>"
      ]
     },
     "metadata": {},
     "output_type": "display_data"
    },
    {
     "data": {
      "image/png": "[encoded data removed]",
      "text/plain": [
       "<Figure size 432x288 with 1 Axes>"
      ]
     },
     "metadata": {},
     "output_type": "display_data"
    }
   ],
   "source": [
    "draw_tree([1,2,2,3,4,4,3])\n",
    "draw_tree([1,2,2,None,3,None,3])\n",
    "draw_tree([[1,2], [1,3]], binary=False)"
   ]
  },
  {
   "cell_type": "code",
   "execution_count": null,
   "metadata": {},
   "outputs": [],
   "source": []
  }
 ],
 "metadata": {
  "kernelspec": {
   "display_name": "Python 3",
   "language": "python",
   "name": "python3"
  },
  "language_info": {
   "codemirror_mode": {
    "name": "ipython",
    "version": 3
   },
   "file_extension": ".py",
   "mimetype": "text/x-python",
   "name": "python",
   "nbconvert_exporter": "python",
   "pygments_lexer": "ipython3",
   "version": "3.8.3"
  }
 },
 "nbformat": 4,
 "nbformat_minor": 4
}
